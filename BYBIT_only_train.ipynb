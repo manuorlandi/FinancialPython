{
 "cells": [
  {
   "cell_type": "code",
   "execution_count": 16,
   "id": "ac6d0c6a",
   "metadata": {},
   "outputs": [
    {
     "name": "stdout",
     "output_type": "stream",
     "text": [
      "/home/themanuello/Documents/repo/FinancialPython/algo_code\n"
     ]
    },
    {
     "name": "stderr",
     "output_type": "stream",
     "text": [
      "/home/themanuello/.cache/pypoetry/virtualenvs/financialpython-cSpIym4p-py3.10/lib/python3.10/site-packages/IPython/core/magics/osm.py:417: UserWarning: This is now an optional IPython functionality, setting dhist requires you to install the `pickleshare` library.\n",
      "  self.shell.db['dhist'] = compress_dhist(dhist)[-100:]\n"
     ]
    }
   ],
   "source": [
    "%cd algo_code"
   ]
  },
  {
   "cell_type": "code",
   "execution_count": 18,
   "id": "8736073a",
   "metadata": {},
   "outputs": [],
   "source": [
    "import numpy as np\n",
    "import polars as pl\n",
    "import sys, os\n",
    "import datetime as dt\n",
    "from sklearn.model_selection import TimeSeriesSplit\n",
    "from pathlib import Path\n",
    "from pybit.unified_trading import HTTP\n",
    "import xgboost as xgb\n",
    "from sklearn.model_selection import train_test_split\n",
    "\n",
    "import matplotlib.pyplot as plt\n",
    "import plotly.express as px\n",
    "from statsmodels.graphics.tsaplots import plot_pacf\n",
    "from statsmodels.tsa.stattools import pacf, acf\n",
    "from statsmodels.tsa.api import VAR\n",
    "from scipy.stats import norm\n",
    "\n",
    "from algo_code import DATA_PATH\n",
    "from algo_code.feature_engineering import split_target_features\n"
   ]
  },
  {
   "cell_type": "code",
   "execution_count": 45,
   "id": "7559a9e2",
   "metadata": {},
   "outputs": [],
   "source": [
    "p = {  \n",
    "    'eval_metric':'auc',\n",
    "    'tree_method':'hist',\n",
    "    # 'lambda':5,\n",
    "    #'gamma':2,\n",
    "    'max_depth':5,\n",
    "    # 'scale_pos_weight':2,\n",
    "    'objective':'binary:logistic',\n",
    "    'subsample': .8,\n",
    "    # 'colsample_bytree': .9,\n",
    "    'min_child_weight':1,\n",
    "    'eta':0.02,\n",
    "    'n_estimators':2000\n",
    "}\n",
    "\n",
    "\n",
    "def polars_time_series_cross_val(df: pl.DataFrame, features: list, target_var: str, n_splits: int = 5):\n",
    "    n_symbols = df[\"symbol\"].n_unique()\n",
    "    tscv = TimeSeriesSplit(n_splits=n_splits, test_size=720*n_symbols)\n",
    "    model = xgb.XGBClassifier(**p)  # Set optimal hyperparameters here\n",
    "\n",
    "    # Cross-validation to find the best hyperparameters\n",
    "    for train_index, test_index in tscv.split(df):\n",
    "        train_data = df.slice(train_index[0], len(train_index))\n",
    "        test_data = df.slice(test_index[0], len(test_index))\n",
    "        print(f\"Test Start: {train_data['date'].min()}\")\n",
    "        print(f\"Test end: {train_data['date'].max()}\")\n",
    "        \n",
    "        # Splitting features and labels\n",
    "        train_features, train_labels = split_target_features(\n",
    "            train_data.select(features + [target_var]),\n",
    "            target_var=target_var\n",
    "        )\n",
    "        val_features, val_labels = split_target_features(\n",
    "            test_data.select(features + [target_var]), \n",
    "            target_var=target_var\n",
    "        )\n",
    "\n",
    "        # Fit model (you can include hyperparameter tuning here)\n",
    "        model.fit(\n",
    "            train_features.to_pandas(),\n",
    "            train_labels.to_pandas(), \n",
    "            eval_set=[\n",
    "                (train_features.to_pandas(), train_labels.to_pandas()), \n",
    "                (val_features.to_pandas(), val_labels.to_pandas())\n",
    "            ], \n",
    "            verbose=500\n",
    "        )\n",
    "    \n",
    "    # This loop is only for cross-validation; the model will be re-trained below\n",
    "    return model\n",
    "\n",
    "# Final training using the entire dataset\n",
    "def train_final_model(df: pl.DataFrame, target_var: str):\n",
    "    model = xgb.XGBClassifier(**p)  # Set optimal hyperparameters here\n",
    "    features, labels = split_target_features(df, target_var=target_var)\n",
    "    # Train the final model on the entire dataset\n",
    "    model.fit(features.to_pandas(), labels.to_pandas(), verbose=1)\n",
    "    return model"
   ]
  },
  {
   "cell_type": "code",
   "execution_count": 38,
   "id": "41a24327",
   "metadata": {},
   "outputs": [],
   "source": [
    "df_train = pl.read_parquet(\"../data/train.parquet\")\n",
    "df_test = pl.read_parquet(\"../data/test.parquet\")"
   ]
  },
  {
   "cell_type": "code",
   "execution_count": 44,
   "id": "1f03de12",
   "metadata": {},
   "outputs": [
    {
     "data": {
      "text/html": [
       "<div><style>\n",
       ".dataframe > thead > tr,\n",
       ".dataframe > tbody > tr {\n",
       "  text-align: right;\n",
       "  white-space: pre-wrap;\n",
       "}\n",
       "</style>\n",
       "<small>shape: (5, 59)</small><table border=\"1\" class=\"dataframe\"><thead><tr><th>timestamp</th><th>open</th><th>high</th><th>low</th><th>close</th><th>volume</th><th>turnover</th><th>date</th><th>symbol</th><th>long_signal</th><th>short_signal</th><th>close_pct_change</th><th>volume_pct_change</th><th>turnover_pct_change</th><th>SMA_close_pct_change_13</th><th>SMA_close_13</th><th>SMA_close_pct_change_50</th><th>SMA_close_50</th><th>SMA_close_pct_change_100</th><th>SMA_close_100</th><th>SMA_close_pct_change_200</th><th>SMA_close_200</th><th>dow</th><th>month</th><th>hour</th><th>green_candle</th><th>red_candle</th><th>cons_green_candles</th><th>cons_red_candles</th><th>RSI_14</th><th>ema_short</th><th>ema_long</th><th>MACD</th><th>signal_line</th><th>macd_histogram</th><th>sma</th><th>std_dev</th><th>upper_band</th><th>lower_band</th><th>upper_band_pct_change</th><th>lower_band_pct_change</th><th>close_pct_change_lag_1</th><th>close_pct_change_lag_193</th><th>close_pct_change_lag_2</th><th>close_pct_change_lag_3</th><th>close_pct_change_lag_4</th><th>close_pct_change_lag_6</th><th>close_pct_change_lag_72</th><th>close_pct_change_lag_12</th><th>close_pct_change_lag_23</th><th>symbol_encoded</th><th>SP500_pct_change</th><th>NASDAQ_pct_change</th><th>VIX_pct_change</th><th>DXY_pct_change</th><th>US_FED_RATE</th><th>US_INFLATION</th><th>US_GDP</th><th>US_UNEMPLOYMENT</th></tr><tr><td>i64</td><td>f64</td><td>f64</td><td>f64</td><td>f64</td><td>f64</td><td>f64</td><td>datetime[μs]</td><td>str</td><td>i8</td><td>i8</td><td>f64</td><td>f64</td><td>f64</td><td>f64</td><td>f64</td><td>f64</td><td>f64</td><td>f64</td><td>f64</td><td>f64</td><td>f64</td><td>i8</td><td>i8</td><td>i8</td><td>i32</td><td>i32</td><td>i32</td><td>i32</td><td>f64</td><td>f64</td><td>f64</td><td>f64</td><td>f64</td><td>f64</td><td>f64</td><td>f64</td><td>f64</td><td>f64</td><td>f64</td><td>f64</td><td>f64</td><td>f64</td><td>f64</td><td>f64</td><td>f64</td><td>f64</td><td>f64</td><td>f64</td><td>f64</td><td>i32</td><td>f64</td><td>f64</td><td>f64</td><td>f64</td><td>f64</td><td>f64</td><td>f64</td><td>f64</td></tr></thead><tbody><tr><td>1673942400000</td><td>1563.3</td><td>1569.21</td><td>1562.52</td><td>1568.98</td><td>1295.04546</td><td>2.0276e6</td><td>2023-01-17 08:00:00</td><td>&quot;ETH&quot;</td><td>1</td><td>0</td><td>0.003633</td><td>0.299166</td><td>0.301393</td><td>-0.001069</td><td>1569.101538</td><td>0.000577</td><td>1555.79</td><td>0.001099</td><td>1524.0128</td><td>0.000986</td><td>1437.75195</td><td>2</td><td>1</td><td>8</td><td>0</td><td>1</td><td>0</td><td>1</td><td>54.09</td><td>1565.806034</td><td>1562.796544</td><td>3.00949</td><td>4.190794</td><td>-1.18</td><td>1565.5175</td><td>12.796795</td><td>1578.31</td><td>1552.72</td><td>0.000184</td><td>0.001735</td><td>0.002642</td><td>0.002323</td><td>-0.006721</td><td>0.001442</td><td>0.002443</td><td>0.004197</td><td>0.005618</td><td>-0.003073</td><td>0.004528</td><td>0</td><td>0.000643</td><td>0.001113</td><td>-0.002992</td><td>-0.001532</td><td>4.33</td><td>300.356</td><td>27164.359</td><td>3.4</td></tr><tr><td>1673942400000</td><td>0.3895</td><td>0.3909</td><td>0.388</td><td>0.3906</td><td>1.2801e6</td><td>498390.004613</td><td>2023-01-17 08:00:00</td><td>&quot;XRP&quot;</td><td>0</td><td>0</td><td>0.002824</td><td>0.370688</td><td>0.374446</td><td>-0.00036</td><td>0.386177</td><td>0.000205</td><td>0.38756</td><td>0.000367</td><td>0.387644</td><td>0.000628</td><td>0.374022</td><td>2</td><td>1</td><td>8</td><td>0</td><td>1</td><td>0</td><td>1</td><td>56.72</td><td>0.386976</td><td>0.387266</td><td>-0.00029</td><td>-0.000831</td><td>0.0</td><td>0.38672</td><td>0.003039</td><td>0.39</td><td>0.38</td><td>0.0</td><td>0.0</td><td>0.007762</td><td>0.001148</td><td>-0.001808</td><td>0.006499</td><td>0.003652</td><td>0.003678</td><td>0.008663</td><td>-0.004331</td><td>0.00417</td><td>3</td><td>0.000643</td><td>0.001113</td><td>-0.002992</td><td>-0.001532</td><td>4.33</td><td>300.356</td><td>27164.359</td><td>3.4</td></tr><tr><td>1673942400000</td><td>0.0622</td><td>0.06244</td><td>0.0622</td><td>0.06243</td><td>580319.29</td><td>36162.282904</td><td>2023-01-17 08:00:00</td><td>&quot;TRX&quot;</td><td>0</td><td>0</td><td>0.003698</td><td>-0.313457</td><td>-0.311505</td><td>-0.000313</td><td>0.062232</td><td>0.000093</td><td>0.062232</td><td>0.000841</td><td>0.061565</td><td>0.000716</td><td>0.058479</td><td>2</td><td>1</td><td>8</td><td>0</td><td>1</td><td>0</td><td>1</td><td>54.16</td><td>0.062208</td><td>0.062241</td><td>-0.000032</td><td>-0.000025</td><td>-0.0</td><td>0.062271</td><td>0.000328</td><td>0.06</td><td>0.06</td><td>0.0</td><td>0.0</td><td>0.00355</td><td>0.0</td><td>-0.000967</td><td>-0.000966</td><td>-0.000322</td><td>0.002906</td><td>0.004935</td><td>0.001914</td><td>0.000485</td><td>5</td><td>0.000643</td><td>0.001113</td><td>-0.002992</td><td>-0.001532</td><td>4.33</td><td>300.356</td><td>27164.359</td><td>3.4</td></tr><tr><td>1673942400000</td><td>21130.47</td><td>21205.47</td><td>21126.95</td><td>21201.43</td><td>193.277605</td><td>4.0924e6</td><td>2023-01-17 08:00:00</td><td>&quot;BTC&quot;</td><td>0</td><td>0</td><td>0.003358</td><td>0.280996</td><td>0.285055</td><td>-0.000383</td><td>21143.136923</td><td>0.00047</td><td>20980.3002</td><td>0.001215</td><td>20586.5423</td><td>0.001072</td><td>19122.1706</td><td>2</td><td>1</td><td>8</td><td>0</td><td>1</td><td>0</td><td>1</td><td>57.84</td><td>21128.197766</td><td>21078.67658</td><td>49.521186</td><td>55.936693</td><td>-6.42</td><td>21111.4125</td><td>122.315903</td><td>21233.73</td><td>20989.1</td><td>0.000191</td><td>0.001763</td><td>0.003086</td><td>0.000639</td><td>-0.00393</td><td>-0.000251</td><td>0.001318</td><td>0.003015</td><td>0.005207</td><td>-0.001146</td><td>0.00383</td><td>1</td><td>0.000643</td><td>0.001113</td><td>-0.002992</td><td>-0.001532</td><td>4.33</td><td>300.356</td><td>27164.359</td><td>3.4</td></tr><tr><td>1673942400000</td><td>85.88</td><td>86.28</td><td>85.87</td><td>86.27</td><td>1795.88947</td><td>154459.434182</td><td>2023-01-17 08:00:00</td><td>&quot;LTC&quot;</td><td>1</td><td>0</td><td>0.004541</td><td>0.845875</td><td>0.849575</td><td>-0.000754</td><td>85.918462</td><td>-0.000086</td><td>86.8914</td><td>0.000192</td><td>86.8595</td><td>0.000329</td><td>84.6848</td><td>2</td><td>1</td><td>8</td><td>0</td><td>1</td><td>0</td><td>1</td><td>49.79</td><td>85.976008</td><td>86.268083</td><td>-0.292074</td><td>-0.340271</td><td>0.05</td><td>86.149</td><td>0.516361</td><td>86.67</td><td>85.63</td><td>0.000115</td><td>0.000117</td><td>0.003505</td><td>0.000972</td><td>-0.005809</td><td>0.000814</td><td>0.008324</td><td>0.000117</td><td>0.007679</td><td>-0.00241</td><td>0.006202</td><td>7</td><td>0.000643</td><td>0.001113</td><td>-0.002992</td><td>-0.001532</td><td>4.33</td><td>300.356</td><td>27164.359</td><td>3.4</td></tr></tbody></table></div>"
      ],
      "text/plain": [
       "shape: (5, 59)\n",
       "┌────────────┬──────────┬──────────┬──────────┬───┬────────────┬───────────┬───────────┬───────────┐\n",
       "│ timestamp  ┆ open     ┆ high     ┆ low      ┆ … ┆ US_FED_RAT ┆ US_INFLAT ┆ US_GDP    ┆ US_UNEMPL │\n",
       "│ ---        ┆ ---      ┆ ---      ┆ ---      ┆   ┆ E          ┆ ION       ┆ ---       ┆ OYMENT    │\n",
       "│ i64        ┆ f64      ┆ f64      ┆ f64      ┆   ┆ ---        ┆ ---       ┆ f64       ┆ ---       │\n",
       "│            ┆          ┆          ┆          ┆   ┆ f64        ┆ f64       ┆           ┆ f64       │\n",
       "╞════════════╪══════════╪══════════╪══════════╪═══╪════════════╪═══════════╪═══════════╪═══════════╡\n",
       "│ 1673942400 ┆ 1563.3   ┆ 1569.21  ┆ 1562.52  ┆ … ┆ 4.33       ┆ 300.356   ┆ 27164.359 ┆ 3.4       │\n",
       "│ 000        ┆          ┆          ┆          ┆   ┆            ┆           ┆           ┆           │\n",
       "│ 1673942400 ┆ 0.3895   ┆ 0.3909   ┆ 0.388    ┆ … ┆ 4.33       ┆ 300.356   ┆ 27164.359 ┆ 3.4       │\n",
       "│ 000        ┆          ┆          ┆          ┆   ┆            ┆           ┆           ┆           │\n",
       "│ 1673942400 ┆ 0.0622   ┆ 0.06244  ┆ 0.0622   ┆ … ┆ 4.33       ┆ 300.356   ┆ 27164.359 ┆ 3.4       │\n",
       "│ 000        ┆          ┆          ┆          ┆   ┆            ┆           ┆           ┆           │\n",
       "│ 1673942400 ┆ 21130.47 ┆ 21205.47 ┆ 21126.95 ┆ … ┆ 4.33       ┆ 300.356   ┆ 27164.359 ┆ 3.4       │\n",
       "│ 000        ┆          ┆          ┆          ┆   ┆            ┆           ┆           ┆           │\n",
       "│ 1673942400 ┆ 85.88    ┆ 86.28    ┆ 85.87    ┆ … ┆ 4.33       ┆ 300.356   ┆ 27164.359 ┆ 3.4       │\n",
       "│ 000        ┆          ┆          ┆          ┆   ┆            ┆           ┆           ┆           │\n",
       "└────────────┴──────────┴──────────┴──────────┴───┴────────────┴───────────┴───────────┴───────────┘"
      ]
     },
     "execution_count": 44,
     "metadata": {},
     "output_type": "execute_result"
    }
   ],
   "source": [
    "df_train.head()"
   ]
  },
  {
   "cell_type": "markdown",
   "id": "8e50c6cc",
   "metadata": {},
   "source": [
    "# TRAIN"
   ]
  },
  {
   "cell_type": "code",
   "execution_count": 40,
   "id": "70d051b6",
   "metadata": {},
   "outputs": [
    {
     "name": "stdout",
     "output_type": "stream",
     "text": [
      "['close_pct_change', 'volume_pct_change', 'turnover_pct_change', 'SMA_close_pct_change_13', 'SMA_close_pct_change_50', 'SMA_close_pct_change_100', 'SMA_close_pct_change_200', 'upper_band_pct_change', 'lower_band_pct_change', 'close_pct_change_lag_1', 'close_pct_change_lag_193', 'close_pct_change_lag_2', 'close_pct_change_lag_3', 'close_pct_change_lag_4', 'close_pct_change_lag_6', 'close_pct_change_lag_72', 'close_pct_change_lag_12', 'close_pct_change_lag_23', 'SP500_pct_change', 'NASDAQ_pct_change', 'VIX_pct_change', 'DXY_pct_change', 'dow', 'hour', 'cons_green_candles', 'cons_red_candles', 'RSI_14', 'macd_histogram', 'symbol_encoded', 'US_FED_RATE', 'US_INFLATION', 'US_UNEMPLOYMENT']\n"
     ]
    }
   ],
   "source": [
    "FEATURES = [col for col in df_train.columns if \"pct_change\" in col] \\\n",
    "    + [\"dow\",\"hour\", \"cons_green_candles\", \"cons_red_candles\", \"RSI_14\", \"macd_histogram\"] \\\n",
    "    + [\"symbol_encoded\", \"US_FED_RATE\",\"US_INFLATION\",\"US_UNEMPLOYMENT\"]\n",
    "print(FEATURES)"
   ]
  },
  {
   "cell_type": "code",
   "execution_count": 46,
   "id": "4066426b",
   "metadata": {},
   "outputs": [
    {
     "name": "stdout",
     "output_type": "stream",
     "text": [
      "Test Start: 2023-01-17 08:00:00\n",
      "Test end: 2024-04-02 11:00:00\n",
      "[0]\tvalidation_0-auc:0.65386\tvalidation_1-auc:0.58764\n",
      "[500]\tvalidation_0-auc:0.82840\tvalidation_1-auc:0.62741\n",
      "[1000]\tvalidation_0-auc:0.87619\tvalidation_1-auc:0.62327\n",
      "[1500]\tvalidation_0-auc:0.90446\tvalidation_1-auc:0.62116\n",
      "[1999]\tvalidation_0-auc:0.92448\tvalidation_1-auc:0.61913\n",
      "Test Start: 2023-01-17 08:00:00\n",
      "Test end: 2024-05-02 11:00:00\n",
      "[0]\tvalidation_0-auc:0.64999\tvalidation_1-auc:0.61960\n",
      "[500]\tvalidation_0-auc:0.82589\tvalidation_1-auc:0.73601\n",
      "[1000]\tvalidation_0-auc:0.87183\tvalidation_1-auc:0.72734\n",
      "[1500]\tvalidation_0-auc:0.89941\tvalidation_1-auc:0.71943\n",
      "[1999]\tvalidation_0-auc:0.91920\tvalidation_1-auc:0.71262\n",
      "Test Start: 2023-01-17 08:00:00\n",
      "Test end: 2024-06-01 11:00:00\n",
      "[0]\tvalidation_0-auc:0.64916\tvalidation_1-auc:0.58298\n",
      "[500]\tvalidation_0-auc:0.82435\tvalidation_1-auc:0.68117\n",
      "[1000]\tvalidation_0-auc:0.87041\tvalidation_1-auc:0.66462\n",
      "[1500]\tvalidation_0-auc:0.89742\tvalidation_1-auc:0.65739\n",
      "[1999]\tvalidation_0-auc:0.91669\tvalidation_1-auc:0.65450\n",
      "Test Start: 2023-01-17 08:00:00\n",
      "Test end: 2024-07-01 11:00:00\n",
      "[0]\tvalidation_0-auc:0.64994\tvalidation_1-auc:0.59605\n",
      "[500]\tvalidation_0-auc:0.82390\tvalidation_1-auc:0.68091\n",
      "[1000]\tvalidation_0-auc:0.86827\tvalidation_1-auc:0.67139\n",
      "[1500]\tvalidation_0-auc:0.89577\tvalidation_1-auc:0.65753\n",
      "[1999]\tvalidation_0-auc:0.91504\tvalidation_1-auc:0.64872\n",
      "Test Start: 2023-01-17 08:00:00\n",
      "Test end: 2024-07-31 11:00:00\n",
      "[0]\tvalidation_0-auc:0.64923\tvalidation_1-auc:0.62110\n",
      "[500]\tvalidation_0-auc:0.81810\tvalidation_1-auc:0.62803\n",
      "[1000]\tvalidation_0-auc:0.86247\tvalidation_1-auc:0.61191\n",
      "[1500]\tvalidation_0-auc:0.89004\tvalidation_1-auc:0.60535\n",
      "[1999]\tvalidation_0-auc:0.90927\tvalidation_1-auc:0.60099\n",
      "Final Train\n"
     ]
    }
   ],
   "source": [
    "# Run cross-validation to tune hyperparameters\n",
    "cv_model = polars_time_series_cross_val(df_train, features=FEATURES, target_var='long_signal', n_splits=5)\n",
    "\n",
    "print(\"Final Train\")\n",
    "# Train the final model using the entire dataset\n",
    "final_model = train_final_model(df_train.select(FEATURES + [\"long_signal\"]), target_var='long_signal')"
   ]
  },
  {
   "cell_type": "code",
   "execution_count": 50,
   "id": "fe3b1ed0",
   "metadata": {},
   "outputs": [
    {
     "data": {
      "text/plain": [
       "2000"
      ]
     },
     "execution_count": 50,
     "metadata": {},
     "output_type": "execute_result"
    }
   ],
   "source": [
    "model = xgb.XGBClassifier(**p)  # Set optimal hyperparameters here\n",
    "train_features, train_labels = split_target_features(df_train.select(FEATURES + [\"long_signal\"]), target_var='long_signal')\n",
    "# Train the final model on the entire dataset\n",
    "model.fit(train_features.to_pandas(), train_labels.to_pandas(), verbose=True)\n",
    "model.get_num_boosting_rounds()"
   ]
  },
  {
   "cell_type": "code",
   "execution_count": 51,
   "id": "06546e42",
   "metadata": {},
   "outputs": [
    {
     "name": "stdout",
     "output_type": "stream",
     "text": [
      "AUC on Train 0.9047066873937188\n",
      "AUC on Test 0.6953777228976697\n"
     ]
    }
   ],
   "source": [
    "from sklearn.metrics import roc_auc_score\n",
    "y_hat = model.predict_proba(train_features.to_pandas())[:,1]\n",
    "print(f\"AUC on Train {roc_auc_score(train_labels.to_pandas(),y_hat)}\")\n",
    "test_features, test_labels = split_target_features(df_test.select(FEATURES + [\"long_signal\"]), target_var='long_signal')\n",
    "y_hat = model.predict_proba(test_features.to_pandas())[:,1]\n",
    "print(f\"AUC on Test {roc_auc_score(test_labels.to_pandas(),y_hat)}\")"
   ]
  },
  {
   "cell_type": "markdown",
   "id": "9d1ed9ed",
   "metadata": {},
   "source": [
    "# PLOT PRECISION OVER THRESHOLD\n"
   ]
  },
  {
   "cell_type": "code",
   "execution_count": 53,
   "id": "28a66c4b",
   "metadata": {},
   "outputs": [
    {
     "data": {
      "text/plain": [
       "<matplotlib.legend.Legend at 0x7ee675170520>"
      ]
     },
     "execution_count": 53,
     "metadata": {},
     "output_type": "execute_result"
    },
    {
     "data": {
      "image/png": "[encoded data removed]",
      "text/plain": [
       "<Figure size 1600x600 with 1 Axes>"
      ]
     },
     "metadata": {},
     "output_type": "display_data"
    }
   ],
   "source": [
    "from sklearn.metrics import precision_recall_curve\n",
    "precision, recall, thresholds = precision_recall_curve(test_labels.to_pandas(), y_hat)\n",
    "plt.figure(figsize=(16, 6))\n",
    "plt.plot(thresholds, precision[:-1], label='Precision')\n",
    "plt.plot(thresholds, recall[:-1], label='Recall')\n",
    "plt.xlabel('Threshold')\n",
    "plt.ylabel('Metric Value')\n",
    "plt.title('Precision and Recall over Threshold')\n",
    "plt.legend() "
   ]
  },
  {
   "cell_type": "code",
   "execution_count": 54,
   "id": "f20c38f4",
   "metadata": {},
   "outputs": [
    {
     "name": "stdout",
     "output_type": "stream",
     "text": [
      "Optimal Threshold: 0.036705270409584045\n"
     ]
    },
    {
     "data": {
      "text/plain": [
       "<matplotlib.legend.Legend at 0x7ee674dacfd0>"
      ]
     },
     "execution_count": 54,
     "metadata": {},
     "output_type": "execute_result"
    },
    {
     "data": {
      "image/png": "[encoded data removed]",
      "text/plain": [
       "<Figure size 1600x600 with 1 Axes>"
      ]
     },
     "metadata": {},
     "output_type": "display_data"
    }
   ],
   "source": [
    "# get the threshold that maximizes the sum of precision and recall\n",
    "optimal_threshold = thresholds[np.argmax(precision[:-1] + recall[:-1])]\n",
    "print(f\"Optimal Threshold: {optimal_threshold}\")\n",
    "\n",
    "# plot the precision and recall at the optimal threshold\n",
    "plt.figure(figsize=(16, 6))\n",
    "plt.plot(precision[:-1], recall[:-1], label='Precision-Recall Curve')\n",
    "plt.xlabel('Recall')\n",
    "plt.ylabel('Precision')\n",
    "plt.legend()"
   ]
  },
  {
   "cell_type": "code",
   "execution_count": 55,
   "id": "1476f012",
   "metadata": {},
   "outputs": [
    {
     "name": "stdout",
     "output_type": "stream",
     "text": [
      "TP:  shape: (1, 1)\n",
      "┌─────────────┐\n",
      "│ long_signal │\n",
      "│ ---         │\n",
      "│ i64         │\n",
      "╞═════════════╡\n",
      "│ 840         │\n",
      "└─────────────┘\n"
     ]
    },
    {
     "data": {
      "text/plain": [
       "array([[ 898, 4742],\n",
       "       [   8,  832]])"
      ]
     },
     "execution_count": 55,
     "metadata": {},
     "output_type": "execute_result"
    }
   ],
   "source": [
    "from sklearn.metrics import confusion_matrix\n",
    "print(\"TP: \",test_labels.sum())\n",
    "confusion_matrix(test_labels.to_pandas(), np.where(y_hat > optimal_threshold, 1, 0))"
   ]
  },
  {
   "cell_type": "code",
   "execution_count": 56,
   "id": "396a6e2f",
   "metadata": {},
   "outputs": [
    {
     "data": {
      "text/plain": [
       "array([[0.15921986, 0.84078014],\n",
       "       [0.00833333, 0.99166667]])"
      ]
     },
     "execution_count": 56,
     "metadata": {},
     "output_type": "execute_result"
    }
   ],
   "source": [
    "confusion_matrix(test_labels.to_pandas(), np.where(y_hat >= optimal_threshold, 1, 0), normalize='true')"
   ]
  },
  {
   "cell_type": "markdown",
   "id": "a75cbdcc",
   "metadata": {},
   "source": [
    "# NEXT STEP:\n",
    "# 1) split train validation test set\n",
    "# 2) rafforzare la cross validation\n",
    "# 3) backtestare strategia"
   ]
  },
  {
   "cell_type": "code",
   "execution_count": 58,
   "id": "859cbfbf",
   "metadata": {},
   "outputs": [],
   "source": [
    "import polars as pl\n",
    "import numpy as np\n",
    "import matplotlib.pyplot as plt\n",
    "\n",
    "def backtest_strategy(\n",
    "    df: pl.DataFrame,\n",
    "    # start_date: pl.Datetime,\n",
    "    # end_date: pl.Datetime,\n",
    "    signal_column: str = \"long_signal\",\n",
    "    pred_column: str = \"y_hat\",\n",
    "    investment_amount: int = 1000,\n",
    "    rr_ratio: int = 2,\n",
    "    optimal_threshold: float = 0.5\n",
    "):\n",
    "\n",
    "    # Filter the dataframe for the specified date range\n",
    "    # df_backtest = df.filter((pl.col('timestamp') >= start_date) & (pl.col('timestamp') <= end_date))\n",
    "    df_backtest = df\n",
    "    # Initialize portfolio value and position\n",
    "    initial_balance = investment_amount\n",
    "    pct_profit = .01 * rr_ratio\n",
    "    pct_loss = -pct_profit / rr_ratio\n",
    "    \n",
    "    # Calculate position changes\n",
    "    # df_backtest = df_backtest.with_columns([\n",
    "    #     pl.when((pl.col(signal_column) == 1) & (pl.col(pred_column) >= optimal_threshold))\n",
    "    #     .then(investment_amount / pl.col('close'))\n",
    "    #     .otherwise(0).alias('position_change'),\n",
    "    #     \n",
    "    #     pl.when((pl.col(signal_column) == -1) & (pl.col(pred_column) < optimal_threshold))\n",
    "    #     .then(-1)\n",
    "    #     .otherwise(0).alias('close_position')\n",
    "    # ])\n",
    "\n",
    "    position_return = initial_balance * pl.col(\"pct_return\")\n",
    "    compound_balance = initial_balance * (1 + pl.col(\"pct_return\")).cum_prod()\n",
    "    df_backtest = df_backtest.with_columns(\n",
    "        pl.when((pl.col(pred_column) == 1) & (pl.col(signal_column) == 1))\n",
    "        .then(pct_profit)\n",
    "        .when((pl.col(pred_column) == 1) & (pl.col(signal_column) == 0))\n",
    "        .then(pct_loss)\n",
    "        .otherwise(0)\n",
    "        .alias(\"pct_return\"),\n",
    "    ).with_columns(\n",
    "        (position_return).alias(\"position_return\"),\n",
    "        (initial_balance + position_return.cum_sum()).alias(\"balance\"),\n",
    "        (pl.col(\"pct_return\") * compound_balance.shift(1).fill_null(initial_balance)).alias(\"compound_position_return\"),\n",
    "        (compound_balance).alias(\"compound_balance\")\n",
    "    )\n",
    "\n",
    "    # Calculate returns\n",
    "    df_backtest = df_backtest.with_columns([\n",
    "        pl.col('balance').pct_change().alias('return')\n",
    "    ])\n",
    "\n",
    " \n",
    "    # Extract results\n",
    "    portfolio_values = df_backtest['balance'].to_list()\n",
    "    returns = df_backtest['balance'].drop_nulls().to_list()\n",
    "    \n",
    "    # Calculate metrics\n",
    "    total_return = (portfolio_values[-1] - initial_balance) / initial_balance\n",
    "    sharpe_ratio = np.mean(returns) / np.std(returns) * np.sqrt(365)  # Assuming 365 trading days in a year\n",
    "\n",
    "    print(f\"Total Return: {total_return:.2%}\")\n",
    "    print(f\"Sharpe Ratio: {sharpe_ratio:.2f}\")\n",
    "\n",
    "    return df_backtest\n",
    "    # Plot results\n",
    "    fig, (ax1, ax2) = plt.subplots(1, 2, figsize=(20, 6))\n",
    "    \n",
    "    # Portfolio value over time\n",
    "    ax1.plot(df_backtest['date'], portfolio_values)\n",
    "    ax1.set_title('Portfolio Value Over Time')\n",
    "    ax1.set_xlabel('Date')\n",
    "    ax1.set_ylabel('Portfolio Value ($)')\n",
    "    \n",
    "    # Returns distribution\n",
    "    ax2.hist(returns, bins=50)\n",
    "    ax2.set_title('Distribution of Returns')\n",
    "    ax2.set_xlabel('Return')\n",
    "    ax2.set_ylabel('Frequency')\n",
    "    \n",
    "    plt.tight_layout()\n",
    "    plt.show()\n",
    "\n",
    "    \n",
    "    return portfolio_values, returns"
   ]
  },
  {
   "cell_type": "code",
   "execution_count": 59,
   "id": "1ca3d125",
   "metadata": {},
   "outputs": [
    {
     "name": "stdout",
     "output_type": "stream",
     "text": [
      "Total Return: -3076.00%\n",
      "Sharpe Ratio: -30.96\n"
     ]
    },
    {
     "data": {
      "text/html": [
       "<div><style>\n",
       ".dataframe > thead > tr,\n",
       ".dataframe > tbody > tr {\n",
       "  text-align: right;\n",
       "  white-space: pre-wrap;\n",
       "}\n",
       "</style>\n",
       "<small>shape: (5, 10)</small><table border=\"1\" class=\"dataframe\"><thead><tr><th>date</th><th>symbol</th><th>long_signal</th><th>y_hat</th><th>pct_return</th><th>position_return</th><th>balance</th><th>compound_position_return</th><th>compound_balance</th><th>return</th></tr><tr><td>datetime[μs]</td><td>str</td><td>i8</td><td>i64</td><td>f64</td><td>f64</td><td>f64</td><td>f64</td><td>f64</td><td>f64</td></tr></thead><tbody><tr><td>2024-09-29 11:00:00</td><td>&quot;LTC&quot;</td><td>0</td><td>1</td><td>-0.01</td><td>-10.0</td><td>-29720.0</td><td>-3.0751e-13</td><td>3.0444e-11</td><td>0.000337</td></tr><tr><td>2024-09-29 11:00:00</td><td>&quot;DOGE&quot;</td><td>0</td><td>1</td><td>-0.01</td><td>-10.0</td><td>-29730.0</td><td>-3.0444e-13</td><td>3.0139e-11</td><td>0.000336</td></tr><tr><td>2024-09-29 11:00:00</td><td>&quot;ADA&quot;</td><td>0</td><td>1</td><td>-0.01</td><td>-10.0</td><td>-29740.0</td><td>-3.0139e-13</td><td>2.9838e-11</td><td>0.000336</td></tr><tr><td>2024-09-29 11:00:00</td><td>&quot;ATOM&quot;</td><td>0</td><td>1</td><td>-0.01</td><td>-10.0</td><td>-29750.0</td><td>-2.9838e-13</td><td>2.9539e-11</td><td>0.000336</td></tr><tr><td>2024-09-29 11:00:00</td><td>&quot;SOL&quot;</td><td>0</td><td>1</td><td>-0.01</td><td>-10.0</td><td>-29760.0</td><td>-2.9539e-13</td><td>2.9244e-11</td><td>0.000336</td></tr></tbody></table></div>"
      ],
      "text/plain": [
       "shape: (5, 10)\n",
       "┌─────────────┬────────┬─────────────┬───────┬───┬──────────┬─────────────┬─────────────┬──────────┐\n",
       "│ date        ┆ symbol ┆ long_signal ┆ y_hat ┆ … ┆ balance  ┆ compound_po ┆ compound_ba ┆ return   │\n",
       "│ ---         ┆ ---    ┆ ---         ┆ ---   ┆   ┆ ---      ┆ sition_retu ┆ lance       ┆ ---      │\n",
       "│ datetime[μs ┆ str    ┆ i8          ┆ i64   ┆   ┆ f64      ┆ rn          ┆ ---         ┆ f64      │\n",
       "│ ]           ┆        ┆             ┆       ┆   ┆          ┆ ---         ┆ f64         ┆          │\n",
       "│             ┆        ┆             ┆       ┆   ┆          ┆ f64         ┆             ┆          │\n",
       "╞═════════════╪════════╪═════════════╪═══════╪═══╪══════════╪═════════════╪═════════════╪══════════╡\n",
       "│ 2024-09-29  ┆ LTC    ┆ 0           ┆ 1     ┆ … ┆ -29720.0 ┆ -3.0751e-13 ┆ 3.0444e-11  ┆ 0.000337 │\n",
       "│ 11:00:00    ┆        ┆             ┆       ┆   ┆          ┆             ┆             ┆          │\n",
       "│ 2024-09-29  ┆ DOGE   ┆ 0           ┆ 1     ┆ … ┆ -29730.0 ┆ -3.0444e-13 ┆ 3.0139e-11  ┆ 0.000336 │\n",
       "│ 11:00:00    ┆        ┆             ┆       ┆   ┆          ┆             ┆             ┆          │\n",
       "│ 2024-09-29  ┆ ADA    ┆ 0           ┆ 1     ┆ … ┆ -29740.0 ┆ -3.0139e-13 ┆ 2.9838e-11  ┆ 0.000336 │\n",
       "│ 11:00:00    ┆        ┆             ┆       ┆   ┆          ┆             ┆             ┆          │\n",
       "│ 2024-09-29  ┆ ATOM   ┆ 0           ┆ 1     ┆ … ┆ -29750.0 ┆ -2.9838e-13 ┆ 2.9539e-11  ┆ 0.000336 │\n",
       "│ 11:00:00    ┆        ┆             ┆       ┆   ┆          ┆             ┆             ┆          │\n",
       "│ 2024-09-29  ┆ SOL    ┆ 0           ┆ 1     ┆ … ┆ -29760.0 ┆ -2.9539e-13 ┆ 2.9244e-11  ┆ 0.000336 │\n",
       "│ 11:00:00    ┆        ┆             ┆       ┆   ┆          ┆             ┆             ┆          │\n",
       "└─────────────┴────────┴─────────────┴───────┴───┴──────────┴─────────────┴─────────────┴──────────┘"
      ]
     },
     "execution_count": 59,
     "metadata": {},
     "output_type": "execute_result"
    }
   ],
   "source": [
    "df_backtest = df_test.with_columns(\n",
    "    y_hat = pl.lit(np.where(y_hat >= optimal_threshold, 1, 0))\n",
    ").select(pl.col(\"date\"), pl.col(\"symbol\"), pl.col(\"long_signal\"), pl.col(\"y_hat\"))\n",
    "\n",
    "\n",
    "tmp = backtest_strategy(df_backtest)\n",
    "tmp.tail()"
   ]
  },
  {
   "cell_type": "markdown",
   "id": "1bcfccd3",
   "metadata": {},
   "source": [
    "La funzione di backtesting cosi come è non va bene perchè:\n",
    "1) indipendentemente dal calcolo cumulato o no del balance, tengo sempre in considerazione l'1% di rischio\n",
    "   es ho 1000 usd, investo su btc, il bilancio diventerebbe 0. Quindi non potrei fare altri trade nel frattempo\n",
    "2) se avessi più trade in parallelo, dovrei gestire il rischio cumulato e soprattutto dovrei partire con un budget maggiore\n",
    "3) il bilancio finale che vedo sopra, cumulato o no, soffre del punto sopra\n",
    "\n",
    "Si potrebbe gestire il tutto con una coda pari al numero di trade massimi che posso fare e di conseguenza l'importo max per ciascun trade che deve essere proporzionale al bilancio. Occorre gestire il caso in cui due trade devono essere fatti in parallelo.\n",
    "\n",
    "\n"
   ]
  },
  {
   "cell_type": "code",
   "execution_count": 19,
   "id": "53e73d5b",
   "metadata": {},
   "outputs": [
    {
     "data": {
      "text/html": [
       "<div><style>\n",
       ".dataframe > thead > tr,\n",
       ".dataframe > tbody > tr {\n",
       "  text-align: right;\n",
       "  white-space: pre-wrap;\n",
       "}\n",
       "</style>\n",
       "<small>shape: (14_908, 3)</small><table border=\"1\" class=\"dataframe\"><thead><tr><th>date</th><th>balance</th><th>pct_return</th></tr><tr><td>datetime[μs]</td><td>f64</td><td>f64</td></tr></thead><tbody><tr><td>2024-06-04 18:00:00</td><td>147340.0</td><td>0.0</td></tr><tr><td>2023-01-26 00:00:00</td><td>116390.0</td><td>0.0</td></tr><tr><td>2023-06-04 06:00:00</td><td>122340.0</td><td>0.0</td></tr><tr><td>2023-08-15 20:00:00</td><td>126070.0</td><td>0.0</td></tr><tr><td>2024-03-22 20:00:00</td><td>142460.0</td><td>-0.02</td></tr><tr><td>&hellip;</td><td>&hellip;</td><td>&hellip;</td></tr><tr><td>2023-03-12 20:00:00</td><td>118620.0</td><td>0.12</td></tr><tr><td>2024-04-12 16:00:00</td><td>143850.0</td><td>0.0</td></tr><tr><td>2023-01-25 19:00:00</td><td>116360.0</td><td>0.14</td></tr><tr><td>2023-06-19 23:00:00</td><td>123210.0</td><td>-0.01</td></tr><tr><td>2024-05-11 02:00:00</td><td>146290.0</td><td>0.0</td></tr></tbody></table></div>"
      ],
      "text/plain": [
       "shape: (14_908, 3)\n",
       "┌─────────────────────┬──────────┬────────────┐\n",
       "│ date                ┆ balance  ┆ pct_return │\n",
       "│ ---                 ┆ ---      ┆ ---        │\n",
       "│ datetime[μs]        ┆ f64      ┆ f64        │\n",
       "╞═════════════════════╪══════════╪════════════╡\n",
       "│ 2024-06-04 18:00:00 ┆ 147340.0 ┆ 0.0        │\n",
       "│ 2023-01-26 00:00:00 ┆ 116390.0 ┆ 0.0        │\n",
       "│ 2023-06-04 06:00:00 ┆ 122340.0 ┆ 0.0        │\n",
       "│ 2023-08-15 20:00:00 ┆ 126070.0 ┆ 0.0        │\n",
       "│ 2024-03-22 20:00:00 ┆ 142460.0 ┆ -0.02      │\n",
       "│ …                   ┆ …        ┆ …          │\n",
       "│ 2023-03-12 20:00:00 ┆ 118620.0 ┆ 0.12       │\n",
       "│ 2024-04-12 16:00:00 ┆ 143850.0 ┆ 0.0        │\n",
       "│ 2023-01-25 19:00:00 ┆ 116360.0 ┆ 0.14       │\n",
       "│ 2023-06-19 23:00:00 ┆ 123210.0 ┆ -0.01      │\n",
       "│ 2024-05-11 02:00:00 ┆ 146290.0 ┆ 0.0        │\n",
       "└─────────────────────┴──────────┴────────────┘"
      ]
     },
     "execution_count": 19,
     "metadata": {},
     "output_type": "execute_result"
    }
   ],
   "source": [
    "tmp.group_by(\"date\").agg(\n",
    "    pl.col(\"balance\").last(),\n",
    "    pl.col(\"pct_return\").sum()\n",
    ")"
   ]
  },
  {
   "cell_type": "code",
   "execution_count": 21,
   "id": "9d9f219b",
   "metadata": {},
   "outputs": [
    {
     "data": {
      "text/html": [
       "<div><style>\n",
       ".dataframe > thead > tr,\n",
       ".dataframe > tbody > tr {\n",
       "  text-align: right;\n",
       "  white-space: pre-wrap;\n",
       "}\n",
       "</style>\n",
       "<small>shape: (622, 3)</small><table border=\"1\" class=\"dataframe\"><thead><tr><th>ymd</th><th>balance</th><th>pct_return</th></tr><tr><td>date</td><td>f64</td><td>f64</td></tr></thead><tbody><tr><td>2023-07-17</td><td>5430.0</td><td>0.000741</td></tr><tr><td>2023-04-01</td><td>3970.0</td><td>0.000278</td></tr><tr><td>2024-09-06</td><td>14120.0</td><td>0.001343</td></tr><tr><td>2023-11-01</td><td>6220.0</td><td>0.00338</td></tr><tr><td>2023-06-23</td><td>5160.0</td><td>0.002917</td></tr><tr><td>&hellip;</td><td>&hellip;</td><td>&hellip;</td></tr><tr><td>2024-02-01</td><td>7800.0</td><td>0.001065</td></tr><tr><td>2024-07-05</td><td>11510.0</td><td>0.007176</td></tr><tr><td>2024-02-25</td><td>8240.0</td><td>0.0</td></tr><tr><td>2024-06-29</td><td>11470.0</td><td>0.0</td></tr><tr><td>2023-05-12</td><td>4710.0</td><td>0.000093</td></tr></tbody></table></div>"
      ],
      "text/plain": [
       "shape: (622, 3)\n",
       "┌────────────┬─────────┬────────────┐\n",
       "│ ymd        ┆ balance ┆ pct_return │\n",
       "│ ---        ┆ ---     ┆ ---        │\n",
       "│ date       ┆ f64     ┆ f64        │\n",
       "╞════════════╪═════════╪════════════╡\n",
       "│ 2023-07-17 ┆ 5430.0  ┆ 0.000741   │\n",
       "│ 2023-04-01 ┆ 3970.0  ┆ 0.000278   │\n",
       "│ 2024-09-06 ┆ 14120.0 ┆ 0.001343   │\n",
       "│ 2023-11-01 ┆ 6220.0  ┆ 0.00338    │\n",
       "│ 2023-06-23 ┆ 5160.0  ┆ 0.002917   │\n",
       "│ …          ┆ …       ┆ …          │\n",
       "│ 2024-02-01 ┆ 7800.0  ┆ 0.001065   │\n",
       "│ 2024-07-05 ┆ 11510.0 ┆ 0.007176   │\n",
       "│ 2024-02-25 ┆ 8240.0  ┆ 0.0        │\n",
       "│ 2024-06-29 ┆ 11470.0 ┆ 0.0        │\n",
       "│ 2023-05-12 ┆ 4710.0  ┆ 0.000093   │\n",
       "└────────────┴─────────┴────────────┘"
      ]
     },
     "execution_count": 21,
     "metadata": {},
     "output_type": "execute_result"
    }
   ],
   "source": [
    "tmp.with_columns(pl.col(\"date\").dt.date().alias(\"ymd\")).group_by(\"ymd\").agg(\n",
    "    pl.col(\"balance\").first(),\n",
    "    pl.col(\"pct_return\").mean()\n",
    ")"
   ]
  },
  {
   "cell_type": "code",
   "execution_count": null,
   "id": "34f16619",
   "metadata": {},
   "outputs": [],
   "source": []
  }
 ],
 "metadata": {
  "kernelspec": {
   "display_name": "obb",
   "language": "python",
   "name": "python3"
  },
  "language_info": {
   "codemirror_mode": {
    "name": "ipython",
    "version": 3
   },
   "file_extension": ".py",
   "mimetype": "text/x-python",
   "name": "python",
   "nbconvert_exporter": "python",
   "pygments_lexer": "ipython3",
   "version": "3.10.12"
  },
  "vscode": {
   "interpreter": {
    "hash": "dd184c5f03045ecc89fe53694d3e4314236225fa9c7db50520ba8ca1ba4d33a6"
   }
  }
 },
 "nbformat": 4,
 "nbformat_minor": 5
}
