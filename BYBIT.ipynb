{
 "cells": [
  {
   "cell_type": "code",
   "execution_count": 110,
   "id": "8736073a",
   "metadata": {},
   "outputs": [
    {
     "name": "stdout",
     "output_type": "stream",
     "text": [
      "/home/themanuello/Documents/repo/FinancialPython\n"
     ]
    }
   ],
   "source": [
    "import numpy as np\n",
    "import polars as pl\n",
    "import sys, os\n",
    "import datetime as dt\n",
    "from sklearn.model_selection import TimeSeriesSplit\n",
    "from pathlib import Path\n",
    "from pybit.unified_trading import HTTP\n",
    "import xgboost as xgb\n",
    "from sklearn.model_selection import train_test_split\n",
    "# Get the current working directory\n",
    "current_dir = os.getcwd()\n",
    "\n",
    "# Add the parent directory to sys.path\n",
    "parent_dir = os.path.dirname(current_dir)\n",
    "sys.path.append(parent_dir)\n",
    "\n",
    "import matplotlib.pyplot as plt\n",
    "import plotly.express as px\n",
    "from statsmodels.graphics.tsaplots import plot_pacf\n",
    "from statsmodels.tsa.stattools import pacf, acf\n",
    "from statsmodels.tsa.api import VAR\n",
    "from scipy.stats import norm\n",
    "\n",
    "print(os.getcwd())\n",
    "import fin_utilities \n",
    "from algo_code.feature_engineering import *\n",
    "cfg = fin_utilities.__cfg_reading(\"pred\")\n",
    "\n",
    "\n",
    "#td = TDClient(apikey=cfg['TWELVEDATA']['API'])  \n",
    "\n",
    "PROJECT_DIR = eval(cfg['PROJECT_PATH'])\n",
    "DATA_PATH   = PROJECT_DIR / cfg['DATA_FOLDER']\n",
    "\n",
    "BYBIT_API_KEY = \"5u0HfwB5UPJeiQo3WR\"\n",
    "BYBIT_SECRET_KEY = \"hjFn5aEvyuVEZ1dnna6R4s1NS1vw3vZdJFIL\"\n",
    "\n",
    "plotme = False"
   ]
  },
  {
   "cell_type": "code",
   "execution_count": 118,
   "id": "3d266e65",
   "metadata": {},
   "outputs": [],
   "source": [
    "df_orig = pl.read_parquet(DATA_PATH / \"feature_engineering.parquet\")"
   ]
  },
  {
   "cell_type": "code",
   "execution_count": 119,
   "id": "57c100ea",
   "metadata": {},
   "outputs": [],
   "source": [
    "if plotme:\n",
    "    fig = px.line(df_orig.select(pl.col([\"date\",\"close\",\"symbol\"])), x=\"date\", y=\"close\", color=\"symbol\")\n",
    "    fig.show()\n",
    "    fig2 = px.line(df_orig.select(pl.col([\"date\",\"volume\",\"symbol\"])), x=\"date\", y=\"volume\", color=\"symbol\")\n",
    "    fig2.show()\n",
    "    fig3 = px.line(df_orig.select(pl.col([\"date\",\"turnover\",\"symbol\"])), x=\"date\", y=\"turnover\", color=\"symbol\")\n",
    "    fig3.show()"
   ]
  },
  {
   "cell_type": "code",
   "execution_count": 120,
   "id": "2a74f603",
   "metadata": {},
   "outputs": [
    {
     "data": {
      "text/html": [
       "<div><style>\n",
       ".dataframe > thead > tr,\n",
       ".dataframe > tbody > tr {\n",
       "  text-align: right;\n",
       "  white-space: pre-wrap;\n",
       "}\n",
       "</style>\n",
       "<small>shape: (3, 3)</small><table border=\"1\" class=\"dataframe\"><thead><tr><th>close</th><th>volume</th><th>turnover</th></tr><tr><td>f64</td><td>f64</td><td>f64</td></tr></thead><tbody><tr><td>1.0</td><td>-0.095608</td><td>0.613766</td></tr><tr><td>-0.095608</td><td>1.0</td><td>0.014568</td></tr><tr><td>0.613766</td><td>0.014568</td><td>1.0</td></tr></tbody></table></div>"
      ],
      "text/plain": [
       "shape: (3, 3)\n",
       "┌───────────┬───────────┬──────────┐\n",
       "│ close     ┆ volume    ┆ turnover │\n",
       "│ ---       ┆ ---       ┆ ---      │\n",
       "│ f64       ┆ f64       ┆ f64      │\n",
       "╞═══════════╪═══════════╪══════════╡\n",
       "│ 1.0       ┆ -0.095608 ┆ 0.613766 │\n",
       "│ -0.095608 ┆ 1.0       ┆ 0.014568 │\n",
       "│ 0.613766  ┆ 0.014568  ┆ 1.0      │\n",
       "└───────────┴───────────┴──────────┘"
      ]
     },
     "execution_count": 120,
     "metadata": {},
     "output_type": "execute_result"
    }
   ],
   "source": [
    "df_orig.select(pl.col([\"close\",\"volume\", \"turnover\"])).corr()"
   ]
  },
  {
   "cell_type": "code",
   "execution_count": 121,
   "id": "234df498",
   "metadata": {},
   "outputs": [
    {
     "name": "stdout",
     "output_type": "stream",
     "text": [
      "(137718, 11)\n"
     ]
    }
   ],
   "source": [
    "df = df_orig\n",
    "print(df.shape)"
   ]
  },
  {
   "cell_type": "markdown",
   "id": "4856caa7",
   "metadata": {},
   "source": [
    "## SCALO FEATURE"
   ]
  },
  {
   "cell_type": "code",
   "execution_count": 122,
   "id": "71ba1172",
   "metadata": {},
   "outputs": [
    {
     "data": {
      "text/html": [
       "<div><style>\n",
       ".dataframe > thead > tr,\n",
       ".dataframe > tbody > tr {\n",
       "  text-align: right;\n",
       "  white-space: pre-wrap;\n",
       "}\n",
       "</style>\n",
       "<small>shape: (5, 14)</small><table border=\"1\" class=\"dataframe\"><thead><tr><th>timestamp</th><th>open</th><th>high</th><th>low</th><th>close</th><th>volume</th><th>turnover</th><th>date</th><th>symbol</th><th>long_signal</th><th>short_signal</th><th>close_pct_change</th><th>volume_pct_change</th><th>turnover_pct_change</th></tr><tr><td>i64</td><td>f64</td><td>f64</td><td>f64</td><td>f64</td><td>f64</td><td>f64</td><td>datetime[μs]</td><td>str</td><td>i8</td><td>i8</td><td>f64</td><td>f64</td><td>f64</td></tr></thead><tbody><tr><td>1672531200000</td><td>9.98</td><td>10.02</td><td>9.93</td><td>9.99</td><td>40461.577</td><td>403719.27764</td><td>2023-01-01 00:00:00</td><td>&quot;SOL&quot;</td><td>0</td><td>-1</td><td>0.001002</td><td>0.343349</td><td>0.345482</td></tr><tr><td>1672534800000</td><td>9.99</td><td>10.07</td><td>9.98</td><td>10.03</td><td>23317.783</td><td>234021.19925</td><td>2023-01-01 01:00:00</td><td>&quot;SOL&quot;</td><td>0</td><td>-1</td><td>0.004004</td><td>-0.423706</td><td>-0.420337</td></tr><tr><td>1672538400000</td><td>10.03</td><td>10.08</td><td>10.0</td><td>10.02</td><td>17189.969</td><td>172544.99205</td><td>2023-01-01 02:00:00</td><td>&quot;SOL&quot;</td><td>0</td><td>-1</td><td>-0.000997</td><td>-0.262796</td><td>-0.262695</td></tr><tr><td>1672542000000</td><td>10.02</td><td>10.02</td><td>9.91</td><td>9.97</td><td>20577.751</td><td>204993.38156</td><td>2023-01-01 03:00:00</td><td>&quot;SOL&quot;</td><td>0</td><td>-1</td><td>-0.00499</td><td>0.197079</td><td>0.188058</td></tr><tr><td>1672545600000</td><td>9.97</td><td>9.99</td><td>9.82</td><td>9.85</td><td>25137.24</td><td>248727.05075</td><td>2023-01-01 04:00:00</td><td>&quot;SOL&quot;</td><td>0</td><td>0</td><td>-0.012036</td><td>0.221574</td><td>0.213342</td></tr></tbody></table></div>"
      ],
      "text/plain": [
       "shape: (5, 14)\n",
       "┌──────────────┬───────┬───────┬──────┬───┬──────────────┬─────────────┬─────────────┬─────────────┐\n",
       "│ timestamp    ┆ open  ┆ high  ┆ low  ┆ … ┆ short_signal ┆ close_pct_c ┆ volume_pct_ ┆ turnover_pc │\n",
       "│ ---          ┆ ---   ┆ ---   ┆ ---  ┆   ┆ ---          ┆ hange       ┆ change      ┆ t_change    │\n",
       "│ i64          ┆ f64   ┆ f64   ┆ f64  ┆   ┆ i8           ┆ ---         ┆ ---         ┆ ---         │\n",
       "│              ┆       ┆       ┆      ┆   ┆              ┆ f64         ┆ f64         ┆ f64         │\n",
       "╞══════════════╪═══════╪═══════╪══════╪═══╪══════════════╪═════════════╪═════════════╪═════════════╡\n",
       "│ 167253120000 ┆ 9.98  ┆ 10.02 ┆ 9.93 ┆ … ┆ -1           ┆ 0.001002    ┆ 0.343349    ┆ 0.345482    │\n",
       "│ 0            ┆       ┆       ┆      ┆   ┆              ┆             ┆             ┆             │\n",
       "│ 167253480000 ┆ 9.99  ┆ 10.07 ┆ 9.98 ┆ … ┆ -1           ┆ 0.004004    ┆ -0.423706   ┆ -0.420337   │\n",
       "│ 0            ┆       ┆       ┆      ┆   ┆              ┆             ┆             ┆             │\n",
       "│ 167253840000 ┆ 10.03 ┆ 10.08 ┆ 10.0 ┆ … ┆ -1           ┆ -0.000997   ┆ -0.262796   ┆ -0.262695   │\n",
       "│ 0            ┆       ┆       ┆      ┆   ┆              ┆             ┆             ┆             │\n",
       "│ 167254200000 ┆ 10.02 ┆ 10.02 ┆ 9.91 ┆ … ┆ -1           ┆ -0.00499    ┆ 0.197079    ┆ 0.188058    │\n",
       "│ 0            ┆       ┆       ┆      ┆   ┆              ┆             ┆             ┆             │\n",
       "│ 167254560000 ┆ 9.97  ┆ 9.99  ┆ 9.82 ┆ … ┆ 0            ┆ -0.012036   ┆ 0.221574    ┆ 0.213342    │\n",
       "│ 0            ┆       ┆       ┆      ┆   ┆              ┆             ┆             ┆             │\n",
       "└──────────────┴───────┴───────┴──────┴───┴──────────────┴─────────────┴─────────────┴─────────────┘"
      ]
     },
     "execution_count": 122,
     "metadata": {},
     "output_type": "execute_result"
    }
   ],
   "source": [
    "# Create a list to store the processed dataframes\n",
    "\n",
    "# a seconda della scala che voglio utilizzare, cambio il suffisso\n",
    "TYPE_SCALE_SUFFIXES = {\n",
    "    \"pct_change\": \"_pct_change\",\n",
    "    \"z_score\": \"_z_score\",\n",
    "    \"diff\": \"_diff\",\n",
    "}\n",
    "type_scale = \"pct_change\"\n",
    "\n",
    "type_scale_suffix = TYPE_SCALE_SUFFIXES[type_scale]\n",
    "tgt_column = f\"close{type_scale_suffix}\"\n",
    "\n",
    "processed_dfs = []\n",
    "\n",
    "for symbol in df[\"symbol\"].unique():\n",
    "    # Filter the dataframe for the current symbol\n",
    "    tmp_df = df.filter(pl.col(\"symbol\") == symbol)    \n",
    "    # Apply scale_features to the filtered dataframe\n",
    "    tmp_df = scale_features(tmp_df, [\"close\", \"volume\", \"turnover\"], type_scale=type_scale, suffix=type_scale_suffix)\n",
    "    # Append the processed dataframe to the list\n",
    "    processed_dfs.append(tmp_df)\n",
    "\n",
    "# Concatenate all processed dataframes\n",
    "df = pl.concat(processed_dfs)\n",
    "\n",
    "# Drop any null values that might have been introduced\n",
    "df = df.drop_nulls()\n",
    "\n",
    "# Display the first few rows of the updated dataframe\n",
    "df.head()"
   ]
  },
  {
   "cell_type": "code",
   "execution_count": 123,
   "id": "56735c05",
   "metadata": {},
   "outputs": [],
   "source": [
    "if plotme:\n",
    "    x = \"date\"\n",
    "    fig = px.line(df.select(pl.col([x,f\"close{type_scale_suffix}\", \"symbol\"])), x=x, y=f\"close{type_scale_suffix}\", color=\"symbol\", height=400)\n",
    "    fig.show()\n",
    "    fig2 = px.line(df.select(pl.col([x,f\"volume{type_scale_suffix}\", \"symbol\"])), x=x, y=f\"volume{type_scale_suffix}\", color=\"symbol\", height=400)\n",
    "    fig2.show()\n",
    "    fig3 = px.line(df.select(pl.col([x,f\"turnover{type_scale_suffix}\", \"symbol\"])), x=x, y=f\"turnover{type_scale_suffix}\", color=\"symbol\", height=400)\n",
    "    fig3.show()"
   ]
  },
  {
   "cell_type": "code",
   "execution_count": 124,
   "id": "4804f624",
   "metadata": {},
   "outputs": [],
   "source": [
    "if plotme:\n",
    "    plot_histogram(df, \"ETH\", f\"close{type_scale_suffix}\")\n",
    "    plot_histogram(df, \"ETH\", f\"volume{type_scale_suffix}\")"
   ]
  },
  {
   "cell_type": "code",
   "execution_count": 125,
   "id": "5a8a3619",
   "metadata": {},
   "outputs": [
    {
     "name": "stdout",
     "output_type": "stream",
     "text": [
      "[1, 193, 23]\n"
     ]
    }
   ],
   "source": [
    "# PER IL CALCOLO DI ACF/PACF OCCORRE DROPPARE I NULL\n",
    "\n",
    "lags_pacf = calculate_all_pacfs(df, f\"close{type_scale_suffix}\", 200, alpha=.4)\n",
    "lags_acf = calculate_all_acfs(df, f\"close{type_scale_suffix}\", 200, alpha=.4)\n",
    "\n",
    "common_lags = list(set(common_lags_by_symbol(lags_acf)).intersection(set(common_lags_by_symbol(lags_pacf))))\n",
    "print(common_lags)"
   ]
  },
  {
   "cell_type": "markdown",
   "id": "f07eee13",
   "metadata": {},
   "source": [
    "# Creo Feature"
   ]
  },
  {
   "cell_type": "code",
   "execution_count": 126,
   "id": "e84fa3ca",
   "metadata": {},
   "outputs": [
    {
     "data": {
      "text/html": [
       "<div><style>\n",
       ".dataframe > thead > tr,\n",
       ".dataframe > tbody > tr {\n",
       "  text-align: right;\n",
       "  white-space: pre-wrap;\n",
       "}\n",
       "</style>\n",
       "<small>shape: (5, 25)</small><table border=\"1\" class=\"dataframe\"><thead><tr><th>timestamp</th><th>open</th><th>high</th><th>low</th><th>close</th><th>volume</th><th>turnover</th><th>date</th><th>symbol</th><th>long_signal</th><th>short_signal</th><th>close_pct_change</th><th>volume_pct_change</th><th>turnover_pct_change</th><th>SMA_close_pct_change_13</th><th>SMA_close_13</th><th>SMA_close_pct_change_50</th><th>SMA_close_50</th><th>SMA_close_pct_change_100</th><th>SMA_close_100</th><th>SMA_close_pct_change_200</th><th>SMA_close_200</th><th>dow</th><th>month</th><th>hour</th></tr><tr><td>i64</td><td>f64</td><td>f64</td><td>f64</td><td>f64</td><td>f64</td><td>f64</td><td>datetime[μs]</td><td>str</td><td>i8</td><td>i8</td><td>f64</td><td>f64</td><td>f64</td><td>f64</td><td>f64</td><td>f64</td><td>f64</td><td>f64</td><td>f64</td><td>f64</td><td>f64</td><td>i8</td><td>i8</td><td>i8</td></tr></thead><tbody><tr><td>1673247600000</td><td>16.01</td><td>16.53</td><td>16.01</td><td>16.36</td><td>87993.35</td><td>1.4296e6</td><td>2023-01-09 07:00:00</td><td>&quot;SOL&quot;</td><td>0</td><td>0</td><td>0.021861</td><td>0.333812</td><td>0.34629</td><td>0.014777</td><td>15.100769</td><td>0.004208</td><td>13.7952</td><td>0.002195</td><td>13.5234</td><td>0.002569</td><td>12.6031</td><td>1</td><td>1</td><td>7</td></tr><tr><td>1673251200000</td><td>16.36</td><td>16.67</td><td>16.1</td><td>16.11</td><td>52283.57</td><td>853343.79442</td><td>2023-01-09 08:00:00</td><td>&quot;SOL&quot;</td><td>1</td><td>0</td><td>-0.015281</td><td>-0.405824</td><td>-0.40308</td><td>0.013601</td><td>15.297692</td><td>0.004037</td><td>13.8528</td><td>0.001952</td><td>13.5511</td><td>0.002488</td><td>12.6337</td><td>1</td><td>1</td><td>8</td></tr><tr><td>1673254800000</td><td>16.11</td><td>16.38</td><td>16.1</td><td>16.34</td><td>27248.757</td><td>443300.34847</td><td>2023-01-09 09:00:00</td><td>&quot;SOL&quot;</td><td>0</td><td>0</td><td>0.014277</td><td>-0.478828</td><td>-0.480514</td><td>0.013564</td><td>15.496923</td><td>0.004232</td><td>13.9138</td><td>0.002117</td><td>13.5814</td><td>0.002539</td><td>12.66525</td><td>1</td><td>1</td><td>9</td></tr><tr><td>1673258400000</td><td>16.34</td><td>16.59</td><td>16.28</td><td>16.41</td><td>34800.199</td><td>572253.42932</td><td>2023-01-09 10:00:00</td><td>&quot;SOL&quot;</td><td>0</td><td>0</td><td>0.004284</td><td>0.27713</td><td>0.290893</td><td>0.014061</td><td>15.703846</td><td>0.004498</td><td>13.9786</td><td>0.00225</td><td>13.6136</td><td>0.002565</td><td>12.6972</td><td>1</td><td>1</td><td>10</td></tr><tr><td>1673262000000</td><td>16.41</td><td>16.81</td><td>16.31</td><td>16.36</td><td>93775.937</td><td>1.5522e6</td><td>2023-01-09 11:00:00</td><td>&quot;SOL&quot;</td><td>0</td><td>0</td><td>-0.003047</td><td>1.694695</td><td>1.712429</td><td>0.013939</td><td>15.908462</td><td>0.004361</td><td>14.0414</td><td>0.002182</td><td>13.6448</td><td>0.002575</td><td>12.72915</td><td>1</td><td>1</td><td>11</td></tr></tbody></table></div>"
      ],
      "text/plain": [
       "shape: (5, 25)\n",
       "┌───────────────┬───────┬───────┬───────┬───┬───────────────┬─────┬───────┬──────┐\n",
       "│ timestamp     ┆ open  ┆ high  ┆ low   ┆ … ┆ SMA_close_200 ┆ dow ┆ month ┆ hour │\n",
       "│ ---           ┆ ---   ┆ ---   ┆ ---   ┆   ┆ ---           ┆ --- ┆ ---   ┆ ---  │\n",
       "│ i64           ┆ f64   ┆ f64   ┆ f64   ┆   ┆ f64           ┆ i8  ┆ i8    ┆ i8   │\n",
       "╞═══════════════╪═══════╪═══════╪═══════╪═══╪═══════════════╪═════╪═══════╪══════╡\n",
       "│ 1673247600000 ┆ 16.01 ┆ 16.53 ┆ 16.01 ┆ … ┆ 12.6031       ┆ 1   ┆ 1     ┆ 7    │\n",
       "│ 1673251200000 ┆ 16.36 ┆ 16.67 ┆ 16.1  ┆ … ┆ 12.6337       ┆ 1   ┆ 1     ┆ 8    │\n",
       "│ 1673254800000 ┆ 16.11 ┆ 16.38 ┆ 16.1  ┆ … ┆ 12.66525      ┆ 1   ┆ 1     ┆ 9    │\n",
       "│ 1673258400000 ┆ 16.34 ┆ 16.59 ┆ 16.28 ┆ … ┆ 12.6972       ┆ 1   ┆ 1     ┆ 10   │\n",
       "│ 1673262000000 ┆ 16.41 ┆ 16.81 ┆ 16.31 ┆ … ┆ 12.72915      ┆ 1   ┆ 1     ┆ 11   │\n",
       "└───────────────┴───────┴───────┴───────┴───┴───────────────┴─────┴───────┴──────┘"
      ]
     },
     "execution_count": 126,
     "metadata": {},
     "output_type": "execute_result"
    }
   ],
   "source": [
    "moving_averages_list = [13, 50, 100, 200]\n",
    "on_cols = [f\"close{type_scale_suffix}\",\"close\"]\n",
    "\n",
    "# bisogn\n",
    "df = calculate_rolling_avgs_by_symbol(df,moving_averages_list,on_cols)\n",
    "df = df.drop_nulls()\n",
    "df = extract_date_features(df, \"date\")\n",
    "df.head(5)\n"
   ]
  },
  {
   "cell_type": "code",
   "execution_count": 127,
   "id": "c00ca99b",
   "metadata": {},
   "outputs": [
    {
     "data": {
      "text/html": [
       "<div><style>\n",
       ".dataframe > thead > tr,\n",
       ".dataframe > tbody > tr {\n",
       "  text-align: right;\n",
       "  white-space: pre-wrap;\n",
       "}\n",
       "</style>\n",
       "<small>shape: (25, 26)</small><table border=\"1\" class=\"dataframe\"><thead><tr><th>timestamp</th><th>open</th><th>high</th><th>low</th><th>close</th><th>volume</th><th>turnover</th><th>date</th><th>symbol</th><th>long_signal</th><th>short_signal</th><th>close_pct_change</th><th>volume_pct_change</th><th>turnover_pct_change</th><th>SMA_close_pct_change_13</th><th>SMA_close_13</th><th>SMA_close_pct_change_50</th><th>SMA_close_50</th><th>SMA_close_pct_change_100</th><th>SMA_close_100</th><th>SMA_close_pct_change_200</th><th>SMA_close_200</th><th>dow</th><th>month</th><th>hour</th><th>SMA_close_pct_change_13_after_scaling</th></tr><tr><td>i64</td><td>f64</td><td>f64</td><td>f64</td><td>f64</td><td>f64</td><td>f64</td><td>datetime[μs]</td><td>str</td><td>i8</td><td>i8</td><td>f64</td><td>f64</td><td>f64</td><td>f64</td><td>f64</td><td>f64</td><td>f64</td><td>f64</td><td>f64</td><td>f64</td><td>f64</td><td>i8</td><td>i8</td><td>i8</td><td>f64</td></tr></thead><tbody><tr><td>1673247600000</td><td>16.01</td><td>16.53</td><td>16.01</td><td>16.36</td><td>87993.35</td><td>1.4296e6</td><td>2023-01-09 07:00:00</td><td>&quot;SOL&quot;</td><td>0</td><td>0</td><td>0.021861</td><td>0.333812</td><td>0.34629</td><td>0.014777</td><td>15.100769</td><td>0.004208</td><td>13.7952</td><td>0.002195</td><td>13.5234</td><td>0.002569</td><td>12.6031</td><td>1</td><td>1</td><td>7</td><td>0.014777</td></tr><tr><td>&hellip;</td><td>&hellip;</td><td>&hellip;</td><td>&hellip;</td><td>&hellip;</td><td>&hellip;</td><td>&hellip;</td><td>&hellip;</td><td>&hellip;</td><td>&hellip;</td><td>&hellip;</td><td>&hellip;</td><td>&hellip;</td><td>&hellip;</td><td>&hellip;</td><td>&hellip;</td><td>&hellip;</td><td>&hellip;</td><td>&hellip;</td><td>&hellip;</td><td>&hellip;</td><td>&hellip;</td><td>&hellip;</td><td>&hellip;</td><td>&hellip;</td><td>&hellip;</td></tr><tr><td>1673334000000</td><td>16.06</td><td>16.11</td><td>15.88</td><td>15.89</td><td>28364.284</td><td>452634.55593</td><td>2023-01-10 07:00:00</td><td>&quot;SOL&quot;</td><td>1</td><td>0</td><td>-0.010585</td><td>-0.236237</td><td>-0.243011</td><td>-0.00271</td><td>16.181538</td><td>0.003681</td><td>15.2936</td><td>0.001934</td><td>14.2545</td><td>0.00243</td><td>13.37485</td><td>2</td><td>1</td><td>7</td><td>-0.00271</td></tr></tbody></table></div>"
      ],
      "text/plain": [
       "shape: (25, 26)\n",
       "┌───────────────┬───────┬───────┬───────┬───┬─────┬───────┬──────┬─────────────────────────────────┐\n",
       "│ timestamp     ┆ open  ┆ high  ┆ low   ┆ … ┆ dow ┆ month ┆ hour ┆ SMA_close_pct_change_13_after_… │\n",
       "│ ---           ┆ ---   ┆ ---   ┆ ---   ┆   ┆ --- ┆ ---   ┆ ---  ┆ ---                             │\n",
       "│ i64           ┆ f64   ┆ f64   ┆ f64   ┆   ┆ i8  ┆ i8    ┆ i8   ┆ f64                             │\n",
       "╞═══════════════╪═══════╪═══════╪═══════╪═══╪═════╪═══════╪══════╪═════════════════════════════════╡\n",
       "│ 1673247600000 ┆ 16.01 ┆ 16.53 ┆ 16.01 ┆ … ┆ 1   ┆ 1     ┆ 7    ┆ 0.014777                        │\n",
       "│ …             ┆ …     ┆ …     ┆ …     ┆ … ┆ …   ┆ …     ┆ …    ┆ …                               │\n",
       "│ 1673334000000 ┆ 16.06 ┆ 16.11 ┆ 15.88 ┆ … ┆ 2   ┆ 1     ┆ 7    ┆ -0.00271                        │\n",
       "└───────────────┴───────┴───────┴───────┴───┴─────┴───────┴──────┴─────────────────────────────────┘"
      ]
     },
     "metadata": {},
     "output_type": "display_data"
    }
   ],
   "source": [
    "with pl.Config(set_tbl_rows=2):\n",
    "    display(df.with_columns(scale_features(df, [\"SMA_close_13\"])[f\"SMA_close{type_scale_suffix}_13\"].alias(f\"SMA_close{type_scale_suffix}_13_after_scaling\")).head(25))"
   ]
  },
  {
   "cell_type": "code",
   "execution_count": 128,
   "id": "473f23f0",
   "metadata": {},
   "outputs": [],
   "source": [
    "df = df.with_columns(\n",
    "    pl.when(pl.col(\"open\") > pl.col(\"close\")).then(1).otherwise(0).alias(\"green_candle\"),\n",
    "    pl.when(pl.col(\"open\") <= pl.col(\"close\")).then(1).otherwise(0).alias(\"red_candle\")\n",
    ")\n",
    "# cumulative count of consecutive green candles set to True:\n",
    "\n",
    "df = df.with_columns(\n",
    "    pl.when(pl.col(\"green_candle\") == 1)\n",
    "    .then(\n",
    "        pl.col(\"green_candle\").cum_sum().over(\n",
    "            (pl.col(\"green_candle\") != pl.col(\"green_candle\").shift(1)).cum_sum()\n",
    "        ) - 1\n",
    "    )\n",
    "    .otherwise(0)\n",
    "    .alias(\"cons_green_candles\"),\n",
    "    pl.when(pl.col(\"red_candle\") == 1)\n",
    "    .then(\n",
    "        pl.col(\"red_candle\").cum_sum().over(\n",
    "            (pl.col(\"red_candle\") != pl.col(\"red_candle\").shift(1)).cum_sum()\n",
    "        ) - 1\n",
    "    )\n",
    "    .otherwise(0)\n",
    "    .alias(\"cons_red_candles\")\n",
    ")"
   ]
  },
  {
   "cell_type": "code",
   "execution_count": 129,
   "id": "a87a6c9c",
   "metadata": {},
   "outputs": [
    {
     "data": {
      "text/html": [
       "<div><style>\n",
       ".dataframe > thead > tr,\n",
       ".dataframe > tbody > tr {\n",
       "  text-align: right;\n",
       "  white-space: pre-wrap;\n",
       "}\n",
       "</style>\n",
       "<small>shape: (5, 50)</small><table border=\"1\" class=\"dataframe\"><thead><tr><th>timestamp</th><th>open</th><th>high</th><th>low</th><th>close</th><th>volume</th><th>turnover</th><th>date</th><th>symbol</th><th>long_signal</th><th>short_signal</th><th>close_pct_change</th><th>volume_pct_change</th><th>turnover_pct_change</th><th>SMA_close_pct_change_13</th><th>SMA_close_13</th><th>SMA_close_pct_change_50</th><th>SMA_close_50</th><th>SMA_close_pct_change_100</th><th>SMA_close_100</th><th>SMA_close_pct_change_200</th><th>SMA_close_200</th><th>dow</th><th>month</th><th>hour</th><th>green_candle</th><th>red_candle</th><th>cons_green_candles</th><th>cons_red_candles</th><th>RSI_14</th><th>ema_short</th><th>ema_long</th><th>MACD</th><th>signal_line</th><th>macd_histogram</th><th>sma</th><th>std_dev</th><th>upper_band</th><th>lower_band</th><th>upper_band_pct_change</th><th>lower_band_pct_change</th><th>close_pct_change_lag_1</th><th>close_pct_change_lag_193</th><th>close_pct_change_lag_2</th><th>close_pct_change_lag_3</th><th>close_pct_change_lag_4</th><th>close_pct_change_lag_6</th><th>close_pct_change_lag_72</th><th>close_pct_change_lag_12</th><th>close_pct_change_lag_23</th></tr><tr><td>i64</td><td>f64</td><td>f64</td><td>f64</td><td>f64</td><td>f64</td><td>f64</td><td>datetime[μs]</td><td>str</td><td>i8</td><td>i8</td><td>f64</td><td>f64</td><td>f64</td><td>f64</td><td>f64</td><td>f64</td><td>f64</td><td>f64</td><td>f64</td><td>f64</td><td>f64</td><td>i8</td><td>i8</td><td>i8</td><td>i32</td><td>i32</td><td>i32</td><td>i32</td><td>f64</td><td>f64</td><td>f64</td><td>f64</td><td>f64</td><td>f64</td><td>f64</td><td>f64</td><td>f64</td><td>f64</td><td>f64</td><td>f64</td><td>f64</td><td>f64</td><td>f64</td><td>f64</td><td>f64</td><td>f64</td><td>f64</td><td>f64</td><td>f64</td></tr></thead><tbody><tr><td>1673942400000</td><td>23.41</td><td>23.68</td><td>23.37</td><td>23.67</td><td>15522.518</td><td>365039.35229</td><td>2023-01-17 08:00:00</td><td>&quot;SOL&quot;</td><td>0</td><td>-1</td><td>0.011106</td><td>-0.391288</td><td>-0.389151</td><td>0.00029</td><td>23.446154</td><td>0.001049</td><td>23.3032</td><td>0.003548</td><td>21.9467</td><td>0.002445</td><td>19.07985</td><td>2</td><td>1</td><td>8</td><td>0</td><td>1</td><td>0</td><td>1</td><td>56.5</td><td>23.438028</td><td>23.388865</td><td>0.049163</td><td>0.046626</td><td>0.0</td><td>23.396</td><td>0.213715</td><td>23.61</td><td>23.18</td><td>0.001272</td><td>0.000432</td><td>0.00214</td><td>0.021861</td><td>-0.008068</td><td>0.004264</td><td>0.010776</td><td>0.001293</td><td>0.003396</td><td>0.000424</td><td>0.012998</td></tr><tr><td>1673946000000</td><td>23.67</td><td>23.76</td><td>23.47</td><td>23.62</td><td>17448.485</td><td>411700.31441</td><td>2023-01-17 09:00:00</td><td>&quot;SOL&quot;</td><td>0</td><td>-1</td><td>-0.002112</td><td>0.124076</td><td>0.127824</td><td>0.000095</td><td>23.447692</td><td>0.000936</td><td>23.3228</td><td>0.00361</td><td>22.0148</td><td>0.00226</td><td>19.1206</td><td>2</td><td>1</td><td>9</td><td>1</td><td>0</td><td>0</td><td>0</td><td>55.25</td><td>23.466024</td><td>23.405986</td><td>0.060038</td><td>0.049309</td><td>0.01</td><td>23.4145</td><td>0.216275</td><td>23.63</td><td>23.2</td><td>0.000847</td><td>0.000863</td><td>0.011106</td><td>-0.015281</td><td>0.00214</td><td>-0.008068</td><td>0.004264</td><td>-0.001291</td><td>-0.044839</td><td>0.005085</td><td>0.001283</td></tr><tr><td>1673949600000</td><td>23.62</td><td>23.69</td><td>23.43</td><td>23.44</td><td>13251.735</td><td>311649.85089</td><td>2023-01-17 10:00:00</td><td>&quot;SOL&quot;</td><td>1</td><td>0</td><td>-0.007621</td><td>-0.240522</td><td>-0.243018</td><td>-0.000882</td><td>23.426154</td><td>0.001217</td><td>23.3486</td><td>0.003409</td><td>22.079</td><td>0.002057</td><td>19.1579</td><td>2</td><td>1</td><td>10</td><td>1</td><td>0</td><td>1</td><td>0</td><td>50.89</td><td>23.46202</td><td>23.408506</td><td>0.053515</td><td>0.05015</td><td>0.0</td><td>23.432</td><td>0.203066</td><td>23.64</td><td>23.23</td><td>0.000423</td><td>0.001293</td><td>-0.002112</td><td>0.014277</td><td>0.011106</td><td>0.00214</td><td>-0.008068</td><td>0.010776</td><td>-0.022143</td><td>-0.001686</td><td>-0.001282</td></tr><tr><td>1673953200000</td><td>23.44</td><td>23.98</td><td>23.41</td><td>23.76</td><td>51272.444</td><td>1.2189e6</td><td>2023-01-17 11:00:00</td><td>&quot;SOL&quot;</td><td>0</td><td>-1</td><td>0.013652</td><td>2.869112</td><td>2.910964</td><td>0.000298</td><td>23.432308</td><td>0.001038</td><td>23.3708</td><td>0.003622</td><td>22.1477</td><td>0.002107</td><td>19.1965</td><td>2</td><td>1</td><td>11</td><td>0</td><td>1</td><td>0</td><td>0</td><td>57.34</td><td>23.507863</td><td>23.434542</td><td>0.073321</td><td>0.054784</td><td>0.02</td><td>23.465</td><td>0.200037</td><td>23.67</td><td>23.26</td><td>0.001269</td><td>0.001291</td><td>-0.007621</td><td>0.004284</td><td>-0.002112</td><td>0.011106</td><td>0.00214</td><td>0.004264</td><td>0.01404</td><td>-0.003378</td><td>-0.005988</td></tr><tr><td>1673956800000</td><td>23.76</td><td>23.85</td><td>23.47</td><td>23.57</td><td>31180.919</td><td>737149.7996</td><td>2023-01-17 12:00:00</td><td>&quot;SOL&quot;</td><td>0</td><td>0</td><td>-0.007997</td><td>-0.391858</td><td>-0.39521</td><td>-0.000057</td><td>23.43</td><td>0.000843</td><td>23.3884</td><td>0.003512</td><td>22.214</td><td>0.002008</td><td>19.2332</td><td>2</td><td>1</td><td>12</td><td>1</td><td>0</td><td>0</td><td>0</td><td>52.9</td><td>23.517423</td><td>23.444576</td><td>0.072847</td><td>0.058397</td><td>0.01</td><td>23.4865</td><td>0.186609</td><td>23.67</td><td>23.3</td><td>0.0</td><td>0.00172</td><td>0.013652</td><td>-0.003047</td><td>-0.007621</td><td>-0.002112</td><td>0.011106</td><td>-0.008068</td><td>0.006253</td><td>-0.019915</td><td>0.00043</td></tr></tbody></table></div>"
      ],
      "text/plain": [
       "shape: (5, 50)\n",
       "┌──────────────┬───────┬───────┬───────┬───┬─────────────┬─────────────┬─────────────┬─────────────┐\n",
       "│ timestamp    ┆ open  ┆ high  ┆ low   ┆ … ┆ close_pct_c ┆ close_pct_c ┆ close_pct_c ┆ close_pct_c │\n",
       "│ ---          ┆ ---   ┆ ---   ┆ ---   ┆   ┆ hange_lag_6 ┆ hange_lag_7 ┆ hange_lag_1 ┆ hange_lag_2 │\n",
       "│ i64          ┆ f64   ┆ f64   ┆ f64   ┆   ┆ ---         ┆ 2           ┆ 2           ┆ 3           │\n",
       "│              ┆       ┆       ┆       ┆   ┆ f64         ┆ ---         ┆ ---         ┆ ---         │\n",
       "│              ┆       ┆       ┆       ┆   ┆             ┆ f64         ┆ f64         ┆ f64         │\n",
       "╞══════════════╪═══════╪═══════╪═══════╪═══╪═════════════╪═════════════╪═════════════╪═════════════╡\n",
       "│ 167394240000 ┆ 23.41 ┆ 23.68 ┆ 23.37 ┆ … ┆ 0.001293    ┆ 0.003396    ┆ 0.000424    ┆ 0.012998    │\n",
       "│ 0            ┆       ┆       ┆       ┆   ┆             ┆             ┆             ┆             │\n",
       "│ 167394600000 ┆ 23.67 ┆ 23.76 ┆ 23.47 ┆ … ┆ -0.001291   ┆ -0.044839   ┆ 0.005085    ┆ 0.001283    │\n",
       "│ 0            ┆       ┆       ┆       ┆   ┆             ┆             ┆             ┆             │\n",
       "│ 167394960000 ┆ 23.62 ┆ 23.69 ┆ 23.43 ┆ … ┆ 0.010776    ┆ -0.022143   ┆ -0.001686   ┆ -0.001282   │\n",
       "│ 0            ┆       ┆       ┆       ┆   ┆             ┆             ┆             ┆             │\n",
       "│ 167395320000 ┆ 23.44 ┆ 23.98 ┆ 23.41 ┆ … ┆ 0.004264    ┆ 0.01404     ┆ -0.003378   ┆ -0.005988   │\n",
       "│ 0            ┆       ┆       ┆       ┆   ┆             ┆             ┆             ┆             │\n",
       "│ 167395680000 ┆ 23.76 ┆ 23.85 ┆ 23.47 ┆ … ┆ -0.008068   ┆ 0.006253    ┆ -0.019915   ┆ 0.00043     │\n",
       "│ 0            ┆       ┆       ┆       ┆   ┆             ┆             ┆             ┆             │\n",
       "└──────────────┴───────┴───────┴───────┴───┴─────────────┴─────────────┴─────────────┴─────────────┘"
      ]
     },
     "execution_count": 129,
     "metadata": {},
     "output_type": "execute_result"
    }
   ],
   "source": [
    "other_lags = [1, 2, 3, 4, 6, 12, 72]\n",
    "all_lags = list(set(common_lags).union(set(other_lags)))\n",
    "df = calculate_rsi_by_symbol(df, window=14)\n",
    "df = calculate_macd_by_symbol(df)\n",
    "df = calculate_bollinger_bands_by_symbol(df)\n",
    "df = scale_features(df, [\"upper_band\", \"lower_band\"])\n",
    "df = create_lagged_features_by_symbol(df, f\"close{type_scale_suffix}\", significant_lags=all_lags)\n",
    "df = df.drop_nulls()\n",
    "df.head()"
   ]
  },
  {
   "cell_type": "code",
   "execution_count": 130,
   "id": "a6c0a08a",
   "metadata": {},
   "outputs": [
    {
     "name": "stderr",
     "output_type": "stream",
     "text": [
      "/tmp/ipykernel_67528/3893138174.py:2: DeprecationWarning: `GroupBy.count` is deprecated. It has been renamed to `len`.\n",
      "  pippo.group_by(\"symbol\").count()\n"
     ]
    },
    {
     "data": {
      "text/html": [
       "<div><style>\n",
       ".dataframe > thead > tr,\n",
       ".dataframe > tbody > tr {\n",
       "  text-align: right;\n",
       "  white-space: pre-wrap;\n",
       "}\n",
       "</style>\n",
       "<small>shape: (9, 2)</small><table border=\"1\" class=\"dataframe\"><thead><tr><th>symbol</th><th>count</th></tr><tr><td>str</td><td>u32</td></tr></thead><tbody><tr><td>&quot;ATOM&quot;</td><td>14908</td></tr><tr><td>&quot;TRX&quot;</td><td>14908</td></tr><tr><td>&quot;BTC&quot;</td><td>14908</td></tr><tr><td>&quot;ADA&quot;</td><td>14908</td></tr><tr><td>&quot;ETH&quot;</td><td>14908</td></tr><tr><td>&quot;XRP&quot;</td><td>14908</td></tr><tr><td>&quot;LTC&quot;</td><td>14908</td></tr><tr><td>&quot;SOL&quot;</td><td>14908</td></tr><tr><td>&quot;DOGE&quot;</td><td>14908</td></tr></tbody></table></div>"
      ],
      "text/plain": [
       "shape: (9, 2)\n",
       "┌────────┬───────┐\n",
       "│ symbol ┆ count │\n",
       "│ ---    ┆ ---   │\n",
       "│ str    ┆ u32   │\n",
       "╞════════╪═══════╡\n",
       "│ ATOM   ┆ 14908 │\n",
       "│ TRX    ┆ 14908 │\n",
       "│ BTC    ┆ 14908 │\n",
       "│ ADA    ┆ 14908 │\n",
       "│ ETH    ┆ 14908 │\n",
       "│ XRP    ┆ 14908 │\n",
       "│ LTC    ┆ 14908 │\n",
       "│ SOL    ┆ 14908 │\n",
       "│ DOGE   ┆ 14908 │\n",
       "└────────┴───────┘"
      ]
     },
     "execution_count": 130,
     "metadata": {},
     "output_type": "execute_result"
    }
   ],
   "source": [
    "pippo = df.drop_nulls()\n",
    "pippo.group_by(\"symbol\").count()"
   ]
  },
  {
   "cell_type": "code",
   "execution_count": 131,
   "id": "3870bd76",
   "metadata": {},
   "outputs": [
    {
     "data": {
      "text/html": [
       "<div><style>\n",
       ".dataframe > thead > tr,\n",
       ".dataframe > tbody > tr {\n",
       "  text-align: right;\n",
       "  white-space: pre-wrap;\n",
       "}\n",
       "</style>\n",
       "<small>shape: (5, 51)</small><table border=\"1\" class=\"dataframe\"><thead><tr><th>timestamp</th><th>open</th><th>high</th><th>low</th><th>close</th><th>volume</th><th>turnover</th><th>date</th><th>symbol</th><th>long_signal</th><th>short_signal</th><th>close_pct_change</th><th>volume_pct_change</th><th>turnover_pct_change</th><th>SMA_close_pct_change_13</th><th>SMA_close_13</th><th>SMA_close_pct_change_50</th><th>SMA_close_50</th><th>SMA_close_pct_change_100</th><th>SMA_close_100</th><th>SMA_close_pct_change_200</th><th>SMA_close_200</th><th>dow</th><th>month</th><th>hour</th><th>green_candle</th><th>red_candle</th><th>cons_green_candles</th><th>cons_red_candles</th><th>RSI_14</th><th>ema_short</th><th>ema_long</th><th>MACD</th><th>signal_line</th><th>macd_histogram</th><th>sma</th><th>std_dev</th><th>upper_band</th><th>lower_band</th><th>upper_band_pct_change</th><th>lower_band_pct_change</th><th>close_pct_change_lag_1</th><th>close_pct_change_lag_193</th><th>close_pct_change_lag_2</th><th>close_pct_change_lag_3</th><th>close_pct_change_lag_4</th><th>close_pct_change_lag_6</th><th>close_pct_change_lag_72</th><th>close_pct_change_lag_12</th><th>close_pct_change_lag_23</th><th>symbol_encoded</th></tr><tr><td>i64</td><td>f64</td><td>f64</td><td>f64</td><td>f64</td><td>f64</td><td>f64</td><td>datetime[μs]</td><td>str</td><td>i8</td><td>i8</td><td>f64</td><td>f64</td><td>f64</td><td>f64</td><td>f64</td><td>f64</td><td>f64</td><td>f64</td><td>f64</td><td>f64</td><td>f64</td><td>i8</td><td>i8</td><td>i8</td><td>i32</td><td>i32</td><td>i32</td><td>i32</td><td>f64</td><td>f64</td><td>f64</td><td>f64</td><td>f64</td><td>f64</td><td>f64</td><td>f64</td><td>f64</td><td>f64</td><td>f64</td><td>f64</td><td>f64</td><td>f64</td><td>f64</td><td>f64</td><td>f64</td><td>f64</td><td>f64</td><td>f64</td><td>f64</td><td>i32</td></tr></thead><tbody><tr><td>1673942400000</td><td>23.41</td><td>23.68</td><td>23.37</td><td>23.67</td><td>15522.518</td><td>365039.35229</td><td>2023-01-17 08:00:00</td><td>&quot;SOL&quot;</td><td>0</td><td>-1</td><td>0.011106</td><td>-0.391288</td><td>-0.389151</td><td>0.00029</td><td>23.446154</td><td>0.001049</td><td>23.3032</td><td>0.003548</td><td>21.9467</td><td>0.002445</td><td>19.07985</td><td>2</td><td>1</td><td>8</td><td>0</td><td>1</td><td>0</td><td>1</td><td>56.5</td><td>23.438028</td><td>23.388865</td><td>0.049163</td><td>0.046626</td><td>0.0</td><td>23.396</td><td>0.213715</td><td>23.61</td><td>23.18</td><td>0.001272</td><td>0.000432</td><td>0.00214</td><td>0.021861</td><td>-0.008068</td><td>0.004264</td><td>0.010776</td><td>0.001293</td><td>0.003396</td><td>0.000424</td><td>0.012998</td><td>2</td></tr><tr><td>1673946000000</td><td>23.67</td><td>23.76</td><td>23.47</td><td>23.62</td><td>17448.485</td><td>411700.31441</td><td>2023-01-17 09:00:00</td><td>&quot;SOL&quot;</td><td>0</td><td>-1</td><td>-0.002112</td><td>0.124076</td><td>0.127824</td><td>0.000095</td><td>23.447692</td><td>0.000936</td><td>23.3228</td><td>0.00361</td><td>22.0148</td><td>0.00226</td><td>19.1206</td><td>2</td><td>1</td><td>9</td><td>1</td><td>0</td><td>0</td><td>0</td><td>55.25</td><td>23.466024</td><td>23.405986</td><td>0.060038</td><td>0.049309</td><td>0.01</td><td>23.4145</td><td>0.216275</td><td>23.63</td><td>23.2</td><td>0.000847</td><td>0.000863</td><td>0.011106</td><td>-0.015281</td><td>0.00214</td><td>-0.008068</td><td>0.004264</td><td>-0.001291</td><td>-0.044839</td><td>0.005085</td><td>0.001283</td><td>2</td></tr><tr><td>1673949600000</td><td>23.62</td><td>23.69</td><td>23.43</td><td>23.44</td><td>13251.735</td><td>311649.85089</td><td>2023-01-17 10:00:00</td><td>&quot;SOL&quot;</td><td>1</td><td>0</td><td>-0.007621</td><td>-0.240522</td><td>-0.243018</td><td>-0.000882</td><td>23.426154</td><td>0.001217</td><td>23.3486</td><td>0.003409</td><td>22.079</td><td>0.002057</td><td>19.1579</td><td>2</td><td>1</td><td>10</td><td>1</td><td>0</td><td>1</td><td>0</td><td>50.89</td><td>23.46202</td><td>23.408506</td><td>0.053515</td><td>0.05015</td><td>0.0</td><td>23.432</td><td>0.203066</td><td>23.64</td><td>23.23</td><td>0.000423</td><td>0.001293</td><td>-0.002112</td><td>0.014277</td><td>0.011106</td><td>0.00214</td><td>-0.008068</td><td>0.010776</td><td>-0.022143</td><td>-0.001686</td><td>-0.001282</td><td>2</td></tr><tr><td>1673953200000</td><td>23.44</td><td>23.98</td><td>23.41</td><td>23.76</td><td>51272.444</td><td>1.2189e6</td><td>2023-01-17 11:00:00</td><td>&quot;SOL&quot;</td><td>0</td><td>-1</td><td>0.013652</td><td>2.869112</td><td>2.910964</td><td>0.000298</td><td>23.432308</td><td>0.001038</td><td>23.3708</td><td>0.003622</td><td>22.1477</td><td>0.002107</td><td>19.1965</td><td>2</td><td>1</td><td>11</td><td>0</td><td>1</td><td>0</td><td>0</td><td>57.34</td><td>23.507863</td><td>23.434542</td><td>0.073321</td><td>0.054784</td><td>0.02</td><td>23.465</td><td>0.200037</td><td>23.67</td><td>23.26</td><td>0.001269</td><td>0.001291</td><td>-0.007621</td><td>0.004284</td><td>-0.002112</td><td>0.011106</td><td>0.00214</td><td>0.004264</td><td>0.01404</td><td>-0.003378</td><td>-0.005988</td><td>2</td></tr><tr><td>1673956800000</td><td>23.76</td><td>23.85</td><td>23.47</td><td>23.57</td><td>31180.919</td><td>737149.7996</td><td>2023-01-17 12:00:00</td><td>&quot;SOL&quot;</td><td>0</td><td>0</td><td>-0.007997</td><td>-0.391858</td><td>-0.39521</td><td>-0.000057</td><td>23.43</td><td>0.000843</td><td>23.3884</td><td>0.003512</td><td>22.214</td><td>0.002008</td><td>19.2332</td><td>2</td><td>1</td><td>12</td><td>1</td><td>0</td><td>0</td><td>0</td><td>52.9</td><td>23.517423</td><td>23.444576</td><td>0.072847</td><td>0.058397</td><td>0.01</td><td>23.4865</td><td>0.186609</td><td>23.67</td><td>23.3</td><td>0.0</td><td>0.00172</td><td>0.013652</td><td>-0.003047</td><td>-0.007621</td><td>-0.002112</td><td>0.011106</td><td>-0.008068</td><td>0.006253</td><td>-0.019915</td><td>0.00043</td><td>2</td></tr></tbody></table></div>"
      ],
      "text/plain": [
       "shape: (5, 51)\n",
       "┌──────────────┬───────┬───────┬───────┬───┬─────────────┬─────────────┬─────────────┬─────────────┐\n",
       "│ timestamp    ┆ open  ┆ high  ┆ low   ┆ … ┆ close_pct_c ┆ close_pct_c ┆ close_pct_c ┆ symbol_enco │\n",
       "│ ---          ┆ ---   ┆ ---   ┆ ---   ┆   ┆ hange_lag_7 ┆ hange_lag_1 ┆ hange_lag_2 ┆ ded         │\n",
       "│ i64          ┆ f64   ┆ f64   ┆ f64   ┆   ┆ 2           ┆ 2           ┆ 3           ┆ ---         │\n",
       "│              ┆       ┆       ┆       ┆   ┆ ---         ┆ ---         ┆ ---         ┆ i32         │\n",
       "│              ┆       ┆       ┆       ┆   ┆ f64         ┆ f64         ┆ f64         ┆             │\n",
       "╞══════════════╪═══════╪═══════╪═══════╪═══╪═════════════╪═════════════╪═════════════╪═════════════╡\n",
       "│ 167394240000 ┆ 23.41 ┆ 23.68 ┆ 23.37 ┆ … ┆ 0.003396    ┆ 0.000424    ┆ 0.012998    ┆ 2           │\n",
       "│ 0            ┆       ┆       ┆       ┆   ┆             ┆             ┆             ┆             │\n",
       "│ 167394600000 ┆ 23.67 ┆ 23.76 ┆ 23.47 ┆ … ┆ -0.044839   ┆ 0.005085    ┆ 0.001283    ┆ 2           │\n",
       "│ 0            ┆       ┆       ┆       ┆   ┆             ┆             ┆             ┆             │\n",
       "│ 167394960000 ┆ 23.62 ┆ 23.69 ┆ 23.43 ┆ … ┆ -0.022143   ┆ -0.001686   ┆ -0.001282   ┆ 2           │\n",
       "│ 0            ┆       ┆       ┆       ┆   ┆             ┆             ┆             ┆             │\n",
       "│ 167395320000 ┆ 23.44 ┆ 23.98 ┆ 23.41 ┆ … ┆ 0.01404     ┆ -0.003378   ┆ -0.005988   ┆ 2           │\n",
       "│ 0            ┆       ┆       ┆       ┆   ┆             ┆             ┆             ┆             │\n",
       "│ 167395680000 ┆ 23.76 ┆ 23.85 ┆ 23.47 ┆ … ┆ 0.006253    ┆ -0.019915   ┆ 0.00043     ┆ 2           │\n",
       "│ 0            ┆       ┆       ┆       ┆   ┆             ┆             ┆             ┆             │\n",
       "└──────────────┴───────┴───────┴───────┴───┴─────────────┴─────────────┴─────────────┴─────────────┘"
      ]
     },
     "execution_count": 131,
     "metadata": {},
     "output_type": "execute_result"
    }
   ],
   "source": [
    "symbols_list = [\n",
    "    \"ETH\", \"BTC\", \"SOL\",\n",
    "    \"XRP\", \"DOGE\", \"TRX\",\n",
    "    \"ADA\", \"LTC\", \"ATOM\"\n",
    "]\n",
    "\n",
    "symbol_encoding = {\n",
    "    symbol: i for i, symbol in enumerate(symbols_list)\n",
    "}\n",
    "\n",
    "#symbol_encoding = {symbol: i for i, symbol in enumerate(df[\"symbol\"].unique())}\n",
    "\n",
    "df = df.with_columns(\n",
    "    pl.col(\"symbol\").replace(symbol_encoding).cast(pl.Int32).alias(\"symbol_encoded\")\n",
    ")\n",
    "df.head()"
   ]
  },
  {
   "cell_type": "markdown",
   "id": "8e50c6cc",
   "metadata": {},
   "source": [
    "# TRAIN"
   ]
  },
  {
   "cell_type": "code",
   "execution_count": 47,
   "id": "a88c1c99",
   "metadata": {},
   "outputs": [
    {
     "name": "stdout",
     "output_type": "stream",
     "text": [
      "['close_pct_change', 'volume_pct_change', 'turnover_pct_change', 'SMA_close_pct_change_13', 'SMA_close_pct_change_50', 'SMA_close_pct_change_100', 'SMA_close_pct_change_200', 'upper_band_pct_change', 'lower_band_pct_change', 'close_pct_change_lag_1', 'close_pct_change_lag_193', 'close_pct_change_lag_23', 'dow', 'hour', 'cons_green_candles', 'cons_red_candles', 'RSI_14', 'macd_histogram', 'symbol_encoded']\n"
     ]
    }
   ],
   "source": [
    "FEATURES = [col for col in df.columns if \"pct_change\" in col] \\\n",
    "    + [\"dow\",\"hour\", \"cons_green_candles\", \"cons_red_candles\", \"RSI_14\", \"macd_histogram\"] \\\n",
    "    + [\"symbol_encoded\"]\n",
    "print(FEATURES)"
   ]
  },
  {
   "cell_type": "code",
   "execution_count": null,
   "id": "177b64bd",
   "metadata": {},
   "outputs": [],
   "source": [
    "tscv = TimeSeriesSplit(n_splits=15, test_size=100)\n",
    "p = {  \n",
    "    'eval_metric':'auc',\n",
    "    'tree_method':'hist',\n",
    "    # 'lambda':5,\n",
    "    #'gamma':2,\n",
    "    'max_depth':5,\n",
    "    # 'scale_pos_weight':2,\n",
    "    'objective':'binary:logistic',\n",
    "    'subsample': .8,\n",
    "    # 'colsample_bytree': .9,\n",
    "    'min_child_weight':1,\n",
    "    'eta':0.02,\n",
    "    'n_estimators':2000\n",
    "}\n",
    "\n",
    "\n",
    "def polars_time_series_cross_val(df: pl.DataFrame, target_var: str, n_splits: int = 5):\n",
    "    tscv = TimeSeriesSplit(n_splits=n_splits, test_size=720)\n",
    "    model = xgb.XGBClassifier(**p)  # Set optimal hyperparameters here\n",
    "\n",
    "    # Cross-validation to find the best hyperparameters\n",
    "    for train_index, test_index in tscv.split(df):\n",
    "        train_data = df.slice(train_index[0], len(train_index))\n",
    "        test_data = df.slice(test_index[0], len(test_index))\n",
    "        \n",
    "        # Splitting features and labels\n",
    "        train_features, train_labels = split_target_features(train_data, target_var=target_var)\n",
    "        val_features, val_labels = split_target_features(test_data, target_var=target_var)\n",
    "\n",
    "        # Fit model (you can include hyperparameter tuning here)\n",
    "        model.fit(train_features.to_pandas(), train_labels.to_pandas(), \n",
    "                  eval_set=[(train_features.to_pandas(), train_labels.to_pandas()), \n",
    "                            (val_features.to_pandas(), val_labels.to_pandas())], \n",
    "                  verbose=500)\n",
    "    \n",
    "    # This loop is only for cross-validation; the model will be re-trained below\n",
    "    return model\n",
    "\n",
    "# Final training using the entire dataset\n",
    "def train_final_model(df: pl.DataFrame, target_var: str):\n",
    "    model = xgb.XGBClassifier(**p)  # Set optimal hyperparameters here\n",
    "    features, labels = split_target_features(df, target_var=target_var)\n",
    "    # Train the final model on the entire dataset\n",
    "    model.fit(features.to_pandas(), labels.to_pandas(), verbose=1)\n",
    "    return model\n",
    "\n",
    "# Usage\n",
    "# Run cross-validation to tune hyperparameters\n",
    "cv_model = polars_time_series_cross_val(df.select(FEATURES + [\"long_signal\"]), target_var='long_signal', n_splits=5)\n",
    "\n",
    "print(\"Final Train\")\n",
    "# Train the final model using the entire dataset\n",
    "final_model = train_final_model(df.select(FEATURES + [\"long_signal\"]), target_var='long_signal')"
   ]
  },
  {
   "cell_type": "code",
   "execution_count": null,
   "id": "edef4721",
   "metadata": {},
   "outputs": [
    {
     "data": {
      "text/plain": [
       "2000"
      ]
     },
     "execution_count": 202,
     "metadata": {},
     "output_type": "execute_result"
    }
   ],
   "source": [
    "model = xgb.XGBClassifier(**p)  # Set optimal hyperparameters here\n",
    "features, labels = split_target_features(df.select(FEATURES + [\"long_signal\"]), target_var='long_signal')\n",
    "# Train the final model on the entire dataset\n",
    "model.fit(features.to_pandas(), labels.to_pandas(), verbose=True)\n",
    "model.get_num_boosting_rounds()"
   ]
  },
  {
   "cell_type": "code",
   "execution_count": null,
   "id": "0e93badc",
   "metadata": {},
   "outputs": [],
   "source": [
    "y_hat = model.predict_proba(features.to_pandas())[:,1]"
   ]
  },
  {
   "cell_type": "code",
   "execution_count": 205,
   "id": "ed0e19e8",
   "metadata": {},
   "outputs": [
    {
     "data": {
      "text/plain": [
       "np.float64(0.839297564482169)"
      ]
     },
     "execution_count": 205,
     "metadata": {},
     "output_type": "execute_result"
    }
   ],
   "source": [
    "from sklearn.metrics import roc_auc_score\n",
    "roc_auc_score(labels.to_pandas(),y_hat)"
   ]
  },
  {
   "cell_type": "markdown",
   "id": "0cb9edb0",
   "metadata": {},
   "source": [
    "## PROVO AD AGGIUNGERE DATI DA S&P E NASDAQ"
   ]
  },
  {
   "cell_type": "code",
   "execution_count": 132,
   "id": "354c92df",
   "metadata": {},
   "outputs": [
    {
     "name": "stderr",
     "output_type": "stream",
     "text": [
      "[*********************100%***********************]  2 of 2 completed\n",
      "[*********************100%***********************]  1 of 1 completed"
     ]
    },
    {
     "name": "stdout",
     "output_type": "stream",
     "text": [
      "2022-12-28 00:00:00\n",
      "2024-10-07 22:41:19.445516\n"
     ]
    },
    {
     "name": "stderr",
     "output_type": "stream",
     "text": [
      "\n",
      "[*********************100%***********************]  1 of 1 completed\n"
     ]
    }
   ],
   "source": [
    "import yfinance as yf\n",
    "\n",
    "\n",
    "# Usage\n",
    "start_date = dt.datetime(2022, 12, 28)\n",
    "print(start_date)\n",
    "end_date = dt.datetime.now()\n",
    "print(end_date)\n",
    "data_sp = get_all_data(start_date, end_date)\n",
    "data_sp = data_sp.with_columns(\n",
    "    pl.col(\"date\").dt.truncate(\"1h\").dt.replace_time_zone(None).dt.cast_time_unit(\"us\").alias(\"date\"),\n",
    "    pl.col(\"SP500\").fill_null(strategy=\"forward\").alias(\"SP500\"),\n",
    "    pl.col(\"NASDAQ\").fill_null(strategy=\"forward\").alias(\"NASDAQ\"),\n",
    ").sort(\"date\")\n",
    "data_sp = scale_features(data_sp, [\"SP500\", \"NASDAQ\"], type_scale=\"pct_change\", suffix=\"_pct_change\")\n",
    "data_sp = data_sp.drop_nulls()\n",
    "\n",
    "data_vix = get_vix_data(start_date, end_date)\n",
    "data_vix = data_vix.with_columns(\n",
    "    pl.col(\"date\").dt.truncate(\"1h\").dt.replace_time_zone(None).dt.cast_time_unit(\"us\").alias(\"date\"),\n",
    "    pl.col(\"VIX\").fill_null(strategy=\"forward\").alias(\"VIX\")\n",
    ").sort(\"date\")\n",
    "data_vix = scale_features(data_vix, [\"VIX\"], type_scale=\"pct_change\", suffix=\"_pct_change\")\n",
    "\n",
    "data_usd = get_stock_data(\"DX-Y.NYB\", start_date, end_date)\n",
    "data_usd = data_usd.with_columns(\n",
    "    pl.col(\"date\").dt.truncate(\"1h\").dt.convert_time_zone(\"UTC\").dt.replace_time_zone(None).dt.cast_time_unit(\"us\").alias(\"date\"),\n",
    "    pl.col(\"Adj Close\").fill_null(strategy=\"forward\").alias(\"DXY\")\n",
    ").sort(\"date\")\n",
    "data_usd = scale_features(data_usd, [\"DXY\"], type_scale=\"pct_change\", suffix=\"_pct_change\")\n"
   ]
  },
  {
   "cell_type": "code",
   "execution_count": 71,
   "id": "d3b9f24c",
   "metadata": {},
   "outputs": [],
   "source": [
    "#Search for data series\n",
    "#fred.search('potential gdp').T"
   ]
  },
  {
   "cell_type": "code",
   "execution_count": 133,
   "id": "7a4fe386",
   "metadata": {},
   "outputs": [
    {
     "data": {
      "text/html": [
       "<div><style>\n",
       ".dataframe > thead > tr,\n",
       ".dataframe > tbody > tr {\n",
       "  text-align: right;\n",
       "  white-space: pre-wrap;\n",
       "}\n",
       "</style>\n",
       "<small>shape: (5, 5)</small><table border=\"1\" class=\"dataframe\"><thead><tr><th>date</th><th>SP500_pct_change</th><th>NASDAQ_pct_change</th><th>VIX_pct_change</th><th>DXY_pct_change</th></tr><tr><td>datetime[μs]</td><td>f64</td><td>f64</td><td>f64</td><td>f64</td></tr></thead><tbody><tr><td>2024-10-07 18:00:00</td><td>0.00162</td><td>0.00179</td><td>0.030059</td><td>0.000146</td></tr><tr><td>2024-10-07 19:00:00</td><td>0.00162</td><td>0.00179</td><td>0.030059</td><td>0.001133</td></tr><tr><td>2024-10-07 20:00:00</td><td>0.00162</td><td>0.00179</td><td>0.030059</td><td>-0.0004</td></tr><tr><td>2024-10-07 21:00:00</td><td>0.00162</td><td>0.00179</td><td>0.030059</td><td>-0.000039</td></tr><tr><td>2024-10-07 22:00:00</td><td>0.00162</td><td>0.00179</td><td>0.030059</td><td>-0.000039</td></tr></tbody></table></div>"
      ],
      "text/plain": [
       "shape: (5, 5)\n",
       "┌─────────────────────┬──────────────────┬───────────────────┬────────────────┬────────────────┐\n",
       "│ date                ┆ SP500_pct_change ┆ NASDAQ_pct_change ┆ VIX_pct_change ┆ DXY_pct_change │\n",
       "│ ---                 ┆ ---              ┆ ---               ┆ ---            ┆ ---            │\n",
       "│ datetime[μs]        ┆ f64              ┆ f64               ┆ f64            ┆ f64            │\n",
       "╞═════════════════════╪══════════════════╪═══════════════════╪════════════════╪════════════════╡\n",
       "│ 2024-10-07 18:00:00 ┆ 0.00162          ┆ 0.00179           ┆ 0.030059       ┆ 0.000146       │\n",
       "│ 2024-10-07 19:00:00 ┆ 0.00162          ┆ 0.00179           ┆ 0.030059       ┆ 0.001133       │\n",
       "│ 2024-10-07 20:00:00 ┆ 0.00162          ┆ 0.00179           ┆ 0.030059       ┆ -0.0004        │\n",
       "│ 2024-10-07 21:00:00 ┆ 0.00162          ┆ 0.00179           ┆ 0.030059       ┆ -0.000039      │\n",
       "│ 2024-10-07 22:00:00 ┆ 0.00162          ┆ 0.00179           ┆ 0.030059       ┆ -0.000039      │\n",
       "└─────────────────────┴──────────────────┴───────────────────┴────────────────┴────────────────┘"
      ]
     },
     "execution_count": 133,
     "metadata": {},
     "output_type": "execute_result"
    }
   ],
   "source": [
    "all_dates = pl.DataFrame(\n",
    "    pl.datetime_range(\n",
    "        start_date,\n",
    "        end_date,\n",
    "        dt.timedelta(hours=1),\n",
    "        time_unit=\"us\",\n",
    "        eager=True,\n",
    "    ).alias(\"date\")\n",
    ")\n",
    "data = all_dates.join(data_sp, on=\"date\", how=\"left\").with_columns(\n",
    "    pl.col(\"SP500_pct_change\").fill_null(strategy=\"forward\"),\n",
    "    pl.col(\"NASDAQ_pct_change\").fill_null(strategy=\"forward\"),\n",
    ")\n",
    "data = data.join(data_vix, on=\"date\", how=\"left\").with_columns(\n",
    "    pl.col(\"VIX_pct_change\").fill_null(strategy=\"forward\"),\n",
    ").sort(\"date\")\n",
    "data = data.join(data_usd, on=\"date\", how=\"left\").with_columns(\n",
    "    pl.col(\"DXY_pct_change\").fill_null(strategy=\"forward\"),\n",
    ").sort(\"date\")\n",
    "\n",
    "# shifto perche suppongo che l'ora prima influenzi i dati crypto dell'ora sucessiva\n",
    "data = data.with_columns(\n",
    "    pl.col(\"SP500_pct_change\").shift().alias(\"SP500_pct_change\"),\n",
    "    pl.col(\"NASDAQ_pct_change\").shift().alias(\"NASDAQ_pct_change\"),\n",
    "    pl.col(\"VIX_pct_change\").shift().alias(\"VIX_pct_change\"), \n",
    "    pl.col(\"DXY_pct_change\").shift().alias(\"DXY_pct_change\"), \n",
    ")\n",
    "\n",
    "data = data[[\"date\",\"SP500_pct_change\",\"NASDAQ_pct_change\",\"VIX_pct_change\", \"DXY_pct_change\"]].drop_nulls()\n",
    "data.tail(5)"
   ]
  },
  {
   "cell_type": "code",
   "execution_count": 134,
   "id": "af81e64a",
   "metadata": {},
   "outputs": [
    {
     "data": {
      "text/html": [
       "<div><style>\n",
       ".dataframe > thead > tr,\n",
       ".dataframe > tbody > tr {\n",
       "  text-align: right;\n",
       "  white-space: pre-wrap;\n",
       "}\n",
       "</style>\n",
       "<small>shape: (5, 55)</small><table border=\"1\" class=\"dataframe\"><thead><tr><th>timestamp</th><th>open</th><th>high</th><th>low</th><th>close</th><th>volume</th><th>turnover</th><th>date</th><th>symbol</th><th>long_signal</th><th>short_signal</th><th>close_pct_change</th><th>volume_pct_change</th><th>turnover_pct_change</th><th>SMA_close_pct_change_13</th><th>SMA_close_13</th><th>SMA_close_pct_change_50</th><th>SMA_close_50</th><th>SMA_close_pct_change_100</th><th>SMA_close_100</th><th>SMA_close_pct_change_200</th><th>SMA_close_200</th><th>dow</th><th>month</th><th>hour</th><th>green_candle</th><th>red_candle</th><th>cons_green_candles</th><th>cons_red_candles</th><th>RSI_14</th><th>ema_short</th><th>ema_long</th><th>MACD</th><th>signal_line</th><th>macd_histogram</th><th>sma</th><th>std_dev</th><th>upper_band</th><th>lower_band</th><th>upper_band_pct_change</th><th>lower_band_pct_change</th><th>close_pct_change_lag_1</th><th>close_pct_change_lag_193</th><th>close_pct_change_lag_2</th><th>close_pct_change_lag_3</th><th>close_pct_change_lag_4</th><th>close_pct_change_lag_6</th><th>close_pct_change_lag_72</th><th>close_pct_change_lag_12</th><th>close_pct_change_lag_23</th><th>symbol_encoded</th><th>SP500_pct_change</th><th>NASDAQ_pct_change</th><th>VIX_pct_change</th><th>DXY_pct_change</th></tr><tr><td>i64</td><td>f64</td><td>f64</td><td>f64</td><td>f64</td><td>f64</td><td>f64</td><td>datetime[μs]</td><td>str</td><td>i8</td><td>i8</td><td>f64</td><td>f64</td><td>f64</td><td>f64</td><td>f64</td><td>f64</td><td>f64</td><td>f64</td><td>f64</td><td>f64</td><td>f64</td><td>i8</td><td>i8</td><td>i8</td><td>i32</td><td>i32</td><td>i32</td><td>i32</td><td>f64</td><td>f64</td><td>f64</td><td>f64</td><td>f64</td><td>f64</td><td>f64</td><td>f64</td><td>f64</td><td>f64</td><td>f64</td><td>f64</td><td>f64</td><td>f64</td><td>f64</td><td>f64</td><td>f64</td><td>f64</td><td>f64</td><td>f64</td><td>f64</td><td>i32</td><td>f64</td><td>f64</td><td>f64</td><td>f64</td></tr></thead><tbody><tr><td>1727593200000</td><td>0.12696</td><td>0.12736</td><td>0.12587</td><td>0.12596</td><td>1.1660e7</td><td>1.4748e6</td><td>2024-09-29 07:00:00</td><td>&quot;DOGE&quot;</td><td>0</td><td>0</td><td>-0.007876</td><td>-0.194109</td><td>-0.199284</td><td>-0.002704</td><td>0.128656</td><td>0.000673</td><td>0.125926</td><td>0.001348</td><td>0.119372</td><td>0.000916</td><td>0.113457</td><td>7</td><td>9</td><td>7</td><td>1</td><td>0</td><td>4</td><td>0</td><td>44.7</td><td>0.127986</td><td>0.127318</td><td>0.000668</td><td>0.001192</td><td>-0.0</td><td>0.12851</td><td>0.002009</td><td>0.13</td><td>0.13</td><td>0.0</td><td>0.0</td><td>-0.005951</td><td>0.002959</td><td>-0.008847</td><td>-0.004481</td><td>-0.002927</td><td>0.011111</td><td>0.001766</td><td>-0.002835</td><td>-0.001642</td><td>4</td><td>-0.000792</td><td>-0.000344</td><td>0.008918</td><td>0.00002</td></tr><tr><td>1727596800000</td><td>0.12596</td><td>0.1268</td><td>0.12559</td><td>0.12626</td><td>9925707.5</td><td>1.2534e6</td><td>2024-09-29 08:00:00</td><td>&quot;DOGE&quot;</td><td>0</td><td>0</td><td>0.002382</td><td>-0.148719</td><td>-0.150112</td><td>-0.002302</td><td>0.128358</td><td>0.000467</td><td>0.125978</td><td>0.001453</td><td>0.119538</td><td>0.000945</td><td>0.113563</td><td>7</td><td>9</td><td>8</td><td>0</td><td>1</td><td>0</td><td>0</td><td>46.04</td><td>0.127721</td><td>0.12724</td><td>0.000481</td><td>0.00105</td><td>-0.0</td><td>0.128653</td><td>0.001721</td><td>0.13</td><td>0.13</td><td>0.0</td><td>0.0</td><td>-0.007876</td><td>0.004093</td><td>-0.005951</td><td>-0.008847</td><td>-0.004481</td><td>0.004643</td><td>0.002909</td><td>0.002997</td><td>0.005673</td><td>4</td><td>-0.000792</td><td>-0.000344</td><td>0.008918</td><td>0.00002</td></tr><tr><td>1727600400000</td><td>0.12626</td><td>0.12741</td><td>0.12623</td><td>0.12664</td><td>8530702.8</td><td>1.0827e6</td><td>2024-09-29 09:00:00</td><td>&quot;DOGE&quot;</td><td>0</td><td>0</td><td>0.00301</td><td>-0.140545</td><td>-0.136167</td><td>-0.002301</td><td>0.12806</td><td>0.000648</td><td>0.126052</td><td>0.001481</td><td>0.119707</td><td>0.001005</td><td>0.113675</td><td>7</td><td>9</td><td>9</td><td>0</td><td>1</td><td>0</td><td>1</td><td>47.76</td><td>0.127554</td><td>0.127195</td><td>0.000359</td><td>0.000912</td><td>-0.0</td><td>0.128781</td><td>0.00145</td><td>0.13</td><td>0.13</td><td>0.0</td><td>0.0</td><td>0.002382</td><td>0.003507</td><td>-0.007876</td><td>-0.005951</td><td>-0.008847</td><td>-0.002927</td><td>-0.002373</td><td>-0.010343</td><td>0.009892</td><td>4</td><td>-0.000792</td><td>-0.000344</td><td>0.008918</td><td>0.00002</td></tr><tr><td>1727604000000</td><td>0.12664</td><td>0.12713</td><td>0.12574</td><td>0.12712</td><td>8.583477e6</td><td>1.0856e6</td><td>2024-09-29 10:00:00</td><td>&quot;DOGE&quot;</td><td>0</td><td>0</td><td>0.00379</td><td>0.006186</td><td>0.002685</td><td>-0.001214</td><td>0.127902</td><td>0.000625</td><td>0.126124</td><td>0.001602</td><td>0.11989</td><td>0.000997</td><td>0.113786</td><td>7</td><td>9</td><td>10</td><td>0</td><td>1</td><td>0</td><td>2</td><td>49.94</td><td>0.127488</td><td>0.12719</td><td>0.000298</td><td>0.000789</td><td>-0.0</td><td>0.128625</td><td>0.001453</td><td>0.13</td><td>0.13</td><td>0.0</td><td>0.0</td><td>0.00301</td><td>0.005573</td><td>0.002382</td><td>-0.007876</td><td>-0.005951</td><td>-0.004481</td><td>0.01304</td><td>-0.002477</td><td>0.010929</td><td>4</td><td>-0.000792</td><td>-0.000344</td><td>0.008918</td><td>0.00002</td></tr><tr><td>1727607600000</td><td>0.12712</td><td>0.12744</td><td>0.12659</td><td>0.127</td><td>4731543.9</td><td>601139.453446</td><td>2024-09-29 11:00:00</td><td>&quot;DOGE&quot;</td><td>0</td><td>0</td><td>-0.000944</td><td>-0.448761</td><td>-0.446272</td><td>-0.001096</td><td>0.12776</td><td>0.000483</td><td>0.126178</td><td>0.001577</td><td>0.12007</td><td>0.00099</td><td>0.113897</td><td>7</td><td>9</td><td>11</td><td>1</td><td>0</td><td>0</td><td>0</td><td>49.39</td><td>0.127413</td><td>0.127176</td><td>0.000237</td><td>0.000678</td><td>-0.0</td><td>0.128425</td><td>0.001385</td><td>0.13</td><td>0.13</td><td>0.0</td><td>0.0</td><td>0.00379</td><td>-0.004603</td><td>0.00301</td><td>0.002382</td><td>-0.007876</td><td>-0.008847</td><td>-0.01148</td><td>-0.005976</td><td>-0.011851</td><td>4</td><td>-0.000792</td><td>-0.000344</td><td>0.008918</td><td>0.00002</td></tr></tbody></table></div>"
      ],
      "text/plain": [
       "shape: (5, 55)\n",
       "┌────────────┬─────────┬─────────┬─────────┬───┬────────────┬────────────┬────────────┬────────────┐\n",
       "│ timestamp  ┆ open    ┆ high    ┆ low     ┆ … ┆ SP500_pct_ ┆ NASDAQ_pct ┆ VIX_pct_ch ┆ DXY_pct_ch │\n",
       "│ ---        ┆ ---     ┆ ---     ┆ ---     ┆   ┆ change     ┆ _change    ┆ ange       ┆ ange       │\n",
       "│ i64        ┆ f64     ┆ f64     ┆ f64     ┆   ┆ ---        ┆ ---        ┆ ---        ┆ ---        │\n",
       "│            ┆         ┆         ┆         ┆   ┆ f64        ┆ f64        ┆ f64        ┆ f64        │\n",
       "╞════════════╪═════════╪═════════╪═════════╪═══╪════════════╪════════════╪════════════╪════════════╡\n",
       "│ 1727593200 ┆ 0.12696 ┆ 0.12736 ┆ 0.12587 ┆ … ┆ -0.000792  ┆ -0.000344  ┆ 0.008918   ┆ 0.00002    │\n",
       "│ 000        ┆         ┆         ┆         ┆   ┆            ┆            ┆            ┆            │\n",
       "│ 1727596800 ┆ 0.12596 ┆ 0.1268  ┆ 0.12559 ┆ … ┆ -0.000792  ┆ -0.000344  ┆ 0.008918   ┆ 0.00002    │\n",
       "│ 000        ┆         ┆         ┆         ┆   ┆            ┆            ┆            ┆            │\n",
       "│ 1727600400 ┆ 0.12626 ┆ 0.12741 ┆ 0.12623 ┆ … ┆ -0.000792  ┆ -0.000344  ┆ 0.008918   ┆ 0.00002    │\n",
       "│ 000        ┆         ┆         ┆         ┆   ┆            ┆            ┆            ┆            │\n",
       "│ 1727604000 ┆ 0.12664 ┆ 0.12713 ┆ 0.12574 ┆ … ┆ -0.000792  ┆ -0.000344  ┆ 0.008918   ┆ 0.00002    │\n",
       "│ 000        ┆         ┆         ┆         ┆   ┆            ┆            ┆            ┆            │\n",
       "│ 1727607600 ┆ 0.12712 ┆ 0.12744 ┆ 0.12659 ┆ … ┆ -0.000792  ┆ -0.000344  ┆ 0.008918   ┆ 0.00002    │\n",
       "│ 000        ┆         ┆         ┆         ┆   ┆            ┆            ┆            ┆            │\n",
       "└────────────┴─────────┴─────────┴─────────┴───┴────────────┴────────────┴────────────┴────────────┘"
      ]
     },
     "execution_count": 134,
     "metadata": {},
     "output_type": "execute_result"
    }
   ],
   "source": [
    "df_merged = df.join(data, on=\"date\", how=\"left\")\n",
    "df_merged.tail(5)"
   ]
  },
  {
   "cell_type": "code",
   "execution_count": 135,
   "id": "0c5bce7d",
   "metadata": {},
   "outputs": [],
   "source": [
    "assert len(df_merged.filter(pl.col(\"SP500_pct_change\").is_null()).filter(pl.col(\"symbol\") == \"BTC\")) == 0\n",
    "assert len(df_merged.filter(pl.col(\"VIX_pct_change\").is_null()).filter(pl.col(\"symbol\") == \"BTC\")) == 0"
   ]
  },
  {
   "cell_type": "code",
   "execution_count": 211,
   "id": "72f13eb1",
   "metadata": {},
   "outputs": [
    {
     "name": "stdout",
     "output_type": "stream",
     "text": [
      "['close_pct_change', 'volume_pct_change', 'turnover_pct_change', 'SMA_close_pct_change_13', 'SMA_close_pct_change_50', 'SMA_close_pct_change_100', 'SMA_close_pct_change_200', 'upper_band_pct_change', 'lower_band_pct_change', 'close_pct_change_lag_1', 'close_pct_change_lag_193', 'close_pct_change_lag_23', 'SP500_pct_change', 'NASDAQ_pct_change', 'VIX_pct_change', 'DXY_pct_change', 'dow', 'hour', 'cons_green_candles', 'cons_red_candles', 'RSI_14', 'macd_histogram', 'symbol_encoded']\n"
     ]
    }
   ],
   "source": [
    "FEATURES = [col for col in df_merged.columns if \"pct_change\" in col] \\\n",
    "    + [\"dow\",\"hour\", \"cons_green_candles\", \"cons_red_candles\", \"RSI_14\", \"macd_histogram\"] \\\n",
    "    + [\"symbol_encoded\"]\n",
    "print(FEATURES)"
   ]
  },
  {
   "cell_type": "code",
   "execution_count": 212,
   "id": "b29458f1",
   "metadata": {},
   "outputs": [
    {
     "name": "stdout",
     "output_type": "stream",
     "text": [
      "[0]\tvalidation_0-auc:0.65787\tvalidation_1-auc:0.56210\n",
      "[500]\tvalidation_0-auc:0.90785\tvalidation_1-auc:0.64933\n",
      "[1000]\tvalidation_0-auc:0.96391\tvalidation_1-auc:0.65877\n",
      "[1500]\tvalidation_0-auc:0.98508\tvalidation_1-auc:0.66083\n",
      "[1999]\tvalidation_0-auc:0.99381\tvalidation_1-auc:0.66077\n",
      "[0]\tvalidation_0-auc:0.63661\tvalidation_1-auc:0.61530\n",
      "[500]\tvalidation_0-auc:0.84855\tvalidation_1-auc:0.70717\n",
      "[1000]\tvalidation_0-auc:0.91459\tvalidation_1-auc:0.71840\n",
      "[1500]\tvalidation_0-auc:0.94773\tvalidation_1-auc:0.72020\n",
      "[1999]\tvalidation_0-auc:0.96762\tvalidation_1-auc:0.71866\n",
      "[0]\tvalidation_0-auc:0.64076\tvalidation_1-auc:0.57151\n",
      "[500]\tvalidation_0-auc:0.81853\tvalidation_1-auc:0.65759\n",
      "[1000]\tvalidation_0-auc:0.88108\tvalidation_1-auc:0.67359\n",
      "[1500]\tvalidation_0-auc:0.91549\tvalidation_1-auc:0.68025\n",
      "[1999]\tvalidation_0-auc:0.93861\tvalidation_1-auc:0.68373\n",
      "[0]\tvalidation_0-auc:0.64279\tvalidation_1-auc:0.62945\n",
      "[500]\tvalidation_0-auc:0.79138\tvalidation_1-auc:0.74171\n",
      "[1000]\tvalidation_0-auc:0.84885\tvalidation_1-auc:0.74896\n",
      "[1500]\tvalidation_0-auc:0.88402\tvalidation_1-auc:0.74909\n",
      "[1999]\tvalidation_0-auc:0.90834\tvalidation_1-auc:0.74883\n",
      "[0]\tvalidation_0-auc:0.65726\tvalidation_1-auc:0.59332\n",
      "[500]\tvalidation_0-auc:0.79664\tvalidation_1-auc:0.76169\n",
      "[1000]\tvalidation_0-auc:0.84580\tvalidation_1-auc:0.79064\n",
      "[1500]\tvalidation_0-auc:0.87713\tvalidation_1-auc:0.80372\n",
      "[1999]\tvalidation_0-auc:0.89935\tvalidation_1-auc:0.81090\n",
      "Final Train\n"
     ]
    }
   ],
   "source": [
    "# Run cross-validation to tune hyperparameters\n",
    "cv_model = polars_time_series_cross_val(df_merged.select(FEATURES + [\"long_signal\"]), target_var='long_signal', n_splits=5)\n",
    "\n",
    "print(\"Final Train\")\n",
    "# Train the final model using the entire dataset\n",
    "final_model = train_final_model(df_merged.select(FEATURES + [\"long_signal\"]), target_var='long_signal')"
   ]
  },
  {
   "cell_type": "code",
   "execution_count": 213,
   "id": "3c6c24f8",
   "metadata": {},
   "outputs": [
    {
     "data": {
      "text/plain": [
       "2000"
      ]
     },
     "execution_count": 213,
     "metadata": {},
     "output_type": "execute_result"
    }
   ],
   "source": [
    "model = xgb.XGBClassifier(**p)  # Set optimal hyperparameters here\n",
    "features, labels = split_target_features(df_merged.select(FEATURES + [\"long_signal\"]), target_var='long_signal')\n",
    "# Train the final model on the entire dataset\n",
    "model.fit(features.to_pandas(), labels.to_pandas(), verbose=True)\n",
    "model.get_num_boosting_rounds()"
   ]
  },
  {
   "cell_type": "code",
   "execution_count": 214,
   "id": "7fe0ba1e",
   "metadata": {},
   "outputs": [
    {
     "name": "stdout",
     "output_type": "stream",
     "text": [
      "0.8925705293157975\n"
     ]
    }
   ],
   "source": [
    "y_hat = model.predict_proba(features.to_pandas())[:,1]\n",
    "print(roc_auc_score(labels.to_pandas(),y_hat))"
   ]
  },
  {
   "cell_type": "markdown",
   "id": "cba84a34",
   "metadata": {},
   "source": [
    "# PRENDO DATI DA FRED"
   ]
  },
  {
   "cell_type": "code",
   "execution_count": 136,
   "id": "52cdc79f",
   "metadata": {},
   "outputs": [
    {
     "name": "stdout",
     "output_type": "stream",
     "text": [
      "2022-12-28 00:00:00\n",
      "2024-10-07 22:41:32.198590\n"
     ]
    }
   ],
   "source": [
    "from fredapi import Fred\n",
    "fred = Fred(api_key='a2bdf7d81b8f0362f82e976bb92fbdb4')\n",
    "\n",
    "start_date = dt.datetime(2022, 12, 28)\n",
    "print(start_date)\n",
    "end_date = dt.datetime.now()\n",
    "print(end_date)\n"
   ]
  },
  {
   "cell_type": "code",
   "execution_count": 137,
   "id": "1f4f52f3",
   "metadata": {},
   "outputs": [
    {
     "data": {
      "text/html": [
       "<div><style>\n",
       ".dataframe > thead > tr,\n",
       ".dataframe > tbody > tr {\n",
       "  text-align: right;\n",
       "  white-space: pre-wrap;\n",
       "}\n",
       "</style>\n",
       "<small>shape: (20, 5)</small><table border=\"1\" class=\"dataframe\"><thead><tr><th>date</th><th>US_FED_RATE</th><th>US_INFLATION</th><th>US_GDP</th><th>US_UNEMPLOYMENT</th></tr><tr><td>datetime[μs]</td><td>f64</td><td>f64</td><td>f64</td><td>f64</td></tr></thead><tbody><tr><td>2024-10-07 03:00:00</td><td>5.13</td><td>314.121</td><td>29016.714</td><td>4.1</td></tr><tr><td>2024-10-07 04:00:00</td><td>5.13</td><td>314.121</td><td>29016.714</td><td>4.1</td></tr><tr><td>2024-10-07 05:00:00</td><td>5.13</td><td>314.121</td><td>29016.714</td><td>4.1</td></tr><tr><td>2024-10-07 06:00:00</td><td>5.13</td><td>314.121</td><td>29016.714</td><td>4.1</td></tr><tr><td>2024-10-07 07:00:00</td><td>5.13</td><td>314.121</td><td>29016.714</td><td>4.1</td></tr><tr><td>&hellip;</td><td>&hellip;</td><td>&hellip;</td><td>&hellip;</td><td>&hellip;</td></tr><tr><td>2024-10-07 18:00:00</td><td>5.13</td><td>314.121</td><td>29016.714</td><td>4.1</td></tr><tr><td>2024-10-07 19:00:00</td><td>5.13</td><td>314.121</td><td>29016.714</td><td>4.1</td></tr><tr><td>2024-10-07 20:00:00</td><td>5.13</td><td>314.121</td><td>29016.714</td><td>4.1</td></tr><tr><td>2024-10-07 21:00:00</td><td>5.13</td><td>314.121</td><td>29016.714</td><td>4.1</td></tr><tr><td>2024-10-07 22:00:00</td><td>5.13</td><td>314.121</td><td>29016.714</td><td>4.1</td></tr></tbody></table></div>"
      ],
      "text/plain": [
       "shape: (20, 5)\n",
       "┌─────────────────────┬─────────────┬──────────────┬───────────┬─────────────────┐\n",
       "│ date                ┆ US_FED_RATE ┆ US_INFLATION ┆ US_GDP    ┆ US_UNEMPLOYMENT │\n",
       "│ ---                 ┆ ---         ┆ ---          ┆ ---       ┆ ---             │\n",
       "│ datetime[μs]        ┆ f64         ┆ f64          ┆ f64       ┆ f64             │\n",
       "╞═════════════════════╪═════════════╪══════════════╪═══════════╪═════════════════╡\n",
       "│ 2024-10-07 03:00:00 ┆ 5.13        ┆ 314.121      ┆ 29016.714 ┆ 4.1             │\n",
       "│ 2024-10-07 04:00:00 ┆ 5.13        ┆ 314.121      ┆ 29016.714 ┆ 4.1             │\n",
       "│ 2024-10-07 05:00:00 ┆ 5.13        ┆ 314.121      ┆ 29016.714 ┆ 4.1             │\n",
       "│ 2024-10-07 06:00:00 ┆ 5.13        ┆ 314.121      ┆ 29016.714 ┆ 4.1             │\n",
       "│ 2024-10-07 07:00:00 ┆ 5.13        ┆ 314.121      ┆ 29016.714 ┆ 4.1             │\n",
       "│ …                   ┆ …           ┆ …            ┆ …         ┆ …               │\n",
       "│ 2024-10-07 18:00:00 ┆ 5.13        ┆ 314.121      ┆ 29016.714 ┆ 4.1             │\n",
       "│ 2024-10-07 19:00:00 ┆ 5.13        ┆ 314.121      ┆ 29016.714 ┆ 4.1             │\n",
       "│ 2024-10-07 20:00:00 ┆ 5.13        ┆ 314.121      ┆ 29016.714 ┆ 4.1             │\n",
       "│ 2024-10-07 21:00:00 ┆ 5.13        ┆ 314.121      ┆ 29016.714 ┆ 4.1             │\n",
       "│ 2024-10-07 22:00:00 ┆ 5.13        ┆ 314.121      ┆ 29016.714 ┆ 4.1             │\n",
       "└─────────────────────┴─────────────┴──────────────┴───────────┴─────────────────┘"
      ]
     },
     "execution_count": 137,
     "metadata": {},
     "output_type": "execute_result"
    }
   ],
   "source": [
    "macro_data = get_macroeconomic_data(start_date, end_date)\n",
    "all_macro_data = all_dates.join(macro_data, on=\"date\", how=\"left\").with_columns(\n",
    "    pl.col(\"US_FED_RATE\").fill_null(strategy=\"forward\").alias(\"US_FED_RATE\"),\n",
    "    pl.col(\"US_INFLATION\").fill_null(strategy=\"forward\").alias(\"US_INFLATION\"),\n",
    "    pl.col(\"US_UNEMPLOYMENT\").fill_null(strategy=\"forward\").alias(\"US_UNEMPLOYMENT\"),\n",
    "    pl.col(\"US_GDP\").fill_null(strategy=\"forward\").alias(\"US_GDP\"),\n",
    ")\n",
    "all_macro_data.tail(20)"
   ]
  },
  {
   "cell_type": "code",
   "execution_count": 138,
   "id": "9150cc31",
   "metadata": {},
   "outputs": [
    {
     "data": {
      "text/html": [
       "<div><style>\n",
       ".dataframe > thead > tr,\n",
       ".dataframe > tbody > tr {\n",
       "  text-align: right;\n",
       "  white-space: pre-wrap;\n",
       "}\n",
       "</style>\n",
       "<small>shape: (9, 60)</small><table border=\"1\" class=\"dataframe\"><thead><tr><th>statistic</th><th>timestamp</th><th>open</th><th>high</th><th>low</th><th>close</th><th>volume</th><th>turnover</th><th>date</th><th>symbol</th><th>long_signal</th><th>short_signal</th><th>close_pct_change</th><th>volume_pct_change</th><th>turnover_pct_change</th><th>SMA_close_pct_change_13</th><th>SMA_close_13</th><th>SMA_close_pct_change_50</th><th>SMA_close_50</th><th>SMA_close_pct_change_100</th><th>SMA_close_100</th><th>SMA_close_pct_change_200</th><th>SMA_close_200</th><th>dow</th><th>month</th><th>hour</th><th>green_candle</th><th>red_candle</th><th>cons_green_candles</th><th>cons_red_candles</th><th>RSI_14</th><th>ema_short</th><th>ema_long</th><th>MACD</th><th>signal_line</th><th>macd_histogram</th><th>sma</th><th>std_dev</th><th>upper_band</th><th>lower_band</th><th>upper_band_pct_change</th><th>lower_band_pct_change</th><th>close_pct_change_lag_1</th><th>close_pct_change_lag_193</th><th>close_pct_change_lag_2</th><th>close_pct_change_lag_3</th><th>close_pct_change_lag_4</th><th>close_pct_change_lag_6</th><th>close_pct_change_lag_72</th><th>close_pct_change_lag_12</th><th>close_pct_change_lag_23</th><th>symbol_encoded</th><th>SP500_pct_change</th><th>NASDAQ_pct_change</th><th>VIX_pct_change</th><th>DXY_pct_change</th><th>US_FED_RATE</th><th>US_INFLATION</th><th>US_GDP</th><th>US_UNEMPLOYMENT</th></tr><tr><td>str</td><td>f64</td><td>f64</td><td>f64</td><td>f64</td><td>f64</td><td>f64</td><td>f64</td><td>str</td><td>str</td><td>f64</td><td>f64</td><td>f64</td><td>f64</td><td>f64</td><td>f64</td><td>f64</td><td>f64</td><td>f64</td><td>f64</td><td>f64</td><td>f64</td><td>f64</td><td>f64</td><td>f64</td><td>f64</td><td>f64</td><td>f64</td><td>f64</td><td>f64</td><td>f64</td><td>f64</td><td>f64</td><td>f64</td><td>f64</td><td>f64</td><td>f64</td><td>f64</td><td>f64</td><td>f64</td><td>f64</td><td>f64</td><td>f64</td><td>f64</td><td>f64</td><td>f64</td><td>f64</td><td>f64</td><td>f64</td><td>f64</td><td>f64</td><td>f64</td><td>f64</td><td>f64</td><td>f64</td><td>f64</td><td>f64</td><td>f64</td><td>f64</td><td>f64</td></tr></thead><tbody><tr><td>&quot;count&quot;</td><td>134172.0</td><td>134172.0</td><td>134172.0</td><td>134172.0</td><td>134172.0</td><td>134172.0</td><td>134172.0</td><td>&quot;134172&quot;</td><td>&quot;134172&quot;</td><td>134172.0</td><td>134172.0</td><td>134172.0</td><td>134172.0</td><td>134172.0</td><td>134172.0</td><td>134172.0</td><td>134172.0</td><td>134172.0</td><td>134172.0</td><td>134172.0</td><td>134172.0</td><td>134172.0</td><td>134172.0</td><td>134172.0</td><td>134172.0</td><td>134172.0</td><td>134172.0</td><td>134172.0</td><td>134172.0</td><td>134172.0</td><td>134172.0</td><td>134172.0</td><td>134172.0</td><td>134172.0</td><td>134172.0</td><td>134172.0</td><td>134172.0</td><td>134172.0</td><td>134172.0</td><td>134172.0</td><td>134172.0</td><td>134172.0</td><td>134172.0</td><td>134172.0</td><td>134172.0</td><td>134172.0</td><td>134172.0</td><td>134172.0</td><td>134172.0</td><td>134172.0</td><td>134172.0</td><td>134172.0</td><td>134172.0</td><td>134172.0</td><td>134172.0</td><td>134172.0</td><td>134172.0</td><td>134172.0</td><td>134172.0</td></tr><tr><td>&quot;null_count&quot;</td><td>0.0</td><td>0.0</td><td>0.0</td><td>0.0</td><td>0.0</td><td>0.0</td><td>0.0</td><td>&quot;0&quot;</td><td>&quot;0&quot;</td><td>0.0</td><td>0.0</td><td>0.0</td><td>0.0</td><td>0.0</td><td>0.0</td><td>0.0</td><td>0.0</td><td>0.0</td><td>0.0</td><td>0.0</td><td>0.0</td><td>0.0</td><td>0.0</td><td>0.0</td><td>0.0</td><td>0.0</td><td>0.0</td><td>0.0</td><td>0.0</td><td>0.0</td><td>0.0</td><td>0.0</td><td>0.0</td><td>0.0</td><td>0.0</td><td>0.0</td><td>0.0</td><td>0.0</td><td>0.0</td><td>0.0</td><td>0.0</td><td>0.0</td><td>0.0</td><td>0.0</td><td>0.0</td><td>0.0</td><td>0.0</td><td>0.0</td><td>0.0</td><td>0.0</td><td>0.0</td><td>0.0</td><td>0.0</td><td>0.0</td><td>0.0</td><td>0.0</td><td>0.0</td><td>0.0</td><td>0.0</td></tr><tr><td>&quot;mean&quot;</td><td>1.7008e12</td><td>5032.492894</td><td>5050.028869</td><td>5014.143543</td><td>5032.834014</td><td>1.8061e6</td><td>4.9005e6</td><td>&quot;2023-11-23 21:30:00&quot;</td><td>null</td><td>0.131562</td><td>-0.149346</td><td>0.000061</td><td>0.281995</td><td>0.281808</td><td>0.000061</td><td>5030.790456</td><td>0.000061</td><td>5024.455716</td><td>0.00006</td><td>5015.932553</td><td>0.000063</td><td>4998.690505</td><td>4.003488</td><td>5.995439</td><td>11.499463</td><td>0.482821</td><td>0.517179</td><td>0.387279</td><td>0.475353</td><td>50.332601</td><td>5030.959621</td><td>5028.566519</td><td>2.393102</td><td>2.395471</td><td>-0.00238</td><td>5029.596438</td><td>37.988759</td><td>5067.585178</td><td>4991.60766</td><td>0.000049</td><td>0.00005</td><td>0.000061</td><td>0.000066</td><td>0.00006</td><td>0.00006</td><td>0.000061</td><td>0.000061</td><td>0.000057</td><td>0.00006</td><td>0.000061</td><td>4.0</td><td>-0.000025</td><td>-0.000045</td><td>-0.000982</td><td>0.000006</td><td>5.168841</td><td>308.328409</td><td>28248.582618</td><td>3.795466</td></tr><tr><td>&quot;std&quot;</td><td>1.5493e10</td><td>14490.633274</td><td>14542.978463</td><td>14435.617911</td><td>14491.511223</td><td>6.4980e6</td><td>1.3981e7</td><td>null</td><td>null</td><td>0.338016</td><td>0.35643</td><td>0.007487</td><td>1.552956</td><td>1.570802</td><td>0.001999</td><td>14485.759926</td><td>0.000986</td><td>14468.06917</td><td>0.000699</td><td>14444.481377</td><td>0.000498</td><td>14398.20125</td><td>1.996984</td><td>3.136857</td><td>6.921385</td><td>0.499707</td><td>0.499707</td><td>0.902579</td><td>1.025989</td><td>11.626921</td><td>14486.005235</td><td>14479.065316</td><td>91.69234</td><td>86.245243</td><td>27.84711</td><td>14482.413898</td><td>144.204011</td><td>14595.863068</td><td>14369.516196</td><td>0.005579</td><td>0.005767</td><td>0.007487</td><td>0.007542</td><td>0.007487</td><td>0.007487</td><td>0.007487</td><td>0.007487</td><td>0.007502</td><td>0.007487</td><td>0.007486</td><td>2.581999</td><td>0.002346</td><td>0.002859</td><td>0.016173</td><td>0.000679</td><td>0.263665</td><td>4.409642</td><td>661.089802</td><td>0.240971</td></tr><tr><td>&quot;min&quot;</td><td>1.6739e12</td><td>0.05494</td><td>0.0559</td><td>0.05308</td><td>0.05494</td><td>7.71836</td><td>437.009815</td><td>&quot;2023-01-17 08:00:00&quot;</td><td>&quot;ADA&quot;</td><td>0.0</td><td>-1.0</td><td>-0.150966</td><td>-0.972131</td><td>-0.972193</td><td>-0.021579</td><td>0.055962</td><td>-0.007043</td><td>0.05702</td><td>-0.004024</td><td>0.058395</td><td>-0.002364</td><td>0.058479</td><td>1.0</td><td>1.0</td><td>0.0</td><td>0.0</td><td>0.0</td><td>0.0</td><td>0.0</td><td>5.21</td><td>0.056032</td><td>0.05667</td><td>-2320.739044</td><td>-2038.056693</td><td>-724.14</td><td>0.056473</td><td>0.00005</td><td>0.06</td><td>0.06</td><td>-0.142857</td><td>-0.142857</td><td>-0.150966</td><td>-0.150966</td><td>-0.150966</td><td>-0.150966</td><td>-0.150966</td><td>-0.150966</td><td>-0.150966</td><td>-0.150966</td><td>-0.150966</td><td>0.0</td><td>-0.034126</td><td>-0.041751</td><td>-0.276334</td><td>-0.009761</td><td>4.33</td><td>300.356</td><td>27164.359</td><td>3.4</td></tr><tr><td>&quot;25%&quot;</td><td>1.6874e12</td><td>0.324</td><td>0.3258</td><td>0.3219</td><td>0.324</td><td>3121.90782</td><td>140919.751224</td><td>&quot;2023-06-21 15:00:00&quot;</td><td>null</td><td>0.0</td><td>0.0</td><td>-0.00273</td><td>-0.336061</td><td>-0.335596</td><td>-0.000798</td><td>0.324615</td><td>-0.000421</td><td>0.32413</td><td>-0.000307</td><td>0.32561</td><td>-0.000212</td><td>0.325383</td><td>2.0</td><td>3.0</td><td>6.0</td><td>0.0</td><td>0.0</td><td>0.0</td><td>0.0</td><td>42.79</td><td>0.324776</td><td>0.324628</td><td>-0.019194</td><td>-0.017689</td><td>-0.01</td><td>0.32463</td><td>0.002102</td><td>0.33</td><td>0.32</td><td>0.0</td><td>0.0</td><td>-0.00273</td><td>-0.00274</td><td>-0.002731</td><td>-0.002731</td><td>-0.002731</td><td>-0.00273</td><td>-0.002733</td><td>-0.002732</td><td>-0.002733</td><td>2.0</td><td>-0.000958</td><td>-0.001271</td><td>-0.005844</td><td>-0.000257</td><td>5.08</td><td>304.003</td><td>27453.815</td><td>3.6</td></tr><tr><td>&quot;50%&quot;</td><td>1.7008e12</td><td>9.2</td><td>9.2457</td><td>9.1531</td><td>9.2</td><td>36429.522</td><td>492113.418074</td><td>&quot;2023-11-23 22:00:00&quot;</td><td>null</td><td>0.0</td><td>0.0</td><td>0.000113</td><td>-0.027242</td><td>-0.027051</td><td>0.000033</td><td>9.204962</td><td>0.00003</td><td>9.225554</td><td>0.000029</td><td>9.264681</td><td>0.000032</td><td>9.282242</td><td>4.0</td><td>6.0</td><td>11.0</td><td>0.0</td><td>1.0</td><td>0.0</td><td>0.0</td><td>50.26</td><td>9.210251</td><td>9.216703</td><td>0.000034</td><td>0.000036</td><td>-0.0</td><td>9.202405</td><td>0.075816</td><td>9.29</td><td>9.12</td><td>0.0</td><td>0.0</td><td>0.000113</td><td>0.000118</td><td>0.000113</td><td>0.000113</td><td>0.000113</td><td>0.000114</td><td>0.000117</td><td>0.000113</td><td>0.000115</td><td>4.0</td><td>0.000092</td><td>0.000011</td><td>-0.001191</td><td>0.00001</td><td>5.33</td><td>308.024</td><td>28296.967</td><td>3.8</td></tr><tr><td>&quot;75%&quot;</td><td>1.7142e12</td><td>140.59</td><td>141.69</td><td>139.55</td><td>140.61</td><td>1271632.8</td><td>3.1451e6</td><td>&quot;2024-04-27 04:00:00&quot;</td><td>null</td><td>0.0</td><td>0.0</td><td>0.002896</td><td>0.452918</td><td>0.453046</td><td>0.000865</td><td>140.645385</td><td>0.0005</td><td>140.6526</td><td>0.000393</td><td>140.2354</td><td>0.0003</td><td>140.9048</td><td>6.0</td><td>8.0</td><td>17.0</td><td>1.0</td><td>1.0</td><td>0.0</td><td>1.0</td><td>57.76</td><td>140.662743</td><td>140.723944</td><td>0.032723</td><td>0.031069</td><td>0.01</td><td>140.74</td><td>1.945047</td><td>142.79</td><td>138.51</td><td>0.000002</td><td>0.000017</td><td>0.002896</td><td>0.002911</td><td>0.002896</td><td>0.002896</td><td>0.002896</td><td>0.002897</td><td>0.002902</td><td>0.002896</td><td>0.002899</td><td>6.0</td><td>0.001078</td><td>0.00128</td><td>0.003729</td><td>0.000249</td><td>5.33</td><td>313.049</td><td>29016.714</td><td>3.9</td></tr><tr><td>&quot;max&quot;</td><td>1.7276e12</td><td>73575.04</td><td>73800.0</td><td>73213.19</td><td>73575.04</td><td>4.4238e8</td><td>6.0893e8</td><td>&quot;2024-09-29 11:00:00&quot;</td><td>&quot;XRP&quot;</td><td>1.0</td><td>0.0</td><td>0.248152</td><td>109.19057</td><td>115.267216</td><td>0.046741</td><td>73144.781538</td><td>0.01207</td><td>72483.215</td><td>0.0061</td><td>71815.8994</td><td>0.004583</td><td>70178.76565</td><td>7.0</td><td>12.0</td><td>23.0</td><td>1.0</td><td>1.0</td><td>15.0</td><td>14.0</td><td>98.84</td><td>73180.179011</td><td>72947.000647</td><td>1359.608541</td><td>1173.581975</td><td>581.53</td><td>73107.1195</td><td>3042.370616</td><td>73499.22</td><td>72911.97</td><td>0.166667</td><td>0.166667</td><td>0.248152</td><td>0.248152</td><td>0.248152</td><td>0.248152</td><td>0.248152</td><td>0.248152</td><td>0.248152</td><td>0.248152</td><td>0.248152</td><td>8.0</td><td>0.019328</td><td>0.027719</td><td>0.537772</td><td>0.009076</td><td>5.33</td><td>314.121</td><td>29016.714</td><td>4.3</td></tr></tbody></table></div>"
      ],
      "text/plain": [
       "shape: (9, 60)\n",
       "┌───────────┬───────────┬───────────┬───────────┬───┬───────────┬───────────┬───────────┬──────────┐\n",
       "│ statistic ┆ timestamp ┆ open      ┆ high      ┆ … ┆ US_FED_RA ┆ US_INFLAT ┆ US_GDP    ┆ US_UNEMP │\n",
       "│ ---       ┆ ---       ┆ ---       ┆ ---       ┆   ┆ TE        ┆ ION       ┆ ---       ┆ LOYMENT  │\n",
       "│ str       ┆ f64       ┆ f64       ┆ f64       ┆   ┆ ---       ┆ ---       ┆ f64       ┆ ---      │\n",
       "│           ┆           ┆           ┆           ┆   ┆ f64       ┆ f64       ┆           ┆ f64      │\n",
       "╞═══════════╪═══════════╪═══════════╪═══════════╪═══╪═══════════╪═══════════╪═══════════╪══════════╡\n",
       "│ count     ┆ 134172.0  ┆ 134172.0  ┆ 134172.0  ┆ … ┆ 134172.0  ┆ 134172.0  ┆ 134172.0  ┆ 134172.0 │\n",
       "│ null_coun ┆ 0.0       ┆ 0.0       ┆ 0.0       ┆ … ┆ 0.0       ┆ 0.0       ┆ 0.0       ┆ 0.0      │\n",
       "│ t         ┆           ┆           ┆           ┆   ┆           ┆           ┆           ┆          │\n",
       "│ mean      ┆ 1.7008e12 ┆ 5032.4928 ┆ 5050.0288 ┆ … ┆ 5.168841  ┆ 308.32840 ┆ 28248.582 ┆ 3.795466 │\n",
       "│           ┆           ┆ 94        ┆ 69        ┆   ┆           ┆ 9         ┆ 618       ┆          │\n",
       "│ std       ┆ 1.5493e10 ┆ 14490.633 ┆ 14542.978 ┆ … ┆ 0.263665  ┆ 4.409642  ┆ 661.08980 ┆ 0.240971 │\n",
       "│           ┆           ┆ 274       ┆ 463       ┆   ┆           ┆           ┆ 2         ┆          │\n",
       "│ min       ┆ 1.6739e12 ┆ 0.05494   ┆ 0.0559    ┆ … ┆ 4.33      ┆ 300.356   ┆ 27164.359 ┆ 3.4      │\n",
       "│ 25%       ┆ 1.6874e12 ┆ 0.324     ┆ 0.3258    ┆ … ┆ 5.08      ┆ 304.003   ┆ 27453.815 ┆ 3.6      │\n",
       "│ 50%       ┆ 1.7008e12 ┆ 9.2       ┆ 9.2457    ┆ … ┆ 5.33      ┆ 308.024   ┆ 28296.967 ┆ 3.8      │\n",
       "│ 75%       ┆ 1.7142e12 ┆ 140.59    ┆ 141.69    ┆ … ┆ 5.33      ┆ 313.049   ┆ 29016.714 ┆ 3.9      │\n",
       "│ max       ┆ 1.7276e12 ┆ 73575.04  ┆ 73800.0   ┆ … ┆ 5.33      ┆ 314.121   ┆ 29016.714 ┆ 4.3      │\n",
       "└───────────┴───────────┴───────────┴───────────┴───┴───────────┴───────────┴───────────┴──────────┘"
      ]
     },
     "execution_count": 138,
     "metadata": {},
     "output_type": "execute_result"
    }
   ],
   "source": [
    "df_merged = df_merged.join(all_macro_data, on=\"date\", how=\"left\")\n",
    "df_merged.describe()"
   ]
  },
  {
   "cell_type": "code",
   "execution_count": 219,
   "id": "70d051b6",
   "metadata": {},
   "outputs": [
    {
     "name": "stdout",
     "output_type": "stream",
     "text": [
      "['close_pct_change', 'volume_pct_change', 'turnover_pct_change', 'SMA_close_pct_change_13', 'SMA_close_pct_change_50', 'SMA_close_pct_change_100', 'SMA_close_pct_change_200', 'upper_band_pct_change', 'lower_band_pct_change', 'close_pct_change_lag_1', 'close_pct_change_lag_193', 'close_pct_change_lag_23', 'SP500_pct_change', 'NASDAQ_pct_change', 'VIX_pct_change', 'DXY_pct_change', 'dow', 'hour', 'cons_green_candles', 'cons_red_candles', 'RSI_14', 'macd_histogram', 'symbol_encoded', 'US_FED_RATE', 'US_INFLATION', 'US_UNEMPLOYMENT']\n"
     ]
    }
   ],
   "source": [
    "FEATURES = [col for col in df_merged.columns if \"pct_change\" in col] \\\n",
    "    + [\"dow\",\"hour\", \"cons_green_candles\", \"cons_red_candles\", \"RSI_14\", \"macd_histogram\"] \\\n",
    "    + [\"symbol_encoded\", \"US_FED_RATE\",\"US_INFLATION\",\"US_UNEMPLOYMENT\"]\n",
    "print(FEATURES)"
   ]
  },
  {
   "cell_type": "code",
   "execution_count": 220,
   "id": "4066426b",
   "metadata": {},
   "outputs": [
    {
     "name": "stdout",
     "output_type": "stream",
     "text": [
      "[0]\tvalidation_0-auc:0.69400\tvalidation_1-auc:0.59340\n",
      "[500]\tvalidation_0-auc:0.91899\tvalidation_1-auc:0.66302\n",
      "[1000]\tvalidation_0-auc:0.96769\tvalidation_1-auc:0.67255\n",
      "[1500]\tvalidation_0-auc:0.98637\tvalidation_1-auc:0.67651\n",
      "[1999]\tvalidation_0-auc:0.99426\tvalidation_1-auc:0.67718\n",
      "[0]\tvalidation_0-auc:0.64520\tvalidation_1-auc:0.61125\n",
      "[500]\tvalidation_0-auc:0.86394\tvalidation_1-auc:0.71578\n",
      "[1000]\tvalidation_0-auc:0.92425\tvalidation_1-auc:0.72533\n",
      "[1500]\tvalidation_0-auc:0.95355\tvalidation_1-auc:0.72646\n",
      "[1999]\tvalidation_0-auc:0.97113\tvalidation_1-auc:0.72492\n",
      "[0]\tvalidation_0-auc:0.64076\tvalidation_1-auc:0.57151\n",
      "[500]\tvalidation_0-auc:0.83228\tvalidation_1-auc:0.66443\n",
      "[1000]\tvalidation_0-auc:0.89083\tvalidation_1-auc:0.68001\n",
      "[1500]\tvalidation_0-auc:0.92368\tvalidation_1-auc:0.68640\n",
      "[1999]\tvalidation_0-auc:0.94479\tvalidation_1-auc:0.68886\n",
      "[0]\tvalidation_0-auc:0.64416\tvalidation_1-auc:0.62945\n",
      "[500]\tvalidation_0-auc:0.80418\tvalidation_1-auc:0.74246\n",
      "[1000]\tvalidation_0-auc:0.85735\tvalidation_1-auc:0.74683\n",
      "[1500]\tvalidation_0-auc:0.89075\tvalidation_1-auc:0.74524\n",
      "[1999]\tvalidation_0-auc:0.91386\tvalidation_1-auc:0.74473\n",
      "[0]\tvalidation_0-auc:0.65796\tvalidation_1-auc:0.59332\n",
      "[500]\tvalidation_0-auc:0.80963\tvalidation_1-auc:0.77490\n",
      "[1000]\tvalidation_0-auc:0.85628\tvalidation_1-auc:0.80204\n",
      "[1500]\tvalidation_0-auc:0.88507\tvalidation_1-auc:0.81443\n",
      "[1999]\tvalidation_0-auc:0.90583\tvalidation_1-auc:0.82025\n",
      "Final Train\n"
     ]
    }
   ],
   "source": [
    "# Run cross-validation to tune hyperparameters\n",
    "cv_model = polars_time_series_cross_val(df_merged.select(FEATURES + [\"long_signal\"]), target_var='long_signal', n_splits=5)\n",
    "\n",
    "print(\"Final Train\")\n",
    "# Train the final model using the entire dataset\n",
    "final_model = train_final_model(df_merged.select(FEATURES + [\"long_signal\"]), target_var='long_signal')"
   ]
  },
  {
   "cell_type": "code",
   "execution_count": 221,
   "id": "fe3b1ed0",
   "metadata": {},
   "outputs": [
    {
     "data": {
      "text/plain": [
       "2000"
      ]
     },
     "execution_count": 221,
     "metadata": {},
     "output_type": "execute_result"
    }
   ],
   "source": [
    "model = xgb.XGBClassifier(**p)  # Set optimal hyperparameters here\n",
    "features, labels = split_target_features(df_merged.select(FEATURES + [\"long_signal\"]), target_var='long_signal')\n",
    "# Train the final model on the entire dataset\n",
    "model.fit(features.to_pandas(), labels.to_pandas(), verbose=True)\n",
    "model.get_num_boosting_rounds()"
   ]
  },
  {
   "cell_type": "code",
   "execution_count": 222,
   "id": "06546e42",
   "metadata": {},
   "outputs": [
    {
     "name": "stdout",
     "output_type": "stream",
     "text": [
      "0.9001312021380894\n"
     ]
    }
   ],
   "source": [
    "y_hat = model.predict_proba(features.to_pandas())[:,1]\n",
    "print(roc_auc_score(labels.to_pandas(),y_hat))"
   ]
  },
  {
   "cell_type": "markdown",
   "id": "9d1ed9ed",
   "metadata": {},
   "source": [
    "# PLOT PRECISION OVER THRESHOLD\n"
   ]
  },
  {
   "cell_type": "code",
   "execution_count": 223,
   "id": "28a66c4b",
   "metadata": {},
   "outputs": [
    {
     "data": {
      "text/plain": [
       "Text(0.5, 1.0, 'Precision and Recall over Threshold')"
      ]
     },
     "execution_count": 223,
     "metadata": {},
     "output_type": "execute_result"
    },
    {
     "data": {
      "image/png": "[encoded data removed]",
      "text/plain": [
       "<Figure size 1600x600 with 1 Axes>"
      ]
     },
     "metadata": {},
     "output_type": "display_data"
    }
   ],
   "source": [
    "from sklearn.metrics import precision_recall_curve\n",
    "precision, recall, thresholds = precision_recall_curve(labels.to_pandas(), y_hat)\n",
    "plt.figure(figsize=(16, 6))\n",
    "plt.plot(thresholds, precision[:-1], label='Precision')\n",
    "plt.plot(thresholds, recall[:-1], label='Recall')\n",
    "plt.xlabel('Threshold')\n",
    "plt.ylabel('Metric Value')\n",
    "plt.title('Precision and Recall over Threshold')"
   ]
  },
  {
   "cell_type": "code",
   "execution_count": 224,
   "id": "f20c38f4",
   "metadata": {},
   "outputs": [
    {
     "name": "stdout",
     "output_type": "stream",
     "text": [
      "Optimal Threshold: 0.28093454241752625\n"
     ]
    },
    {
     "data": {
      "text/plain": [
       "Text(0, 0.5, 'Precision')"
      ]
     },
     "execution_count": 224,
     "metadata": {},
     "output_type": "execute_result"
    },
    {
     "data": {
      "image/png": "[encoded data removed]",
      "text/plain": [
       "<Figure size 1600x600 with 1 Axes>"
      ]
     },
     "metadata": {},
     "output_type": "display_data"
    }
   ],
   "source": [
    "# get the threshold that maximizes the sum of precision and recall\n",
    "optimal_threshold = thresholds[np.argmax(precision[:-1] + recall[:-1])]\n",
    "print(f\"Optimal Threshold: {optimal_threshold}\")\n",
    "\n",
    "# plot the precision and recall at the optimal threshold\n",
    "plt.figure(figsize=(16, 6))\n",
    "plt.plot(precision[:-1], recall[:-1], label='Precision-Recall Curve')\n",
    "plt.xlabel('Recall')\n",
    "plt.ylabel('Precision')\n"
   ]
  },
  {
   "cell_type": "code",
   "execution_count": 225,
   "id": "1476f012",
   "metadata": {},
   "outputs": [
    {
     "name": "stdout",
     "output_type": "stream",
     "text": [
      "TP:  shape: (1, 1)\n",
      "┌─────────────┐\n",
      "│ long_signal │\n",
      "│ ---         │\n",
      "│ i64         │\n",
      "╞═════════════╡\n",
      "│ 17526       │\n",
      "└─────────────┘\n"
     ]
    },
    {
     "data": {
      "text/plain": [
       "array([[111573,   4329],\n",
       "       [  7734,   9792]])"
      ]
     },
     "execution_count": 225,
     "metadata": {},
     "output_type": "execute_result"
    }
   ],
   "source": [
    "from sklearn.metrics import confusion_matrix\n",
    "print(\"TP: \",labels.sum())\n",
    "confusion_matrix(labels.to_pandas(), np.where(y_hat > optimal_threshold, 1, 0))"
   ]
  },
  {
   "cell_type": "code",
   "execution_count": 226,
   "id": "396a6e2f",
   "metadata": {},
   "outputs": [
    {
     "data": {
      "text/plain": [
       "array([[0.96264948, 0.03735052],\n",
       "       [0.44123017, 0.55876983]])"
      ]
     },
     "execution_count": 226,
     "metadata": {},
     "output_type": "execute_result"
    }
   ],
   "source": [
    "confusion_matrix(labels.to_pandas(), np.where(y_hat >= optimal_threshold, 1, 0), normalize='true')"
   ]
  },
  {
   "cell_type": "markdown",
   "id": "a75cbdcc",
   "metadata": {},
   "source": [
    "# NEXT STEP:\n",
    "# 1) split train validation test set\n",
    "# 2) rafforzare la cross validation\n",
    "# 3) backtestare strategia"
   ]
  },
  {
   "cell_type": "code",
   "execution_count": 297,
   "id": "859cbfbf",
   "metadata": {},
   "outputs": [],
   "source": [
    "import polars as pl\n",
    "import numpy as np\n",
    "import matplotlib.pyplot as plt\n",
    "\n",
    "def backtest_strategy(\n",
    "    df: pl.DataFrame,\n",
    "    # start_date: pl.Datetime,\n",
    "    # end_date: pl.Datetime,\n",
    "    signal_column: str = \"long_signal\",\n",
    "    pred_column: str = \"y_hat\",\n",
    "    investment_amount: int = 1000,\n",
    "    rr_ratio: int = 2,\n",
    "    optimal_threshold: float = 0.5\n",
    "):\n",
    "\n",
    "    # Filter the dataframe for the specified date range\n",
    "    # df_backtest = df.filter((pl.col('timestamp') >= start_date) & (pl.col('timestamp') <= end_date))\n",
    "    df_backtest = df\n",
    "    # Initialize portfolio value and position\n",
    "    initial_balance = investment_amount\n",
    "    pct_profit = .01 * rr_ratio\n",
    "    pct_loss = -pct_profit / rr_ratio\n",
    "    \n",
    "    # Calculate position changes\n",
    "    # df_backtest = df_backtest.with_columns([\n",
    "    #     pl.when((pl.col(signal_column) == 1) & (pl.col(pred_column) >= optimal_threshold))\n",
    "    #     .then(investment_amount / pl.col('close'))\n",
    "    #     .otherwise(0).alias('position_change'),\n",
    "    #     \n",
    "    #     pl.when((pl.col(signal_column) == -1) & (pl.col(pred_column) < optimal_threshold))\n",
    "    #     .then(-1)\n",
    "    #     .otherwise(0).alias('close_position')\n",
    "    # ])\n",
    "\n",
    "    position_return = initial_balance * pl.col(\"pct_return\")\n",
    "    compound_balance = initial_balance * (1 + pl.col(\"pct_return\")).cum_prod()\n",
    "    df_backtest = df_backtest.with_columns(\n",
    "        pl.when((pl.col(pred_column) == 1) & (pl.col(signal_column) == 1))\n",
    "        .then(pct_profit)\n",
    "        .when((pl.col(pred_column) == 1) & (pl.col(signal_column) == 0))\n",
    "        .then(pct_loss)\n",
    "        .otherwise(0)\n",
    "        .alias(\"pct_return\"),\n",
    "    ).with_columns(\n",
    "        (position_return).alias(\"position_return\"),\n",
    "        (initial_balance + position_return.cum_sum()).alias(\"balance\"),\n",
    "        (pl.col(\"pct_return\") * compound_balance.shift(1).fill_null(initial_balance)).alias(\"compound_position_return\"),\n",
    "        (compound_balance).alias(\"compound_balance\")\n",
    "    )\n",
    "\n",
    "    # Calculate returns\n",
    "    df_backtest = df_backtest.with_columns([\n",
    "        pl.col('balance').pct_change().alias('return')\n",
    "    ])\n",
    "\n",
    " \n",
    "    # Extract results\n",
    "    portfolio_values = df_backtest['balance'].to_list()\n",
    "    returns = df_backtest['balance'].drop_nulls().to_list()\n",
    "    \n",
    "    # Calculate metrics\n",
    "    total_return = (portfolio_values[-1] - initial_balance) / initial_balance\n",
    "    sharpe_ratio = np.mean(returns) / np.std(returns) * np.sqrt(365)  # Assuming 365 trading days in a year\n",
    "\n",
    "    print(f\"Total Return: {total_return:.2%}\")\n",
    "    print(f\"Sharpe Ratio: {sharpe_ratio:.2f}\")\n",
    "\n",
    "    return df_backtest\n",
    "    # Plot results\n",
    "    fig, (ax1, ax2) = plt.subplots(1, 2, figsize=(20, 6))\n",
    "    \n",
    "    # Portfolio value over time\n",
    "    ax1.plot(df_backtest['date'], portfolio_values)\n",
    "    ax1.set_title('Portfolio Value Over Time')\n",
    "    ax1.set_xlabel('Date')\n",
    "    ax1.set_ylabel('Portfolio Value ($)')\n",
    "    \n",
    "    # Returns distribution\n",
    "    ax2.hist(returns, bins=50)\n",
    "    ax2.set_title('Distribution of Returns')\n",
    "    ax2.set_xlabel('Return')\n",
    "    ax2.set_ylabel('Frequency')\n",
    "    \n",
    "    plt.tight_layout()\n",
    "    plt.show()\n",
    "\n",
    "    \n",
    "    return portfolio_values, returns"
   ]
  },
  {
   "cell_type": "code",
   "execution_count": 299,
   "id": "1ca3d125",
   "metadata": {},
   "outputs": [
    {
     "name": "stdout",
     "output_type": "stream",
     "text": [
      "Total Return: 15819.00%\n",
      "Sharpe Ratio: 36.77\n"
     ]
    },
    {
     "data": {
      "text/html": [
       "<div><style>\n",
       ".dataframe > thead > tr,\n",
       ".dataframe > tbody > tr {\n",
       "  text-align: right;\n",
       "  white-space: pre-wrap;\n",
       "}\n",
       "</style>\n",
       "<small>shape: (5, 10)</small><table border=\"1\" class=\"dataframe\"><thead><tr><th>date</th><th>symbol</th><th>long_signal</th><th>y_hat</th><th>pct_return</th><th>position_return</th><th>balance</th><th>compound_position_return</th><th>compound_balance</th><th>return</th></tr><tr><td>datetime[μs]</td><td>str</td><td>i8</td><td>i64</td><td>f64</td><td>f64</td><td>f64</td><td>f64</td><td>f64</td><td>f64</td></tr></thead><tbody><tr><td>2024-09-29 07:00:00</td><td>&quot;LTC&quot;</td><td>0</td><td>0</td><td>0.0</td><td>0.0</td><td>159190.0</td><td>0.0</td><td>5.9334e70</td><td>0.0</td></tr><tr><td>2024-09-29 08:00:00</td><td>&quot;LTC&quot;</td><td>0</td><td>0</td><td>0.0</td><td>0.0</td><td>159190.0</td><td>0.0</td><td>5.9334e70</td><td>0.0</td></tr><tr><td>2024-09-29 09:00:00</td><td>&quot;LTC&quot;</td><td>0</td><td>0</td><td>0.0</td><td>0.0</td><td>159190.0</td><td>0.0</td><td>5.9334e70</td><td>0.0</td></tr><tr><td>2024-09-29 10:00:00</td><td>&quot;LTC&quot;</td><td>0</td><td>0</td><td>0.0</td><td>0.0</td><td>159190.0</td><td>0.0</td><td>5.9334e70</td><td>0.0</td></tr><tr><td>2024-09-29 11:00:00</td><td>&quot;LTC&quot;</td><td>0</td><td>0</td><td>0.0</td><td>0.0</td><td>159190.0</td><td>0.0</td><td>5.9334e70</td><td>0.0</td></tr></tbody></table></div>"
      ],
      "text/plain": [
       "shape: (5, 10)\n",
       "┌──────────────┬────────┬─────────────┬───────┬───┬──────────┬──────────────┬─────────────┬────────┐\n",
       "│ date         ┆ symbol ┆ long_signal ┆ y_hat ┆ … ┆ balance  ┆ compound_pos ┆ compound_ba ┆ return │\n",
       "│ ---          ┆ ---    ┆ ---         ┆ ---   ┆   ┆ ---      ┆ ition_return ┆ lance       ┆ ---    │\n",
       "│ datetime[μs] ┆ str    ┆ i8          ┆ i64   ┆   ┆ f64      ┆ ---          ┆ ---         ┆ f64    │\n",
       "│              ┆        ┆             ┆       ┆   ┆          ┆ f64          ┆ f64         ┆        │\n",
       "╞══════════════╪════════╪═════════════╪═══════╪═══╪══════════╪══════════════╪═════════════╪════════╡\n",
       "│ 2024-09-29   ┆ LTC    ┆ 0           ┆ 0     ┆ … ┆ 159190.0 ┆ 0.0          ┆ 5.9334e70   ┆ 0.0    │\n",
       "│ 07:00:00     ┆        ┆             ┆       ┆   ┆          ┆              ┆             ┆        │\n",
       "│ 2024-09-29   ┆ LTC    ┆ 0           ┆ 0     ┆ … ┆ 159190.0 ┆ 0.0          ┆ 5.9334e70   ┆ 0.0    │\n",
       "│ 08:00:00     ┆        ┆             ┆       ┆   ┆          ┆              ┆             ┆        │\n",
       "│ 2024-09-29   ┆ LTC    ┆ 0           ┆ 0     ┆ … ┆ 159190.0 ┆ 0.0          ┆ 5.9334e70   ┆ 0.0    │\n",
       "│ 09:00:00     ┆        ┆             ┆       ┆   ┆          ┆              ┆             ┆        │\n",
       "│ 2024-09-29   ┆ LTC    ┆ 0           ┆ 0     ┆ … ┆ 159190.0 ┆ 0.0          ┆ 5.9334e70   ┆ 0.0    │\n",
       "│ 10:00:00     ┆        ┆             ┆       ┆   ┆          ┆              ┆             ┆        │\n",
       "│ 2024-09-29   ┆ LTC    ┆ 0           ┆ 0     ┆ … ┆ 159190.0 ┆ 0.0          ┆ 5.9334e70   ┆ 0.0    │\n",
       "│ 11:00:00     ┆        ┆             ┆       ┆   ┆          ┆              ┆             ┆        │\n",
       "└──────────────┴────────┴─────────────┴───────┴───┴──────────┴──────────────┴─────────────┴────────┘"
      ]
     },
     "execution_count": 299,
     "metadata": {},
     "output_type": "execute_result"
    }
   ],
   "source": [
    "df_backtest = df_merged.with_columns(\n",
    "    y_hat = pl.lit(np.where(y_hat >= optimal_threshold, 1, 0))\n",
    ").select(pl.col(\"date\"), pl.col(\"symbol\"), pl.col(\"long_signal\"), pl.col(\"y_hat\"))\n",
    "\n",
    "\n",
    "tmp = backtest_strategy(df_backtest)\n",
    "tmp.tail()"
   ]
  },
  {
   "cell_type": "markdown",
   "id": "1bcfccd3",
   "metadata": {},
   "source": [
    "La funzione di backtesting cosi come è non va bene perchè:\n",
    "1) indipendentemente dal calcolo cumulato o no del balance, tengo sempre in considerazione l'1% di rischio\n",
    "   es ho 1000 usd, investo su btc, il bilancio diventerebbe 0. Quindi non potrei fare altri trade nel frattempo\n",
    "2) se avessi più trade in parallelo, dovrei gestire il rischio cumulato e soprattutto dovrei partire con un budget maggiore\n",
    "3) il bilancio finale che vedo sopra, cumulato o no, soffre del punto sopra\n",
    "\n",
    "Si potrebbe gestire il tutto con una coda pari al numero di trade massimi che posso fare e di conseguenza l'importo max per ciascun trade che deve essere proporzionale al bilancio. Occorre gestire il caso in cui due trade devono essere fatti in parallelo.\n",
    "\n",
    "\n"
   ]
  },
  {
   "cell_type": "code",
   "execution_count": 296,
   "id": "53e73d5b",
   "metadata": {},
   "outputs": [
    {
     "data": {
      "text/html": [
       "<div><style>\n",
       ".dataframe > thead > tr,\n",
       ".dataframe > tbody > tr {\n",
       "  text-align: right;\n",
       "  white-space: pre-wrap;\n",
       "}\n",
       "</style>\n",
       "<small>shape: (15_281, 3)</small><table border=\"1\" class=\"dataframe\"><thead><tr><th>date</th><th>balance</th><th>pct_return</th></tr><tr><td>datetime[μs]</td><td>f64</td><td>f64</td></tr></thead><tbody><tr><td>2023-02-15 02:00:00</td><td>1420.0</td><td>0.0</td></tr><tr><td>2023-11-02 11:00:00</td><td>6370.0</td><td>0.0</td></tr><tr><td>2024-05-04 16:00:00</td><td>9670.0</td><td>0.0</td></tr><tr><td>2023-01-06 07:00:00</td><td>13320.0</td><td>0.0</td></tr><tr><td>2023-09-03 14:00:00</td><td>5780.0</td><td>0.0</td></tr><tr><td>&hellip;</td><td>&hellip;</td><td>&hellip;</td></tr><tr><td>2024-06-29 22:00:00</td><td>10010.0</td><td>0.0</td></tr><tr><td>2023-03-31 10:00:00</td><td>2980.0</td><td>0.002222</td></tr><tr><td>2023-07-21 10:00:00</td><td>5050.0</td><td>-0.001111</td></tr><tr><td>2023-08-28 03:00:00</td><td>5660.0</td><td>0.0</td></tr><tr><td>2024-03-11 15:00:00</td><td>7990.0</td><td>0.001111</td></tr></tbody></table></div>"
      ],
      "text/plain": [
       "shape: (15_281, 3)\n",
       "┌─────────────────────┬─────────┬────────────┐\n",
       "│ date                ┆ balance ┆ pct_return │\n",
       "│ ---                 ┆ ---     ┆ ---        │\n",
       "│ datetime[μs]        ┆ f64     ┆ f64        │\n",
       "╞═════════════════════╪═════════╪════════════╡\n",
       "│ 2023-02-15 02:00:00 ┆ 1420.0  ┆ 0.0        │\n",
       "│ 2023-11-02 11:00:00 ┆ 6370.0  ┆ 0.0        │\n",
       "│ 2024-05-04 16:00:00 ┆ 9670.0  ┆ 0.0        │\n",
       "│ 2023-01-06 07:00:00 ┆ 13320.0 ┆ 0.0        │\n",
       "│ 2023-09-03 14:00:00 ┆ 5780.0  ┆ 0.0        │\n",
       "│ …                   ┆ …       ┆ …          │\n",
       "│ 2024-06-29 22:00:00 ┆ 10010.0 ┆ 0.0        │\n",
       "│ 2023-03-31 10:00:00 ┆ 2980.0  ┆ 0.002222   │\n",
       "│ 2023-07-21 10:00:00 ┆ 5050.0  ┆ -0.001111  │\n",
       "│ 2023-08-28 03:00:00 ┆ 5660.0  ┆ 0.0        │\n",
       "│ 2024-03-11 15:00:00 ┆ 7990.0  ┆ 0.001111   │\n",
       "└─────────────────────┴─────────┴────────────┘"
      ]
     },
     "execution_count": 296,
     "metadata": {},
     "output_type": "execute_result"
    }
   ],
   "source": [
    "tmp.group_by(\"date\").agg(\n",
    "    pl.col(\"balance\").last(),\n",
    "    pl.col(\"pct_return\").sum()\n",
    ")"
   ]
  },
  {
   "cell_type": "code",
   "execution_count": 295,
   "id": "9d9f219b",
   "metadata": {},
   "outputs": [
    {
     "data": {
      "text/html": [
       "<div><style>\n",
       ".dataframe > thead > tr,\n",
       ".dataframe > tbody > tr {\n",
       "  text-align: right;\n",
       "  white-space: pre-wrap;\n",
       "}\n",
       "</style>\n",
       "<small>shape: (638, 3)</small><table border=\"1\" class=\"dataframe\"><thead><tr><th>ymd</th><th>balance</th><th>pct_return</th></tr><tr><td>date</td><td>f64</td><td>f64</td></tr></thead><tbody><tr><td>2024-08-16</td><td>12120.0</td><td>0.000694</td></tr><tr><td>2023-03-20</td><td>2060.0</td><td>0.001574</td></tr><tr><td>2023-03-23</td><td>2300.0</td><td>0.006019</td></tr><tr><td>2024-09-06</td><td>12440.0</td><td>0.000972</td></tr><tr><td>2023-07-17</td><td>4570.0</td><td>0.000741</td></tr><tr><td>&hellip;</td><td>&hellip;</td><td>&hellip;</td></tr><tr><td>2023-10-11</td><td>5900.0</td><td>0.000093</td></tr><tr><td>2024-06-08</td><td>9950.0</td><td>0.0</td></tr><tr><td>2023-05-12</td><td>3840.0</td><td>0.0</td></tr><tr><td>2023-06-17</td><td>4040.0</td><td>0.000463</td></tr><tr><td>2023-01-19</td><td>1040.0</td><td>0.001019</td></tr></tbody></table></div>"
      ],
      "text/plain": [
       "shape: (638, 3)\n",
       "┌────────────┬─────────┬────────────┐\n",
       "│ ymd        ┆ balance ┆ pct_return │\n",
       "│ ---        ┆ ---     ┆ ---        │\n",
       "│ date       ┆ f64     ┆ f64        │\n",
       "╞════════════╪═════════╪════════════╡\n",
       "│ 2024-08-16 ┆ 12120.0 ┆ 0.000694   │\n",
       "│ 2023-03-20 ┆ 2060.0  ┆ 0.001574   │\n",
       "│ 2023-03-23 ┆ 2300.0  ┆ 0.006019   │\n",
       "│ 2024-09-06 ┆ 12440.0 ┆ 0.000972   │\n",
       "│ 2023-07-17 ┆ 4570.0  ┆ 0.000741   │\n",
       "│ …          ┆ …       ┆ …          │\n",
       "│ 2023-10-11 ┆ 5900.0  ┆ 0.000093   │\n",
       "│ 2024-06-08 ┆ 9950.0  ┆ 0.0        │\n",
       "│ 2023-05-12 ┆ 3840.0  ┆ 0.0        │\n",
       "│ 2023-06-17 ┆ 4040.0  ┆ 0.000463   │\n",
       "│ 2023-01-19 ┆ 1040.0  ┆ 0.001019   │\n",
       "└────────────┴─────────┴────────────┘"
      ]
     },
     "execution_count": 295,
     "metadata": {},
     "output_type": "execute_result"
    }
   ],
   "source": [
    "tmp.with_columns(pl.col(\"date\").dt.date().alias(\"ymd\")).group_by(\"ymd\").agg(\n",
    "    pl.col(\"balance\").first(),\n",
    "    pl.col(\"pct_return\").average()\n",
    ")"
   ]
  },
  {
   "cell_type": "code",
   "execution_count": null,
   "id": "34f16619",
   "metadata": {},
   "outputs": [],
   "source": []
  }
 ],
 "metadata": {
  "kernelspec": {
   "display_name": "obb",
   "language": "python",
   "name": "python3"
  },
  "language_info": {
   "codemirror_mode": {
    "name": "ipython",
    "version": 3
   },
   "file_extension": ".py",
   "mimetype": "text/x-python",
   "name": "python",
   "nbconvert_exporter": "python",
   "pygments_lexer": "ipython3",
   "version": "3.10.12"
  },
  "vscode": {
   "interpreter": {
    "hash": "dd184c5f03045ecc89fe53694d3e4314236225fa9c7db50520ba8ca1ba4d33a6"
   }
  }
 },
 "nbformat": 4,
 "nbformat_minor": 5
}
