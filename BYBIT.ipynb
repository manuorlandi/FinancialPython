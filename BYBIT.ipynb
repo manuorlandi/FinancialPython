{
 "cells": [
  {
   "cell_type": "code",
   "execution_count": 165,
   "id": "8736073a",
   "metadata": {},
   "outputs": [],
   "source": [
    "import time\n",
    "import pandas as pd\n",
    "import polars as pl\n",
    "import sys, os\n",
    "import datetime as dt\n",
    "from sklearn.model_selection import TimeSeriesSplit\n",
    "from pathlib import Path\n",
    "from pybit.unified_trading import HTTP\n",
    "from xgboost import XGBClassifier\n",
    "from sklearn.model_selection import train_test_split\n",
    "sys.path.insert(0, os.path.join(os.getcwd(), \"..\"))\n",
    "import fin_utilities \n",
    "import matplotlib.pyplot as plt\n",
    "cfg = fin_utilities.__cfg_reading(\"pred\")\n",
    "\n",
    "\n",
    "#td = TDClient(apikey=cfg['TWELVEDATA']['API'])  \n",
    "\n",
    "PROJECT_DIR = eval(cfg['PROJECT_PATH'])\n",
    "DATA_PATH   = PROJECT_DIR / cfg['DATA_FOLDER']\n",
    "\n",
    "BYBIT_API_KEY = \"5u0HfwB5UPJeiQo3WR\"\n",
    "BYBIT_SECRET_KEY = \"hjFn5aEvyuVEZ1dnna6R4s1NS1vw3vZdJFIL\""
   ]
  },
  {
   "cell_type": "code",
   "execution_count": 169,
   "id": "a724a5d6",
   "metadata": {},
   "outputs": [],
   "source": [
    "def get_last_timestamp(df: pl.DataFrame):\n",
    "    return df.get_column(\"timestamp\")[-1]\n",
    "\n",
    "\n",
    "def format_data(response):    \n",
    "    data = response.get('list', None)\n",
    "    if not data:\n",
    "        return\n",
    "\n",
    "    data = pl.DataFrame(data, schema={\n",
    "        'timestamp': pl.Int64,\n",
    "        'open': pl.Float64,\n",
    "        'high': pl.Float64,\n",
    "        'low': pl.Float64,\n",
    "        'close': pl.Float64,\n",
    "        'volume': pl.Float64,\n",
    "        'turnover': pl.Float64,\n",
    "    }, orient=\"row\")\n",
    "    \n",
    "    # Reverse the DataFrame\n",
    "    data = data.reverse()\n",
    "    \n",
    "    # Convert timestamp to datetime\n",
    "    data = data.with_columns((pl.col('timestamp') * 1000).cast(pl.Datetime).alias('date'))\n",
    "    \n",
    "    return data\n",
    "\n",
    "\n",
    "def get_data_from(\n",
    "    category: str,\n",
    "    symbol: str,\n",
    "    start: int,\n",
    "    end: int = None,\n",
    "    interval: int = 60,\n",
    "):\n",
    "    df = pl.DataFrame()\n",
    "    while True:\n",
    "        response = session.get_kline(category=category, \n",
    "                                    symbol=symbol, \n",
    "                                    start=start,\n",
    "                                    interval=interval).get('result')\n",
    "        \n",
    "        latest = format_data(response)\n",
    "        if latest is None or latest.shape[0] == 0:\n",
    "            break\n",
    "        \n",
    "        \n",
    "        if end is not None and latest.select(pl.col('timestamp').cast(pl.Int64)).to_series().max() > end:\n",
    "            df = df.filter(pl.col('timestamp').cast(pl.Int64) <= int(end))\n",
    "            break\n",
    "        \n",
    "        start = get_last_timestamp(latest)\n",
    "        time.sleep(0.1)\n",
    "        \n",
    "        df = pl.concat([df, latest])\n",
    "        print(f'Collecting data starting {dt.datetime.fromtimestamp(start / 1000)}')\n",
    "        if len(latest) == 1:\n",
    "            break\n",
    "\n",
    "    df = df.unique(subset=['timestamp'], keep='last')\n",
    "\n",
    "    return df.sort(\"date\")\n",
    "\n",
    "\n",
    "def return_index_if_exists(df_series, curr_idx, val, pos_crit, max_length):\n",
    "    # Slicing the series from curr_idx + 1 to curr_idx + 1 + max_length\n",
    "    future_series = df_series.slice(curr_idx + 1, max_length)\n",
    "    # display(future_series)\n",
    "    if pos_crit:\n",
    "        indices = future_series.filter(future_series >= val).arg_min()\n",
    "    else:\n",
    "        indices = future_series.filter(future_series <= val).arg_min()\n",
    "\n",
    "    # Return the relative index if condition met within max_length, else return max_length\n",
    "    if indices is not None and indices < max_length:\n",
    "        return indices + 1  # +1 because of slicing offset\n",
    "    else:\n",
    "        return max_length\n",
    "\n",
    "def labelize_output_according_criterion2(\n",
    "    df, \n",
    "    trade=\"long\",\n",
    "    threshold=0.01, \n",
    "    risk_reward_ratio=0.5, \n",
    "    max_trade_length=6,\n",
    "    wrt='close', \n",
    "    hl=['high', 'low'],\n",
    "):\n",
    "\n",
    "    if trade == \"long\":\n",
    "        df_ = df.with_columns([\n",
    "            (pl.col(wrt) * (1 + threshold / risk_reward_ratio)).alias('TP'),\n",
    "            (pl.col(wrt) * (1 - threshold)).alias('SL'),\n",
    "\n",
    "        ])\n",
    "        pos_crit = True\n",
    "        neg_crit = False\n",
    "    elif trade == \"short\":\n",
    "        df_ = df.with_columns([\n",
    "            (pl.col(wrt) * (1 - threshold / risk_reward_ratio)).alias('TP'),\n",
    "            (pl.col(wrt) * (1 + threshold)).alias('SL'),\n",
    "\n",
    "        ])\n",
    "        pos_crit = False\n",
    "        neg_crit = True\n",
    "\n",
    "    min_above = []\n",
    "    min_below = []\n",
    "\n",
    "\n",
    "    for idx in range(len(df_)):\n",
    "        # display(df_.slice(idx,1))\n",
    "        TP = df_[\"TP\"][idx]\n",
    "        SL = df_[\"SL\"][idx]\n",
    "        \n",
    "        if idx != len(df_) - 1:\n",
    "            candidates_above_minima = [\n",
    "                return_index_if_exists(\n",
    "                    df_series=df_[v], \n",
    "                    curr_idx=idx,\n",
    "                    val=TP, \n",
    "                    pos_crit=pos_crit, \n",
    "                    max_length=max_trade_length\n",
    "                ) \n",
    "                for v in hl\n",
    "            ]\n",
    "            candidates_below_minima = [\n",
    "                return_index_if_exists(\n",
    "                    df_series=df_[v], \n",
    "                    curr_idx=idx,\n",
    "                    val=SL, \n",
    "                    pos_crit=neg_crit, \n",
    "                    max_length=max_trade_length\n",
    "                ) \n",
    "                for v in hl\n",
    "            ]\n",
    "            \n",
    "            min_above.append(min(candidates_above_minima))\n",
    "            min_below.append(min(candidates_below_minima))\n",
    "\n",
    "        else:\n",
    "            min_above.append(None)\n",
    "            min_below.append(None)\n",
    "\n",
    "    df_ = df_.with_columns(pl.Series('min_above', min_above))\n",
    "    df_ = df_.with_columns(pl.Series('min_below', min_below))\n",
    "    \n",
    "    # Generate the signal\n",
    "    signal = ((df_['min_above'] < df_['min_below']) & (df_['min_above'] <= max_trade_length)).cast(pl.Int8) * (1 if trade==\"long\" else -1)\n",
    "    return signal\n",
    "\n",
    "def split_target_features(\n",
    "    df: pl.DataFrame,\n",
    "    feat_to_exclude: list() = [],\n",
    "    target_var: str = 'signal'\n",
    ") -> [pl.DataFrame, pl.Series]:\n",
    "    \"\"\"\n",
    "    Given a DataFrame, split df into features and target.\n",
    "\n",
    "    Args:\n",
    "        df: dataframe to be split\n",
    "        feat_to_exclude: list of columns to exclude from features\n",
    "        target_var: variable target\n",
    "\n",
    "    Returns:\n",
    "        Tuple[pl.DataFrame, pl.Series]: feature and target data\n",
    "    \"\"\"\n",
    "    # Select columns that are not in feat_to_exclude and not the target_var\n",
    "    features = df.select([col for col in df.columns if col not in (feat_to_exclude + [target_var])])\n",
    "    labels = df.select([target_var])\n",
    "\n",
    "    return features, labels"
   ]
  },
  {
   "cell_type": "code",
   "execution_count": 170,
   "id": "9250c216",
   "metadata": {},
   "outputs": [],
   "source": [
    "session = HTTP(\n",
    "    testnet=False,\n",
    "    api_key=BYBIT_API_KEY,\n",
    "    api_secret=BYBIT_SECRET_KEY,\n",
    ")"
   ]
  },
  {
   "cell_type": "code",
   "execution_count": 171,
   "id": "9625f05f",
   "metadata": {},
   "outputs": [
    {
     "name": "stdout",
     "output_type": "stream",
     "text": [
      "['10000000AIDOGEUSDT', '1000000BABYDOGEUSDT', '1000000MOGUSDT', '1000000PEIPEIUSDT', '10000COQUSDT', '10000LADYSUSDT', '10000NFTUSDT', '10000SATSUSDT', '10000WENUSDT', '1000APUUSDT', '1000BEERUSDT', '1000BONKUSDT', '1000BTTUSDT', '1000CATUSDT', '1000FLOKIUSDT', '1000LUNCUSDT', '1000NEIROCTOUSDT', '1000PEPEUSDT', '1000RATSUSDT', '1000TURBOUSDT', '1000XECUSDT', '1CATUSDT', '1INCHUSDT', 'A8USDT', 'AAVEUSDT', 'ACEUSDT', 'ACHUSDT', 'ADAUSDT', 'AERGOUSDT', 'AEROUSDT', 'AEVOUSDT', 'AGIUSDT', 'AGLDUSDT', 'AIOZUSDT', 'AIUSDT', 'AKROUSDT', 'AKTUSDT', 'ALGOUSDT', 'ALICEUSDT', 'ALPACAUSDT', 'ALPHAUSDT', 'ALTUSDT', 'AMBUSDT', 'ANKRUSDT', 'APEUSDT', 'API3USDT', 'APTUSDT', 'ARBUSDT', 'ARKMUSDT', 'ARKUSDT', 'ARPAUSDT', 'ARUSDT', 'ASTRUSDT', 'ATAUSDT', 'ATHUSDT', 'ATOMUSDT', 'AUCTIONUSDT', 'AUDIOUSDT', 'AVAILUSDT', 'AVAXUSDT', 'AXLUSDT', 'AXSUSDT', 'BADGERUSDT', 'BAKEUSDT', 'BALUSDT', 'BANANAUSDT', 'BANDUSDT', 'BATUSDT', 'BBUSDT', 'BCHUSDT', 'BEAMUSDT', 'BELUSDT', 'BENDOGUSDT', 'BICOUSDT', 'BIGTIMEUSDT', 'BLASTUSDT', 'BLURUSDT', 'BLZUSDT', 'BNBUSDT', 'BNTUSDT', 'BNXUSDT', 'BOBAUSDT', 'BOMEUSDT', 'BONDUSDT', 'BRETTUSDT', 'BSVUSDT', 'BSWUSDT', 'BTCUSDT', 'C98USDT', 'CAKEUSDT', 'CATIUSDT', 'CEEKUSDT', 'CELOUSDT', 'CELRUSDT', 'CETUSUSDT', 'CFXUSDT', 'CHESSUSDT', 'CHRUSDT', 'CHZUSDT', 'CKBUSDT', 'CLOUDUSDT', 'COMBOUSDT', 'COMPUSDT', 'COREUSDT', 'COSUSDT', 'COTIUSDT', 'CROUSDT', 'CRVUSDT', 'CTCUSDT', 'CTKUSDT', 'CTSIUSDT', 'CVCUSDT', 'CVXUSDT', 'CYBERUSDT', 'DAOUSDT', 'DARUSDT', 'DASHUSDT', 'DATAUSDT', 'DEGENUSDT', 'DENTUSDT', 'DEXEUSDT', 'DGBUSDT', 'DODOUSDT', 'DOGEUSDT', 'DOGSUSDT', 'DOGUSDT', 'DOP1USDT', 'DOTUSDT', 'DRIFTUSDT', 'DUSKUSDT', 'DYDXUSDT', 'DYMUSDT', 'EDUUSDT', 'EGLDUSDT', 'EIGENUSDT', 'ENAUSDT', 'ENJUSDT', 'ENSUSDT', 'EOSUSDT', 'ETCUSDT', 'ETHBTCUSDT', 'ETHFIUSDT', 'ETHUSDT', 'ETHWUSDT', 'FDUSDUSDT', 'FILUSDT', 'FIREUSDT', 'FITFIUSDT', 'FLMUSDT', 'FLOWUSDT', 'FLRUSDT', 'FLUXUSDT', 'FORTHUSDT', 'FOXYUSDT', 'FTMUSDT', 'FTNUSDT', 'FUNUSDT', 'FXSUSDT', 'GALAUSDT', 'GASUSDT', 'GFTUSDT', 'GLMRUSDT', 'GLMUSDT', 'GMEUSDT', 'GMTUSDT', 'GMXUSDT', 'GNOUSDT', 'GODSUSDT', 'GRTUSDT', 'GTCUSDT', 'GUSDT', 'HBARUSDT', 'HFTUSDT', 'HIFIUSDT', 'HIGHUSDT', 'HMSTRUSDT', 'HNTUSDT', 'HOOKUSDT', 'HOTUSDT', 'ICPUSDT', 'ICXUSDT', 'IDEXUSDT', 'IDUSDT', 'ILVUSDT', 'IMXUSDT', 'INJUSDT', 'IOSTUSDT', 'IOTAUSDT', 'IOTXUSDT', 'IOUSDT', 'JASMYUSDT', 'JOEUSDT', 'JSTUSDT', 'JTOUSDT', 'JUPUSDT', 'KASUSDT', 'KAVAUSDT', 'KDAUSDT', 'KEYUSDT', 'KLAYUSDT', 'KNCUSDT', 'KSMUSDT', 'L3USDT', 'LAIUSDT', 'LDOUSDT', 'LEVERUSDT', 'LINAUSDT', 'LINKUSDT', 'LISTAUSDT', 'LITUSDT', 'LOOKSUSDT', 'LOOMUSDT', 'LPTUSDT', 'LQTYUSDT', 'LRCUSDT', 'LSKUSDT', 'LTCUSDT', 'LTOUSDT', 'LUNA2USDT', 'MAGICUSDT', 'MANAUSDT', 'MANEKIUSDT', 'MANTAUSDT', 'MAPOUSDT', 'MASAUSDT', 'MASKUSDT', 'MAVIAUSDT', 'MAVUSDT', 'MAXUSDT', 'MBLUSDT', 'MBOXUSDT', 'MDTUSDT', 'MEMEUSDT', 'MERLUSDT', 'METISUSDT', 'MEWUSDT', 'MINAUSDT', 'MKRUSDT', 'MNTUSDT', 'MOBILEUSDT', 'MOCAUSDT', 'MONUSDT', 'MOTHERUSDT', 'MOVRUSDT', 'MTLUSDT', 'MYRIAUSDT', 'MYROUSDT', 'NEARUSDT', 'NEIROETHUSDT', 'NEOUSDT', 'NFPUSDT', 'NKNUSDT', 'NMRUSDT', 'NOTUSDT', 'NTRNUSDT', 'NULSUSDT', 'NYANUSDT', 'OGNUSDT', 'OGUSDT', 'OMGUSDT', 'OMNIUSDT', 'OMUSDT', 'ONDOUSDT', 'ONEUSDT', 'ONGUSDT', 'ONTUSDT', 'OPUSDT', 'ORBSUSDT', 'ORCAUSDT', 'ORDERUSDT', 'ORDIUSDT', 'ORNUSDT', 'OSMOUSDT', 'OXTUSDT', 'PAXGUSDT', 'PENDLEUSDT', 'PENGUSDT', 'PEOPLEUSDT', 'PERPUSDT', 'PHAUSDT', 'PHBUSDT', 'PIRATEUSDT', 'PIXELUSDT', 'PIXFIUSDT', 'POLUSDT', 'POLYXUSDT', 'PONKEUSDT', 'POPCATUSDT', 'PORTALUSDT', 'POWRUSDT', 'PRCLUSDT', 'PROMUSDT', 'PYTHUSDT', 'QIUSDT', 'QNTUSDT', 'QTUMUSDT', 'QUICKUSDT', 'RADUSDT', 'RAREUSDT', 'RAYDIUMUSDT', 'RDNTUSDT', 'REEFUSDT', 'RENDERUSDT', 'RENUSDT', 'REQUSDT', 'REZUSDT', 'RIFUSDT', 'RLCUSDT', 'RONUSDT', 'ROSEUSDT', 'RPLUSDT', 'RSRUSDT', 'RSS3USDT', 'RUNEUSDT', 'RVNUSDT', 'SAFEUSDT', 'SAGAUSDT', 'SANDUSDT', 'SCAUSDT', 'SCRTUSDT', 'SCUSDT', 'SEIUSDT', 'SFPUSDT', 'SHIB1000USDT', 'SILLYUSDT', 'SKLUSDT', 'SLERFUSDT', 'SLFUSDT', 'SLPUSDT', 'SNTUSDT', 'SNXUSDT', 'SOLUSDT', 'SPECUSDT', 'SPELLUSDT', 'SSVUSDT', 'STEEMUSDT', 'STGUSDT', 'STMXUSDT', 'STORJUSDT', 'STPTUSDT', 'STRKUSDT', 'STXUSDT', 'SUIUSDT', 'SUNDOGUSDT', 'SUNUSDT', 'SUPERUSDT', 'SUSHIUSDT', 'SWEATUSDT', 'SXPUSDT', 'SYNUSDT', 'SYSUSDT', 'TAIKOUSDT', 'TAOUSDT', 'THETAUSDT', 'TIAUSDT', 'TLMUSDT', 'TNSRUSDT', 'TOKENUSDT', 'TOMIUSDT', 'TONUSDT', 'TRBUSDT', 'TRUUSDT', 'TRXUSDT', 'TUSDT', 'TWTUSDT', 'UMAUSDT', 'UNFIUSDT', 'UNIUSDT', 'USDCUSDT', 'USDEUSDT', 'USTCUSDT', 'UXLINKUSDT', 'VANRYUSDT', 'VELOUSDT', 'VETUSDT', 'VGXUSDT', 'VIDTUSDT', 'VOXELUSDT', 'VRAUSDT', 'VTHOUSDT', 'WAVESUSDT', 'WAXPUSDT', 'WIFUSDT', 'WLDUSDT', 'WOOUSDT', 'WUSDT', 'XAIUSDT', 'XCHUSDT', 'XCNUSDT', 'XEMUSDT', 'XLMUSDT', 'XMRUSDT', 'XNOUSDT', 'XRDUSDT', 'XRPUSDT', 'XTZUSDT', 'XVGUSDT', 'XVSUSDT', 'YFIUSDT', 'YGGUSDT', 'ZBCNUSDT', 'ZCXUSDT', 'ZECUSDT', 'ZENUSDT', 'ZETAUSDT', 'ZEUSUSDT', 'ZILUSDT', 'ZKFUSDT', 'ZKJUSDT', 'ZKUSDT', 'ZROUSDT', 'ZRXUSDT']\n"
     ]
    }
   ],
   "source": [
    "# COPPIE DISPONIBILI\n",
    "result = session.get_tickers(\n",
    "    category=\"linear\"\n",
    ").get('result')['list']\n",
    "\n",
    "tickers = [asset['symbol'] for asset in result if asset['symbol'].endswith('USDT')]\n",
    "print(tickers)"
   ]
  },
  {
   "cell_type": "code",
   "execution_count": 181,
   "id": "3d266e65",
   "metadata": {},
   "outputs": [
    {
     "name": "stdout",
     "output_type": "stream",
     "text": [
      "Collecting data for ETHUSDT\n",
      "Collecting data starting 2024-05-09 07:00:00\n",
      "Collecting data starting 2024-05-17 14:00:00\n",
      "Collecting data starting 2024-05-25 21:00:00\n",
      "Collecting data starting 2024-06-03 04:00:00\n",
      "Collecting data starting 2024-06-11 11:00:00\n",
      "Collecting data starting 2024-06-19 18:00:00\n",
      "Collecting data starting 2024-06-28 01:00:00\n",
      "Collecting data starting 2024-07-06 08:00:00\n",
      "Collecting data starting 2024-07-14 15:00:00\n",
      "Collecting data starting 2024-07-22 22:00:00\n",
      "Collecting data starting 2024-07-31 05:00:00\n",
      "Collecting data starting 2024-08-08 12:00:00\n",
      "Collecting data starting 2024-08-16 19:00:00\n",
      "Collecting data starting 2024-08-25 02:00:00\n",
      "Collecting data starting 2024-09-02 09:00:00\n",
      "Collecting data starting 2024-09-10 16:00:00\n",
      "Collecting data starting 2024-09-16 15:00:00\n",
      "Collecting data starting 2024-09-16 15:00:00\n",
      "Collecting data for BTCUSDT\n",
      "Collecting data starting 2024-05-09 07:00:00\n",
      "Collecting data starting 2024-05-17 14:00:00\n",
      "Collecting data starting 2024-05-25 21:00:00\n",
      "Collecting data starting 2024-06-03 04:00:00\n",
      "Collecting data starting 2024-06-11 11:00:00\n",
      "Collecting data starting 2024-06-19 18:00:00\n",
      "Collecting data starting 2024-06-28 01:00:00\n",
      "Collecting data starting 2024-07-06 08:00:00\n",
      "Collecting data starting 2024-07-14 15:00:00\n",
      "Collecting data starting 2024-07-22 22:00:00\n",
      "Collecting data starting 2024-07-31 05:00:00\n",
      "Collecting data starting 2024-08-08 12:00:00\n",
      "Collecting data starting 2024-08-16 19:00:00\n",
      "Collecting data starting 2024-08-25 02:00:00\n",
      "Collecting data starting 2024-09-02 09:00:00\n",
      "Collecting data starting 2024-09-10 16:00:00\n",
      "Collecting data starting 2024-09-16 15:00:00\n",
      "Collecting data starting 2024-09-16 15:00:00\n"
     ]
    },
    {
     "data": {
      "text/html": [
       "<div><style>\n",
       ".dataframe > thead > tr,\n",
       ".dataframe > tbody > tr {\n",
       "  text-align: right;\n",
       "  white-space: pre-wrap;\n",
       "}\n",
       "</style>\n",
       "<small>shape: (5, 11)</small><table border=\"1\" class=\"dataframe\"><thead><tr><th>timestamp</th><th>open</th><th>high</th><th>low</th><th>close</th><th>volume</th><th>turnover</th><th>date</th><th>symbol</th><th>long_signal</th><th>short_signal</th></tr><tr><td>i64</td><td>f64</td><td>f64</td><td>f64</td><td>f64</td><td>f64</td><td>f64</td><td>datetime[μs]</td><td>str</td><td>i8</td><td>i8</td></tr></thead><tbody><tr><td>1714514400000</td><td>2986.41</td><td>3029.22</td><td>2985.01</td><td>3008.7</td><td>42773.24</td><td>1.2871e8</td><td>2024-04-30 22:00:00</td><td>&quot;ETH&quot;</td><td>0</td><td>0</td></tr><tr><td>1714518000000</td><td>3008.7</td><td>3028.36</td><td>2998.42</td><td>3012.8</td><td>22603.54</td><td>6.8122e7</td><td>2024-04-30 23:00:00</td><td>&quot;ETH&quot;</td><td>0</td><td>0</td></tr><tr><td>1714521600000</td><td>3012.8</td><td>3022.1</td><td>2985.63</td><td>2998.25</td><td>28729.55</td><td>8.6223e7</td><td>2024-05-01 00:00:00</td><td>&quot;ETH&quot;</td><td>0</td><td>0</td></tr><tr><td>1714525200000</td><td>2998.25</td><td>3013.9</td><td>2975.46</td><td>3000.94</td><td>31220.7</td><td>9.3578e7</td><td>2024-05-01 01:00:00</td><td>&quot;ETH&quot;</td><td>0</td><td>-1</td></tr><tr><td>1714528800000</td><td>3000.94</td><td>3002.79</td><td>2955.95</td><td>2985.8</td><td>40039.63</td><td>1.1917e8</td><td>2024-05-01 02:00:00</td><td>&quot;ETH&quot;</td><td>0</td><td>-1</td></tr></tbody></table></div>"
      ],
      "text/plain": [
       "shape: (5, 11)\n",
       "┌─────────────┬─────────┬─────────┬─────────┬───┬─────────────┬────────┬─────────────┬─────────────┐\n",
       "│ timestamp   ┆ open    ┆ high    ┆ low     ┆ … ┆ date        ┆ symbol ┆ long_signal ┆ short_signa │\n",
       "│ ---         ┆ ---     ┆ ---     ┆ ---     ┆   ┆ ---         ┆ ---    ┆ ---         ┆ l           │\n",
       "│ i64         ┆ f64     ┆ f64     ┆ f64     ┆   ┆ datetime[μs ┆ str    ┆ i8          ┆ ---         │\n",
       "│             ┆         ┆         ┆         ┆   ┆ ]           ┆        ┆             ┆ i8          │\n",
       "╞═════════════╪═════════╪═════════╪═════════╪═══╪═════════════╪════════╪═════════════╪═════════════╡\n",
       "│ 17145144000 ┆ 2986.41 ┆ 3029.22 ┆ 2985.01 ┆ … ┆ 2024-04-30  ┆ ETH    ┆ 0           ┆ 0           │\n",
       "│ 00          ┆         ┆         ┆         ┆   ┆ 22:00:00    ┆        ┆             ┆             │\n",
       "│ 17145180000 ┆ 3008.7  ┆ 3028.36 ┆ 2998.42 ┆ … ┆ 2024-04-30  ┆ ETH    ┆ 0           ┆ 0           │\n",
       "│ 00          ┆         ┆         ┆         ┆   ┆ 23:00:00    ┆        ┆             ┆             │\n",
       "│ 17145216000 ┆ 3012.8  ┆ 3022.1  ┆ 2985.63 ┆ … ┆ 2024-05-01  ┆ ETH    ┆ 0           ┆ 0           │\n",
       "│ 00          ┆         ┆         ┆         ┆   ┆ 00:00:00    ┆        ┆             ┆             │\n",
       "│ 17145252000 ┆ 2998.25 ┆ 3013.9  ┆ 2975.46 ┆ … ┆ 2024-05-01  ┆ ETH    ┆ 0           ┆ -1          │\n",
       "│ 00          ┆         ┆         ┆         ┆   ┆ 01:00:00    ┆        ┆             ┆             │\n",
       "│ 17145288000 ┆ 3000.94 ┆ 3002.79 ┆ 2955.95 ┆ … ┆ 2024-05-01  ┆ ETH    ┆ 0           ┆ -1          │\n",
       "│ 00          ┆         ┆         ┆         ┆   ┆ 02:00:00    ┆        ┆             ┆             │\n",
       "└─────────────┴─────────┴─────────┴─────────┴───┴─────────────┴────────┴─────────────┴─────────────┘"
      ]
     },
     "execution_count": 181,
     "metadata": {},
     "output_type": "execute_result"
    }
   ],
   "source": [
    "start = int(dt.datetime(2024, 5, 1).timestamp()* 1000)\n",
    "interval = 60\n",
    "symbols_list = [\"ETHUSDT\", \"BTCUSDT\"]\n",
    "\n",
    "df_orig = pl.DataFrame()\n",
    "for symbol in symbols_list:\n",
    "    print(f\"Collecting data for {symbol}\")\n",
    "    tmp_df = get_data_from(\n",
    "        category='linear',\n",
    "        symbol=symbol,\n",
    "        start=start,\n",
    "        end=None,\n",
    "        interval=interval,\n",
    "    )\n",
    "    tmp_df = tmp_df.with_columns(pl.lit(symbol.replace(\"USDT\",\"\")).alias(\"symbol\"))\n",
    "    tmp_df = tmp_df.with_columns(labelize_output_according_criterion2(tmp_df, \"long\").alias(\"long_signal\"))\n",
    "    tmp_df = tmp_df.with_columns(labelize_output_according_criterion2(tmp_df, \"short\").alias(\"short_signal\"))\n",
    "\n",
    "    df_orig = df_orig.vstack(tmp_df)\n",
    "\n",
    "df_orig.head()"
   ]
  },
  {
   "cell_type": "code",
   "execution_count": 182,
   "id": "234df498",
   "metadata": {},
   "outputs": [],
   "source": [
    "df = df_orig"
   ]
  },
  {
   "cell_type": "code",
   "execution_count": 183,
   "id": "3bf2b337",
   "metadata": {},
   "outputs": [
    {
     "data": {
      "text/html": [
       "<div><style>\n",
       ".dataframe > thead > tr,\n",
       ".dataframe > tbody > tr {\n",
       "  text-align: right;\n",
       "  white-space: pre-wrap;\n",
       "}\n",
       "</style>\n",
       "<small>shape: (10, 11)</small><table border=\"1\" class=\"dataframe\"><thead><tr><th>timestamp</th><th>open</th><th>high</th><th>low</th><th>close</th><th>volume</th><th>turnover</th><th>date</th><th>symbol</th><th>long_signal</th><th>short_signal</th></tr><tr><td>i64</td><td>f64</td><td>f64</td><td>f64</td><td>f64</td><td>f64</td><td>f64</td><td>datetime[μs]</td><td>str</td><td>i8</td><td>i8</td></tr></thead><tbody><tr><td>1715515200000</td><td>2927.09</td><td>2933.55</td><td>2924.27</td><td>2928.8</td><td>8634.64</td><td>2.5285e7</td><td>2024-05-12 12:00:00</td><td>&quot;ETH&quot;</td><td>0</td><td>0</td></tr><tr><td>1715518800000</td><td>2928.8</td><td>2936.9</td><td>2926.06</td><td>2934.91</td><td>6086.23</td><td>1.7843e7</td><td>2024-05-12 13:00:00</td><td>&quot;ETH&quot;</td><td>0</td><td>0</td></tr><tr><td>1715522400000</td><td>2934.91</td><td>2938.5</td><td>2925.57</td><td>2928.42</td><td>7879.38</td><td>2.3095e7</td><td>2024-05-12 14:00:00</td><td>&quot;ETH&quot;</td><td>0</td><td>0</td></tr><tr><td>1715526000000</td><td>2928.42</td><td>2941.99</td><td>2925.2</td><td>2936.7</td><td>10804.22</td><td>3.1698e7</td><td>2024-05-12 15:00:00</td><td>&quot;ETH&quot;</td><td>0</td><td>0</td></tr><tr><td>1715529600000</td><td>2936.7</td><td>2955.11</td><td>2927.6</td><td>2927.61</td><td>26844.65</td><td>7.9033e7</td><td>2024-05-12 16:00:00</td><td>&quot;ETH&quot;</td><td>0</td><td>0</td></tr><tr><td>1715533200000</td><td>2927.61</td><td>2941.77</td><td>2919.24</td><td>2939.71</td><td>14923.21</td><td>4.3748e7</td><td>2024-05-12 17:00:00</td><td>&quot;ETH&quot;</td><td>0</td><td>0</td></tr><tr><td>1715536800000</td><td>2939.71</td><td>2940.55</td><td>2925.75</td><td>2927.12</td><td>6812.72</td><td>1.9988e7</td><td>2024-05-12 18:00:00</td><td>&quot;ETH&quot;</td><td>0</td><td>0</td></tr><tr><td>1715540400000</td><td>2927.12</td><td>2929.4</td><td>2919.65</td><td>2928.0</td><td>5051.21</td><td>1.4773e7</td><td>2024-05-12 19:00:00</td><td>&quot;ETH&quot;</td><td>0</td><td>0</td></tr><tr><td>1715544000000</td><td>2928.0</td><td>2929.03</td><td>2921.39</td><td>2922.15</td><td>3947.71</td><td>1.1548e7</td><td>2024-05-12 20:00:00</td><td>&quot;ETH&quot;</td><td>0</td><td>0</td></tr><tr><td>1715547600000</td><td>2922.15</td><td>2933.11</td><td>2911.38</td><td>2927.71</td><td>12734.86</td><td>3.7191e7</td><td>2024-05-12 21:00:00</td><td>&quot;ETH&quot;</td><td>0</td><td>-1</td></tr></tbody></table></div>"
      ],
      "text/plain": [
       "shape: (10, 11)\n",
       "┌─────────────┬─────────┬─────────┬─────────┬───┬─────────────┬────────┬─────────────┬─────────────┐\n",
       "│ timestamp   ┆ open    ┆ high    ┆ low     ┆ … ┆ date        ┆ symbol ┆ long_signal ┆ short_signa │\n",
       "│ ---         ┆ ---     ┆ ---     ┆ ---     ┆   ┆ ---         ┆ ---    ┆ ---         ┆ l           │\n",
       "│ i64         ┆ f64     ┆ f64     ┆ f64     ┆   ┆ datetime[μs ┆ str    ┆ i8          ┆ ---         │\n",
       "│             ┆         ┆         ┆         ┆   ┆ ]           ┆        ┆             ┆ i8          │\n",
       "╞═════════════╪═════════╪═════════╪═════════╪═══╪═════════════╪════════╪═════════════╪═════════════╡\n",
       "│ 17155152000 ┆ 2927.09 ┆ 2933.55 ┆ 2924.27 ┆ … ┆ 2024-05-12  ┆ ETH    ┆ 0           ┆ 0           │\n",
       "│ 00          ┆         ┆         ┆         ┆   ┆ 12:00:00    ┆        ┆             ┆             │\n",
       "│ 17155188000 ┆ 2928.8  ┆ 2936.9  ┆ 2926.06 ┆ … ┆ 2024-05-12  ┆ ETH    ┆ 0           ┆ 0           │\n",
       "│ 00          ┆         ┆         ┆         ┆   ┆ 13:00:00    ┆        ┆             ┆             │\n",
       "│ 17155224000 ┆ 2934.91 ┆ 2938.5  ┆ 2925.57 ┆ … ┆ 2024-05-12  ┆ ETH    ┆ 0           ┆ 0           │\n",
       "│ 00          ┆         ┆         ┆         ┆   ┆ 14:00:00    ┆        ┆             ┆             │\n",
       "│ 17155260000 ┆ 2928.42 ┆ 2941.99 ┆ 2925.2  ┆ … ┆ 2024-05-12  ┆ ETH    ┆ 0           ┆ 0           │\n",
       "│ 00          ┆         ┆         ┆         ┆   ┆ 15:00:00    ┆        ┆             ┆             │\n",
       "│ 17155296000 ┆ 2936.7  ┆ 2955.11 ┆ 2927.6  ┆ … ┆ 2024-05-12  ┆ ETH    ┆ 0           ┆ 0           │\n",
       "│ 00          ┆         ┆         ┆         ┆   ┆ 16:00:00    ┆        ┆             ┆             │\n",
       "│ 17155332000 ┆ 2927.61 ┆ 2941.77 ┆ 2919.24 ┆ … ┆ 2024-05-12  ┆ ETH    ┆ 0           ┆ 0           │\n",
       "│ 00          ┆         ┆         ┆         ┆   ┆ 17:00:00    ┆        ┆             ┆             │\n",
       "│ 17155368000 ┆ 2939.71 ┆ 2940.55 ┆ 2925.75 ┆ … ┆ 2024-05-12  ┆ ETH    ┆ 0           ┆ 0           │\n",
       "│ 00          ┆         ┆         ┆         ┆   ┆ 18:00:00    ┆        ┆             ┆             │\n",
       "│ 17155404000 ┆ 2927.12 ┆ 2929.4  ┆ 2919.65 ┆ … ┆ 2024-05-12  ┆ ETH    ┆ 0           ┆ 0           │\n",
       "│ 00          ┆         ┆         ┆         ┆   ┆ 19:00:00    ┆        ┆             ┆             │\n",
       "│ 17155440000 ┆ 2928.0  ┆ 2929.03 ┆ 2921.39 ┆ … ┆ 2024-05-12  ┆ ETH    ┆ 0           ┆ 0           │\n",
       "│ 00          ┆         ┆         ┆         ┆   ┆ 20:00:00    ┆        ┆             ┆             │\n",
       "│ 17155476000 ┆ 2922.15 ┆ 2933.11 ┆ 2911.38 ┆ … ┆ 2024-05-12  ┆ ETH    ┆ 0           ┆ -1          │\n",
       "│ 00          ┆         ┆         ┆         ┆   ┆ 21:00:00    ┆        ┆             ┆             │\n",
       "└─────────────┴─────────┴─────────┴─────────┴───┴─────────────┴────────┴─────────────┴─────────────┘"
      ]
     },
     "execution_count": 183,
     "metadata": {},
     "output_type": "execute_result"
    }
   ],
   "source": [
    "df.slice(278,10)"
   ]
  },
  {
   "cell_type": "markdown",
   "id": "1be932e6",
   "metadata": {},
   "source": [
    "# RIMUOVO TIMESTAMP E ROBE SIMILI"
   ]
  },
  {
   "cell_type": "code",
   "execution_count": 153,
   "id": "9b5e4bd0",
   "metadata": {},
   "outputs": [],
   "source": [
    "# cols_list_to_drop = [\"timestamp\",\"turnover\"]\n",
    "# df = df.select(pl.all().exclude(cols_list_to_drop))\n",
    "# df"
   ]
  },
  {
   "cell_type": "markdown",
   "id": "4856caa7",
   "metadata": {},
   "source": [
    "## SCALO FEATURE"
   ]
  },
  {
   "cell_type": "code",
   "execution_count": 184,
   "id": "dc67b260",
   "metadata": {},
   "outputs": [],
   "source": [
    "def scale_features(df, cols_list):\n",
    "    if isinstance(cols_list, list):\n",
    "        for col in cols_list:\n",
    "            df = df.with_columns(df[col].pct_change().alias(f\"{col}_pct_change\"))\n",
    "            df = df.with_columns(((df[col] - df[col].mean()) / df[col].std()).alias(f\"{col}_z_score\"))\n",
    "    elif isinstance(cols_list, str):\n",
    "        col = cols_list\n",
    "        df = df.with_columns(df[col].pct_change().alias(f\"{col}_pct_change\"))\n",
    "        df = df.with_columns(((df[col] - df[col].mean()) / df[col].std()).alias(f\"{col}_z_score\"))\n",
    "    else:\n",
    "        raise ValueError(\"cols_list must be a list or a string\")\n",
    "    \n",
    "    return df"
   ]
  },
  {
   "cell_type": "code",
   "execution_count": 185,
   "id": "2c99f4a8",
   "metadata": {},
   "outputs": [],
   "source": [
    "df_btc = df.filter(pl.col(\"symbol\")==\"BTC\")\n",
    "df_btc = scale_features(df_btc, [\"close\"])"
   ]
  },
  {
   "cell_type": "code",
   "execution_count": 186,
   "id": "71ba1172",
   "metadata": {},
   "outputs": [
    {
     "data": {
      "text/html": [
       "<div><style>\n",
       ".dataframe > thead > tr,\n",
       ".dataframe > tbody > tr {\n",
       "  text-align: right;\n",
       "  white-space: pre-wrap;\n",
       "}\n",
       "</style>\n",
       "<small>shape: (5, 13)</small><table border=\"1\" class=\"dataframe\"><thead><tr><th>timestamp</th><th>open</th><th>high</th><th>low</th><th>close</th><th>volume</th><th>turnover</th><th>date</th><th>symbol</th><th>long_signal</th><th>short_signal</th><th>close_pct_change</th><th>close_z_score</th></tr><tr><td>i64</td><td>f64</td><td>f64</td><td>f64</td><td>f64</td><td>f64</td><td>f64</td><td>datetime[μs]</td><td>str</td><td>i8</td><td>i8</td><td>f64</td><td>f64</td></tr></thead><tbody><tr><td>1714518000000</td><td>60562.8</td><td>60915.6</td><td>60376.0</td><td>60655.9</td><td>2720.286</td><td>1.6492e8</td><td>2024-04-30 23:00:00</td><td>&quot;BTC&quot;</td><td>0</td><td>0</td><td>0.001537</td><td>-0.476067</td></tr><tr><td>1714521600000</td><td>60655.9</td><td>60820.0</td><td>60031.8</td><td>60213.5</td><td>5591.462</td><td>3.3755e8</td><td>2024-05-01 00:00:00</td><td>&quot;BTC&quot;</td><td>0</td><td>0</td><td>-0.007294</td><td>-0.576289</td></tr><tr><td>1714525200000</td><td>60213.5</td><td>60380.0</td><td>59800.1</td><td>60112.5</td><td>5227.323</td><td>3.1411e8</td><td>2024-05-01 01:00:00</td><td>&quot;BTC&quot;</td><td>0</td><td>-1</td><td>-0.001677</td><td>-0.599169</td></tr><tr><td>1714528800000</td><td>60112.5</td><td>60159.4</td><td>59550.0</td><td>59910.0</td><td>6856.557</td><td>4.0974e8</td><td>2024-05-01 02:00:00</td><td>&quot;BTC&quot;</td><td>0</td><td>-1</td><td>-0.003369</td><td>-0.645044</td></tr><tr><td>1714532400000</td><td>59910.0</td><td>60299.0</td><td>59883.0</td><td>60222.9</td><td>2414.526</td><td>1.4508e8</td><td>2024-05-01 03:00:00</td><td>&quot;BTC&quot;</td><td>0</td><td>-1</td><td>0.005223</td><td>-0.574159</td></tr></tbody></table></div>"
      ],
      "text/plain": [
       "shape: (5, 13)\n",
       "┌────────────┬─────────┬─────────┬─────────┬───┬────────────┬────────────┬────────────┬────────────┐\n",
       "│ timestamp  ┆ open    ┆ high    ┆ low     ┆ … ┆ long_signa ┆ short_sign ┆ close_pct_ ┆ close_z_sc │\n",
       "│ ---        ┆ ---     ┆ ---     ┆ ---     ┆   ┆ l          ┆ al         ┆ change     ┆ ore        │\n",
       "│ i64        ┆ f64     ┆ f64     ┆ f64     ┆   ┆ ---        ┆ ---        ┆ ---        ┆ ---        │\n",
       "│            ┆         ┆         ┆         ┆   ┆ i8         ┆ i8         ┆ f64        ┆ f64        │\n",
       "╞════════════╪═════════╪═════════╪═════════╪═══╪════════════╪════════════╪════════════╪════════════╡\n",
       "│ 1714518000 ┆ 60562.8 ┆ 60915.6 ┆ 60376.0 ┆ … ┆ 0          ┆ 0          ┆ 0.001537   ┆ -0.476067  │\n",
       "│ 000        ┆         ┆         ┆         ┆   ┆            ┆            ┆            ┆            │\n",
       "│ 1714521600 ┆ 60655.9 ┆ 60820.0 ┆ 60031.8 ┆ … ┆ 0          ┆ 0          ┆ -0.007294  ┆ -0.576289  │\n",
       "│ 000        ┆         ┆         ┆         ┆   ┆            ┆            ┆            ┆            │\n",
       "│ 1714525200 ┆ 60213.5 ┆ 60380.0 ┆ 59800.1 ┆ … ┆ 0          ┆ -1         ┆ -0.001677  ┆ -0.599169  │\n",
       "│ 000        ┆         ┆         ┆         ┆   ┆            ┆            ┆            ┆            │\n",
       "│ 1714528800 ┆ 60112.5 ┆ 60159.4 ┆ 59550.0 ┆ … ┆ 0          ┆ -1         ┆ -0.003369  ┆ -0.645044  │\n",
       "│ 000        ┆         ┆         ┆         ┆   ┆            ┆            ┆            ┆            │\n",
       "│ 1714532400 ┆ 59910.0 ┆ 60299.0 ┆ 59883.0 ┆ … ┆ 0          ┆ -1         ┆ 0.005223   ┆ -0.574159  │\n",
       "│ 000        ┆         ┆         ┆         ┆   ┆            ┆            ┆            ┆            │\n",
       "└────────────┴─────────┴─────────┴─────────┴───┴────────────┴────────────┴────────────┴────────────┘"
      ]
     },
     "execution_count": 186,
     "metadata": {},
     "output_type": "execute_result"
    }
   ],
   "source": [
    "# Create a list to store the processed dataframes\n",
    "processed_dfs = []\n",
    "\n",
    "for symbol in df[\"symbol\"].unique():\n",
    "    # Filter the dataframe for the current symbol\n",
    "    tmp_df = df.filter(pl.col(\"symbol\") == symbol)\n",
    "    \n",
    "    # Apply scale_features to the filtered dataframe\n",
    "    tmp_df = scale_features(tmp_df, [\"close\"])\n",
    "    \n",
    "    # Append the processed dataframe to the list\n",
    "    processed_dfs.append(tmp_df)\n",
    "\n",
    "# Concatenate all processed dataframes\n",
    "df = pl.concat(processed_dfs)\n",
    "\n",
    "# Drop any null values that might have been introduced\n",
    "df = df.drop_nulls()\n",
    "\n",
    "# Display the first few rows of the updated dataframe\n",
    "df.head()"
   ]
  },
  {
   "cell_type": "code",
   "execution_count": 155,
   "id": "9c5596a7",
   "metadata": {},
   "outputs": [
    {
     "data": {
      "text/html": [
       "<div><style>\n",
       ".dataframe > thead > tr,\n",
       ".dataframe > tbody > tr {\n",
       "  text-align: right;\n",
       "  white-space: pre-wrap;\n",
       "}\n",
       "</style>\n",
       "<small>shape: (5, 12)</small><table border=\"1\" class=\"dataframe\"><thead><tr><th>timestamp</th><th>open</th><th>high</th><th>low</th><th>close</th><th>volume</th><th>turnover</th><th>date</th><th>long_signal</th><th>short_signal</th><th>close_pct_change</th><th>close_z_score</th></tr><tr><td>i64</td><td>f64</td><td>f64</td><td>f64</td><td>f64</td><td>f64</td><td>f64</td><td>datetime[μs]</td><td>i8</td><td>i8</td><td>f64</td><td>f64</td></tr></thead><tbody><tr><td>1672531200000</td><td>1196.8</td><td>1197.1</td><td>1193.15</td><td>1194.5</td><td>19133.21</td><td>2.2864e7</td><td>2023-01-01 00:00:00</td><td>0</td><td>0</td><td>-0.001922</td><td>-1.555648</td></tr><tr><td>1672534800000</td><td>1194.5</td><td>1197.05</td><td>1194.3</td><td>1196.65</td><td>9560.9</td><td>1.1432e7</td><td>2023-01-01 01:00:00</td><td>0</td><td>0</td><td>0.0018</td><td>-1.552668</td></tr><tr><td>1672538400000</td><td>1196.65</td><td>1197.45</td><td>1194.75</td><td>1196.35</td><td>5603.39</td><td>6.7016e6</td><td>2023-01-01 02:00:00</td><td>0</td><td>0</td><td>-0.000251</td><td>-1.553084</td></tr><tr><td>1672542000000</td><td>1196.35</td><td>1196.4</td><td>1191.9</td><td>1194.75</td><td>17862.83</td><td>2.1325e7</td><td>2023-01-01 03:00:00</td><td>0</td><td>0</td><td>-0.001337</td><td>-1.555302</td></tr><tr><td>1672545600000</td><td>1194.75</td><td>1194.75</td><td>1191.35</td><td>1193.95</td><td>13255.81</td><td>1.5817e7</td><td>2023-01-01 04:00:00</td><td>0</td><td>0</td><td>-0.00067</td><td>-1.556411</td></tr></tbody></table></div>"
      ],
      "text/plain": [
       "shape: (5, 12)\n",
       "┌────────────┬─────────┬─────────┬─────────┬───┬────────────┬────────────┬────────────┬────────────┐\n",
       "│ timestamp  ┆ open    ┆ high    ┆ low     ┆ … ┆ long_signa ┆ short_sign ┆ close_pct_ ┆ close_z_sc │\n",
       "│ ---        ┆ ---     ┆ ---     ┆ ---     ┆   ┆ l          ┆ al         ┆ change     ┆ ore        │\n",
       "│ i64        ┆ f64     ┆ f64     ┆ f64     ┆   ┆ ---        ┆ ---        ┆ ---        ┆ ---        │\n",
       "│            ┆         ┆         ┆         ┆   ┆ i8         ┆ i8         ┆ f64        ┆ f64        │\n",
       "╞════════════╪═════════╪═════════╪═════════╪═══╪════════════╪════════════╪════════════╪════════════╡\n",
       "│ 1672531200 ┆ 1196.8  ┆ 1197.1  ┆ 1193.15 ┆ … ┆ 0          ┆ 0          ┆ -0.001922  ┆ -1.555648  │\n",
       "│ 000        ┆         ┆         ┆         ┆   ┆            ┆            ┆            ┆            │\n",
       "│ 1672534800 ┆ 1194.5  ┆ 1197.05 ┆ 1194.3  ┆ … ┆ 0          ┆ 0          ┆ 0.0018     ┆ -1.552668  │\n",
       "│ 000        ┆         ┆         ┆         ┆   ┆            ┆            ┆            ┆            │\n",
       "│ 1672538400 ┆ 1196.65 ┆ 1197.45 ┆ 1194.75 ┆ … ┆ 0          ┆ 0          ┆ -0.000251  ┆ -1.553084  │\n",
       "│ 000        ┆         ┆         ┆         ┆   ┆            ┆            ┆            ┆            │\n",
       "│ 1672542000 ┆ 1196.35 ┆ 1196.4  ┆ 1191.9  ┆ … ┆ 0          ┆ 0          ┆ -0.001337  ┆ -1.555302  │\n",
       "│ 000        ┆         ┆         ┆         ┆   ┆            ┆            ┆            ┆            │\n",
       "│ 1672545600 ┆ 1194.75 ┆ 1194.75 ┆ 1191.35 ┆ … ┆ 0          ┆ 0          ┆ -0.00067   ┆ -1.556411  │\n",
       "│ 000        ┆         ┆         ┆         ┆   ┆            ┆            ┆            ┆            │\n",
       "└────────────┴─────────┴─────────┴─────────┴───┴────────────┴────────────┴────────────┴────────────┘"
      ]
     },
     "execution_count": 155,
     "metadata": {},
     "output_type": "execute_result"
    }
   ],
   "source": [
    "for symbol in df[\"symbol\"].unique():\n",
    "    tmp_df = scale_features(df.filter(pl.col(\"symbol\")==symbol), [\"close\"])\n",
    "    df_orig = df_orig.vstack(tmp_df)\n",
    "    df = df.drop_nulls()\n",
    "    df.head()"
   ]
  },
  {
   "cell_type": "code",
   "execution_count": 190,
   "id": "d3821b3a",
   "metadata": {},
   "outputs": [
    {
     "data": {
      "text/plain": [
       "True"
      ]
     },
     "execution_count": 190,
     "metadata": {},
     "output_type": "execute_result"
    }
   ],
   "source": [
    "df_btc.drop_nulls().equals(df.filter(pl.col(\"symbol\")==\"BTC\"))"
   ]
  },
  {
   "cell_type": "markdown",
   "id": "f07eee13",
   "metadata": {},
   "source": [
    "# Creo Feature"
   ]
  },
  {
   "cell_type": "code",
   "execution_count": 158,
   "id": "4bdc8149",
   "metadata": {},
   "outputs": [
    {
     "data": {
      "text/html": [
       "<div><style>\n",
       ".dataframe > thead > tr,\n",
       ".dataframe > tbody > tr {\n",
       "  text-align: right;\n",
       "  white-space: pre-wrap;\n",
       "}\n",
       "</style>\n",
       "<small>shape: (5, 23)</small><table border=\"1\" class=\"dataframe\"><thead><tr><th>timestamp</th><th>open</th><th>high</th><th>low</th><th>close</th><th>volume</th><th>turnover</th><th>date</th><th>long_signal</th><th>short_signal</th><th>close_pct_change</th><th>close_z_score</th><th>SMA_close_z_score_13</th><th>SMA_close_13</th><th>SMA_close_z_score_50</th><th>SMA_close_50</th><th>SMA_close_z_score_100</th><th>SMA_close_100</th><th>SMA_close_z_score_200</th><th>SMA_close_200</th><th>dow</th><th>month</th><th>hour</th></tr><tr><td>i64</td><td>f64</td><td>f64</td><td>f64</td><td>f64</td><td>f64</td><td>f64</td><td>datetime[μs]</td><td>i8</td><td>i8</td><td>f64</td><td>f64</td><td>f64</td><td>f64</td><td>f64</td><td>f64</td><td>f64</td><td>f64</td><td>f64</td><td>f64</td><td>i8</td><td>i8</td><td>i8</td></tr></thead><tbody><tr><td>1673247600000</td><td>1307.55</td><td>1312.05</td><td>1306.5</td><td>1310.75</td><td>18593.63</td><td>2.4357e7</td><td>2023-01-09 07:00:00</td><td>0</td><td>0</td><td>0.002447</td><td>-1.394507</td><td>-1.420652</td><td>1291.888462</td><td>-1.450146</td><td>1270.611</td><td>-1.461238</td><td>1262.609</td><td>-1.491338</td><td>1240.895</td><td>1</td><td>1</td><td>7</td></tr><tr><td>1673251200000</td><td>1310.75</td><td>1319.55</td><td>1306.95</td><td>1308.95</td><td>56770.26</td><td>7.4504e7</td><td>2023-01-09 08:00:00</td><td>0</td><td>0</td><td>-0.001373</td><td>-1.397002</td><td>-1.415886</td><td>1295.326923</td><td>-1.448904</td><td>1271.507</td><td>-1.460458</td><td>1263.172</td><td>-1.490544</td><td>1241.46725</td><td>1</td><td>1</td><td>8</td></tr><tr><td>1673254800000</td><td>1308.95</td><td>1325.85</td><td>1308.25</td><td>1316.35</td><td>82895.43</td><td>1.0919e8</td><td>2023-01-09 09:00:00</td><td>0</td><td>0</td><td>0.005653</td><td>-1.386745</td><td>-1.410864</td><td>1298.95</td><td>-1.447495</td><td>1272.524</td><td>-1.459574</td><td>1263.81</td><td>-1.489715</td><td>1242.06575</td><td>1</td><td>1</td><td>9</td></tr><tr><td>1673258400000</td><td>1316.35</td><td>1327.4</td><td>1315.45</td><td>1321.95</td><td>55810.78</td><td>7.3778e7</td><td>2023-01-09 10:00:00</td><td>0</td><td>0</td><td>0.004254</td><td>-1.378982</td><td>-1.405143</td><td>1303.076923</td><td>-1.445885</td><td>1273.685</td><td>-1.458579</td><td>1264.5275</td><td>-1.488844</td><td>1242.69375</td><td>1</td><td>1</td><td>10</td></tr><tr><td>1673262000000</td><td>1321.95</td><td>1323.5</td><td>1316.15</td><td>1317.5</td><td>33606.75</td><td>4.4365e7</td><td>2023-01-09 11:00:00</td><td>1</td><td>0</td><td>-0.003366</td><td>-1.385151</td><td>-1.399913</td><td>1306.85</td><td>-1.444409</td><td>1274.75</td><td>-1.457648</td><td>1265.1995</td><td>-1.487993</td><td>1243.3075</td><td>1</td><td>1</td><td>11</td></tr></tbody></table></div>"
      ],
      "text/plain": [
       "shape: (5, 23)\n",
       "┌───────────────┬─────────┬─────────┬─────────┬───┬───────────────┬─────┬───────┬──────┐\n",
       "│ timestamp     ┆ open    ┆ high    ┆ low     ┆ … ┆ SMA_close_200 ┆ dow ┆ month ┆ hour │\n",
       "│ ---           ┆ ---     ┆ ---     ┆ ---     ┆   ┆ ---           ┆ --- ┆ ---   ┆ ---  │\n",
       "│ i64           ┆ f64     ┆ f64     ┆ f64     ┆   ┆ f64           ┆ i8  ┆ i8    ┆ i8   │\n",
       "╞═══════════════╪═════════╪═════════╪═════════╪═══╪═══════════════╪═════╪═══════╪══════╡\n",
       "│ 1673247600000 ┆ 1307.55 ┆ 1312.05 ┆ 1306.5  ┆ … ┆ 1240.895      ┆ 1   ┆ 1     ┆ 7    │\n",
       "│ 1673251200000 ┆ 1310.75 ┆ 1319.55 ┆ 1306.95 ┆ … ┆ 1241.46725    ┆ 1   ┆ 1     ┆ 8    │\n",
       "│ 1673254800000 ┆ 1308.95 ┆ 1325.85 ┆ 1308.25 ┆ … ┆ 1242.06575    ┆ 1   ┆ 1     ┆ 9    │\n",
       "│ 1673258400000 ┆ 1316.35 ┆ 1327.4  ┆ 1315.45 ┆ … ┆ 1242.69375    ┆ 1   ┆ 1     ┆ 10   │\n",
       "│ 1673262000000 ┆ 1321.95 ┆ 1323.5  ┆ 1316.15 ┆ … ┆ 1243.3075     ┆ 1   ┆ 1     ┆ 11   │\n",
       "└───────────────┴─────────┴─────────┴─────────┴───┴───────────────┴─────┴───────┴──────┘"
      ]
     },
     "execution_count": 158,
     "metadata": {},
     "output_type": "execute_result"
    }
   ],
   "source": [
    "def extract_date_features(df, date_col):\n",
    "    df = df.with_columns(\n",
    "        pl.col(date_col).dt.weekday().alias(\"dow\"),\n",
    "        pl.col(date_col).dt.month().alias(\"month\"),\n",
    "        pl.col(date_col).dt.hour().alias(\"hour\"),\n",
    "    )\n",
    "\n",
    "    return df\n",
    "\n",
    "moving_averages_list = [13, 50, 100, 200]\n",
    "on_cols = [\"close_z_score\",\"close\"]\n",
    "\n",
    "for window in moving_averages_list:\n",
    "    for col in on_cols:\n",
    "        df = df.with_columns(\n",
    "            (pl.col(col).rolling_mean(window_size=window)).alias(f\"SMA_{col}_{window}\"),\n",
    "        )\n",
    "\n",
    "df = df.drop_nulls()\n",
    "df = extract_date_features(df, \"date\")\n",
    "df.head(5)\n"
   ]
  },
  {
   "cell_type": "code",
   "execution_count": 161,
   "id": "a88c1c99",
   "metadata": {},
   "outputs": [],
   "source": [
    "#FEATURES = [\"volume\",\"close_pct_change\",\"close_z_score\",\"SMA_close_z_score_13\",\"SMA_close_z_score_50\",\"SMA_close_z_score_100\",\"SMA_close_z_score_200\",\"dow\",\"month\",\"hour\"]\n",
    "FEATURES = [\"volume\",\"close_pct_change\",\"close\",\"SMA_close_13\",\"SMA_close_50\",\"SMA_close_100\",\"SMA_close_200\",\"dow\",\"month\",\"hour\"]"
   ]
  },
  {
   "cell_type": "code",
   "execution_count": 162,
   "id": "177b64bd",
   "metadata": {},
   "outputs": [
    {
     "name": "stdout",
     "output_type": "stream",
     "text": [
      "[0]\tvalidation_0-auc:0.82764\tvalidation_1-auc:0.57461\n",
      "[500]\tvalidation_0-auc:0.99899\tvalidation_1-auc:0.53051\n",
      "[1000]\tvalidation_0-auc:1.00000\tvalidation_1-auc:0.53026\n",
      "[1500]\tvalidation_0-auc:1.00000\tvalidation_1-auc:0.52946\n",
      "[1999]\tvalidation_0-auc:1.00000\tvalidation_1-auc:0.52588\n",
      "[0]\tvalidation_0-auc:0.80938\tvalidation_1-auc:0.52675\n",
      "[500]\tvalidation_0-auc:0.99723\tvalidation_1-auc:0.55216\n",
      "[1000]\tvalidation_0-auc:0.99991\tvalidation_1-auc:0.54289\n",
      "[1500]\tvalidation_0-auc:1.00000\tvalidation_1-auc:0.54359\n",
      "[1999]\tvalidation_0-auc:1.00000\tvalidation_1-auc:0.54265\n",
      "[0]\tvalidation_0-auc:0.78668\tvalidation_1-auc:0.46075\n",
      "[500]\tvalidation_0-auc:0.99637\tvalidation_1-auc:0.47761\n",
      "[1000]\tvalidation_0-auc:0.99972\tvalidation_1-auc:0.47118\n",
      "[1500]\tvalidation_0-auc:0.99999\tvalidation_1-auc:0.46845\n",
      "[1999]\tvalidation_0-auc:1.00000\tvalidation_1-auc:0.46475\n",
      "[0]\tvalidation_0-auc:0.76582\tvalidation_1-auc:0.56646\n",
      "[500]\tvalidation_0-auc:0.98949\tvalidation_1-auc:0.58269\n",
      "[1000]\tvalidation_0-auc:0.99828\tvalidation_1-auc:0.57085\n",
      "[1500]\tvalidation_0-auc:0.99968\tvalidation_1-auc:0.56852\n",
      "[1999]\tvalidation_0-auc:0.99994\tvalidation_1-auc:0.57072\n",
      "[0]\tvalidation_0-auc:0.73099\tvalidation_1-auc:0.55985\n",
      "[500]\tvalidation_0-auc:0.97827\tvalidation_1-auc:0.56566\n",
      "[1000]\tvalidation_0-auc:0.99486\tvalidation_1-auc:0.57580\n",
      "[1500]\tvalidation_0-auc:0.99851\tvalidation_1-auc:0.57867\n",
      "[1999]\tvalidation_0-auc:0.99960\tvalidation_1-auc:0.57870\n",
      "Final Train\n"
     ]
    }
   ],
   "source": [
    "tscv = TimeSeriesSplit(n_splits=15, test_size=100)\n",
    "p = {  \n",
    "    'eval_metric':'auc',\n",
    "    'tree_method':'hist',\n",
    "    # 'lambda':5,\n",
    "    #'gamma':2,\n",
    "    'max_depth':6,\n",
    "    # 'scale_pos_weight':2,\n",
    "    'objective':'binary:logistic',\n",
    "    'subsample': .8,\n",
    "    # 'colsample_bytree': .9,\n",
    "    'min_child_weight':1,\n",
    "    'eta':0.02,\n",
    "    'n_estimators':2000\n",
    "}\n",
    "\n",
    "\n",
    "def polars_time_series_cross_val(df: pl.DataFrame, target_var: str, n_splits: int = 5):\n",
    "    tscv = TimeSeriesSplit(n_splits=n_splits)\n",
    "    model = xgb.XGBClassifier(**p)  # Set optimal hyperparameters here\n",
    "\n",
    "    # Cross-validation to find the best hyperparameters\n",
    "    for train_index, test_index in tscv.split(df):\n",
    "        train_data = df.slice(train_index[0], len(train_index))\n",
    "        test_data = df.slice(test_index[0], len(test_index))\n",
    "        \n",
    "        # Splitting features and labels\n",
    "        train_features, train_labels = split_target_features(train_data, target_var=target_var)\n",
    "        val_features, val_labels = split_target_features(test_data, target_var=target_var)\n",
    "\n",
    "        # Fit model (you can include hyperparameter tuning here)\n",
    "        model.fit(train_features.to_pandas(), train_labels.to_pandas(), \n",
    "                  eval_set=[(train_features.to_pandas(), train_labels.to_pandas()), \n",
    "                            (val_features.to_pandas(), val_labels.to_pandas())], \n",
    "                  verbose=500)\n",
    "    \n",
    "    # This loop is only for cross-validation; the model will be re-trained below\n",
    "    return model\n",
    "\n",
    "# Final training using the entire dataset\n",
    "def train_final_model(df: pl.DataFrame, target_var: str):\n",
    "    model = xgb.XGBClassifier(**p)  # Set optimal hyperparameters here\n",
    "    features, labels = split_target_features(df, target_var=target_var)\n",
    "    # Train the final model on the entire dataset\n",
    "    model.fit(features.to_pandas(), labels.to_pandas(), verbose=1)\n",
    "    return model\n",
    "\n",
    "# Usage\n",
    "# Run cross-validation to tune hyperparameters\n",
    "cv_model = polars_time_series_cross_val(df.select(FEATURES + [\"long_signal\"]), target_var='long_signal', n_splits=5)\n",
    "\n",
    "print(\"Final Train\")\n",
    "# Train the final model using the entire dataset\n",
    "final_model = train_final_model(df.select(FEATURES + [\"long_signal\"]), target_var='long_signal')"
   ]
  },
  {
   "cell_type": "code",
   "execution_count": 133,
   "id": "edef4721",
   "metadata": {},
   "outputs": [
    {
     "data": {
      "text/plain": [
       "2000"
      ]
     },
     "execution_count": 133,
     "metadata": {},
     "output_type": "execute_result"
    }
   ],
   "source": [
    "model = xgb.XGBClassifier(**p)  # Set optimal hyperparameters here\n",
    "features, labels = split_target_features(df.select(FEATURES + [\"long_signal\"]), target_var='long_signal')\n",
    "# Train the final model on the entire dataset\n",
    "model.fit(features.to_pandas(), labels.to_pandas(), verbose=True)\n",
    "model.get_num_boosting_rounds()"
   ]
  },
  {
   "cell_type": "code",
   "execution_count": 163,
   "id": "0e93badc",
   "metadata": {},
   "outputs": [],
   "source": [
    "y_hat = model.predict_proba(features.to_pandas())[:,1]"
   ]
  },
  {
   "cell_type": "code",
   "execution_count": 164,
   "id": "ed0e19e8",
   "metadata": {},
   "outputs": [
    {
     "data": {
      "text/plain": [
       "np.float64(1.0)"
      ]
     },
     "execution_count": 164,
     "metadata": {},
     "output_type": "execute_result"
    }
   ],
   "source": [
    "from sklearn.metrics import roc_auc_score\n",
    "roc_auc_score(labels.to_pandas(),y_hat)"
   ]
  },
  {
   "cell_type": "code",
   "execution_count": null,
   "id": "fd653df0",
   "metadata": {},
   "outputs": [],
   "source": []
  }
 ],
 "metadata": {
  "kernelspec": {
   "display_name": "obb",
   "language": "python",
   "name": "python3"
  },
  "language_info": {
   "codemirror_mode": {
    "name": "ipython",
    "version": 3
   },
   "file_extension": ".py",
   "mimetype": "text/x-python",
   "name": "python",
   "nbconvert_exporter": "python",
   "pygments_lexer": "ipython3",
   "version": "3.10.12"
  },
  "vscode": {
   "interpreter": {
    "hash": "dd184c5f03045ecc89fe53694d3e4314236225fa9c7db50520ba8ca1ba4d33a6"
   }
  }
 },
 "nbformat": 4,
 "nbformat_minor": 5
}
